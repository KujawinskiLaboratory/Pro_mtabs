{
 "cells": [
  {
   "cell_type": "markdown",
   "metadata": {},
   "source": [
    "Find KEGG compound information for each strain of Prochlorococcus\n",
    "==\n",
    "Krista Longnecker, Woods Hole Oceanographic Institution\n",
    "==\n",
    "26 July 2017"
   ]
  },
  {
   "cell_type": "code",
   "execution_count": 1,
   "metadata": {
    "collapsed": true
   },
   "outputs": [],
   "source": [
    "#import the pieces needed to deal with regular expressions (strings)\n",
    "import re"
   ]
  },
  {
   "cell_type": "code",
   "execution_count": 2,
   "metadata": {
    "collapsed": true
   },
   "outputs": [],
   "source": [
    "#import the Biopython module needed for this analysis\n",
    "from Bio import SeqIO\n",
    "from Bio.KEGG.REST import *\n",
    "from Bio.KEGG.KGML import KGML_parser"
   ]
  },
  {
   "cell_type": "code",
   "execution_count": 11,
   "metadata": {
    "collapsed": true
   },
   "outputs": [],
   "source": [
    "#import the pieces we will need for the plotting\n",
    "from matplotlib_venn import venn3_unweighted\n",
    "import matplotlib.pyplot as plt\n",
    "%matplotlib inline"
   ]
  },
  {
   "cell_type": "code",
   "execution_count": 3,
   "metadata": {
    "collapsed": true
   },
   "outputs": [],
   "source": [
    "#set up a function to clean up the information from a KEGG query\n",
    "def trimGenes(geneString):\n",
    "    export_trimGenes = []\n",
    "    current_section = None\n",
    "    for line in geneString.rstrip().split(\"\\n\"):\n",
    "        #tp = line[5:13] #this includes the three digit species code\n",
    "        r = line.find('ko:')\n",
    "        tp = line[r+3 : r+9]\n",
    "        export_trimGenes.append(tp)\n",
    "    return export_trimGenes"
   ]
  },
  {
   "cell_type": "code",
   "execution_count": 4,
   "metadata": {
    "collapsed": true
   },
   "outputs": [],
   "source": [
    "#Pull the full set of compounds for each strain.\n",
    "pmtGenes = trimGenes(kegg_link(\"ko\",\"pmt\").read())\n",
    "pmgGenes = trimGenes(kegg_link(\"ko\",\"pmg\").read())\n",
    "prmGenes = trimGenes(kegg_link(\"ko\",\"prm\").read())"
   ]
  },
  {
   "cell_type": "code",
   "execution_count": 5,
   "metadata": {
    "collapsed": false
   },
   "outputs": [],
   "source": [
    "#setup the strings to match reactions and compounds first\n",
    "rnString = re.compile('(?:[rn:R])(\\d+)$') #will return R00190\n",
    "cpdString = re.compile('(?:[cpd:C])(\\d+)$') #will return C00190"
   ]
  },
  {
   "cell_type": "code",
   "execution_count": 6,
   "metadata": {
    "collapsed": true
   },
   "outputs": [],
   "source": [
    "#Gather a list of the number of compounds, genes and reactions for this strain\n",
    "# pmg = 9301, HLII\n",
    "\n",
    "pmg_countCpd = []\n",
    "pmg_countGene = []\n",
    "pmg_countRxn = []\n",
    "        \n",
    "for gen in pmgGenes: #go through each gene...one at a time\n",
    "    rnList = kegg_link('reaction',gen).read() #get the list of reactions for that gene\n",
    "    #can have cases where there is a gene and no reaction (K02906 for example). This returns rnList = '\\n'\n",
    "    #since this is not actually empty...need a few way to filter those out\n",
    "    test = '\\n'\n",
    "    if test != rnList:\n",
    "        for line in rnList.rstrip().split('\\n'):\n",
    "            m = rnString.search(line) #get the reaction number\n",
    "            pmg_countRxn.append(m.group(0))\n",
    "            cpdList = kegg_link('cpd',m.group(0)).read() #now go get the compounds for that reaction\n",
    "            del m #have to do this so I can pickle the whole thing later...\n",
    "            #can have no compounds in a reaction (only glycans, begin with G, nothing I have matched)\n",
    "            if len(cpdList) > 1: #will be true if cpdList includes compounds\n",
    "                for line2 in cpdList.rstrip().split('\\n'):\n",
    "                    m2 = cpdString.search(line2).group(0)\n",
    "                    pmg_countCpd.append(m2) \n",
    "                    pmg_countGene.append(gen)"
   ]
  },
  {
   "cell_type": "code",
   "execution_count": 7,
   "metadata": {
    "collapsed": true
   },
   "outputs": [],
   "source": [
    "#Gather a list of the number of compounds, genes and reactions for this strain\n",
    "# prm = 0801, LLI\n",
    "prm_countCpd = []\n",
    "prm_countGene = []\n",
    "prm_countRxn = []\n",
    "\n",
    "for gen in prmGenes: #go through each gene...one at a time\n",
    "    rnList = kegg_link('reaction',gen).read() #get the list of reactions for that gene\n",
    "    #can have cases where there is a gene and no reaction (K02906 for example). This returns rnList = '\\n'\n",
    "    #since this is not actually empty...need a few way to filter those out\n",
    "    test = '\\n'\n",
    "    if test != rnList:\n",
    "        for line in rnList.rstrip().split('\\n'):\n",
    "            m = rnString.search(line) #get the reaction number\n",
    "            prm_countRxn.append(m.group(0))\n",
    "            cpdList = kegg_link('cpd',m.group(0)).read() #now go get the compounds for that reaction\n",
    "            del m #have to do this so I can pickle the whole thing later...\n",
    "            #can have no compounds in a reaction (only glycans, begin with G, nothing I have matched)\n",
    "            if len(cpdList) > 1: #will be true if cpdList includes compounds\n",
    "                for line2 in cpdList.rstrip().split('\\n'):\n",
    "                    m2 = cpdString.search(line2).group(0)\n",
    "                    prm_countCpd.append(m2) \n",
    "                    prm_countGene.append(gen)"
   ]
  },
  {
   "cell_type": "code",
   "execution_count": 8,
   "metadata": {
    "collapsed": true
   },
   "outputs": [],
   "source": [
    "#Gather a list of the number of compounds, genes and reactions for this strain\n",
    "# pmt = 9313, LLII\n",
    "\n",
    "pmt_countCpd = []\n",
    "pmt_countGene = []\n",
    "pmt_countRxn = []\n",
    "\n",
    "for gen in pmtGenes: #go through each gene...one at a time\n",
    "    rnList = kegg_link('reaction',gen).read() #get the list of reactions for that gene\n",
    "    #can have cases where there is a gene and no reaction (K02906 for example). This returns rnList = '\\n'\n",
    "    #since this is not actually empty...need a few way to filter those out\n",
    "    test = '\\n'\n",
    "    if test != rnList:\n",
    "        for line in rnList.rstrip().split('\\n'):\n",
    "            m = rnString.search(line) #get the reaction number\n",
    "            pmt_countRxn.append(m.group(0))\n",
    "            cpdList = kegg_link('cpd',m.group(0)).read() #now go get the compounds for that reaction\n",
    "            del m #have to do this so I can pickle the whole thing later...\n",
    "            #can have no compounds in a reaction (only glycans, begin with G, nothing I have matched)\n",
    "            if len(cpdList) > 1: #will be true if cpdList includes compounds\n",
    "                for line2 in cpdList.rstrip().split('\\n'):\n",
    "                    m2 = cpdString.search(line2).group(0)\n",
    "                    pmt_countCpd.append(m2) \n",
    "                    pmt_countGene.append(gen)\n",
    "\n"
   ]
  },
  {
   "cell_type": "code",
   "execution_count": 12,
   "metadata": {
    "collapsed": false
   },
   "outputs": [
    {
     "data": {
      "image/png": "[encoded data removed]",
      "text/plain": [
       "<matplotlib.figure.Figure at 0x823ba20>"
      ]
     },
     "metadata": {},
     "output_type": "display_data"
    }
   ],
   "source": [
    "venn3_unweighted(subsets = (set(pmg_countCpd),set(prm_countCpd),set(pmt_countCpd)),set_labels = \n",
    "                 ('pmg/9301/HLII','prm/0801/LLI','pmt/9313/LLIV'))\n",
    "plt.title('KEGG: set of compounds for the three strains')\n",
    "plt.savefig('Pro_cpds.png')"
   ]
  },
  {
   "cell_type": "code",
   "execution_count": null,
   "metadata": {
    "collapsed": true
   },
   "outputs": [],
   "source": []
  }
 ],
 "metadata": {
  "anaconda-cloud": {},
  "kernelspec": {
   "display_name": "Python [conda root]",
   "language": "python",
   "name": "conda-root-py"
  },
  "language_info": {
   "codemirror_mode": {
    "name": "ipython",
    "version": 3
   },
   "file_extension": ".py",
   "mimetype": "text/x-python",
   "name": "python",
   "nbconvert_exporter": "python",
   "pygments_lexer": "ipython3",
   "version": "3.5.2"
  }
 },
 "nbformat": 4,
 "nbformat_minor": 1
}
