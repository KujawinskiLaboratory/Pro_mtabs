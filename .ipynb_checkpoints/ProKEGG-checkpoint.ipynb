{
 "cells": [
  {
   "cell_type": "markdown",
   "metadata": {},
   "source": [
    "#Chisholm / Prochlorococcus project\n",
    "##Use Python and its various libraries to link the KEGG compound information with pathways\n",
    "###KLongnecker, 4/27/2017\n",
    "Updated to use the compound data corrected for extraction efficiency for all compounds."
   ]
  },
  {
   "cell_type": "code",
   "execution_count": 8,
   "metadata": {
    "collapsed": false
   },
   "outputs": [],
   "source": [
    "if False:\n",
    "    #this will work to reload whatever I had\n",
    "    import dill\n",
    "    dill.load_session('globalsave.pkl')"
   ]
  },
  {
   "cell_type": "code",
   "execution_count": 9,
   "metadata": {
    "collapsed": false
   },
   "outputs": [],
   "source": [
    "if False:\n",
    "    %reset"
   ]
  },
  {
   "cell_type": "code",
   "execution_count": 13,
   "metadata": {
    "collapsed": false
   },
   "outputs": [],
   "source": [
    "import pandas as pd\n",
    "import numpy as np\n",
    "import re\n",
    "import os\n",
    "import glob\n",
    "import math\n",
    "from imp import reload\n",
    "import pdb\n",
    "\n",
    "import palettable as pal\n",
    "import matplotlib.pyplot as plt\n",
    "import matplotlib as mpl \n",
    "mpl.rcParams['pdf.fonttype'] = 42\n",
    "\n",
    "from matplotlib_venn import venn2\n",
    "from matplotlib_venn import venn3\n",
    "from matplotlib_venn import venn3_unweighted\n",
    "\n",
    "from Bio import SeqIO\n",
    "from Bio.KEGG.REST import *\n",
    "from Bio.KEGG.KGML import KGML_parser\n",
    "from Bio.Graphics.KGML_vis import KGMLCanvas\n",
    "from IPython.display import Image, HTML\n",
    "\n",
    "#used this to step into the function and debug it, also need line with Tracer()() \n",
    "from IPython.core.debugger import Tracer \n",
    "#os._exit(1) #this should get me out of the debugging...\n",
    "\n",
    "%matplotlib inline"
   ]
  },
  {
   "cell_type": "code",
   "execution_count": 11,
   "metadata": {
    "collapsed": false
   },
   "outputs": [
    {
     "data": {
      "text/html": [
       "<div>\n",
       "<table border=\"1\" class=\"dataframe\">\n",
       "  <thead>\n",
       "    <tr style=\"text-align: right;\">\n",
       "      <th></th>\n",
       "      <th>mtabNames</th>\n",
       "      <th>extEff</th>\n",
       "      <th>Plimited_extracellular_s9301ax_50</th>\n",
       "      <th>Plimited_filter_s9301ax_50</th>\n",
       "      <th>replete_extracellular_s9301ax_10</th>\n",
       "      <th>replete_extracellular_s9301ax_50</th>\n",
       "      <th>replete_extracellular_s0801ax_10</th>\n",
       "      <th>replete_extracellular_s9313ax_5</th>\n",
       "      <th>replete_extracellular_s9313ax_10</th>\n",
       "      <th>replete_filter_s9301ax_10</th>\n",
       "      <th>replete_filter_s9301ax_50</th>\n",
       "      <th>replete_filter_s0801ax_10</th>\n",
       "      <th>replete_filter_s9313ax_5</th>\n",
       "      <th>replete_filter_s9313ax_10</th>\n",
       "    </tr>\n",
       "    <tr>\n",
       "      <th>KEGG</th>\n",
       "      <th></th>\n",
       "      <th></th>\n",
       "      <th></th>\n",
       "      <th></th>\n",
       "      <th></th>\n",
       "      <th></th>\n",
       "      <th></th>\n",
       "      <th></th>\n",
       "      <th></th>\n",
       "      <th></th>\n",
       "      <th></th>\n",
       "      <th></th>\n",
       "      <th></th>\n",
       "      <th></th>\n",
       "    </tr>\n",
       "  </thead>\n",
       "  <tbody>\n",
       "    <tr>\n",
       "      <th>C00196</th>\n",
       "      <td>2-3-dihydroxybenzoic acid</td>\n",
       "      <td>100.9</td>\n",
       "      <td>0.000000e+00</td>\n",
       "      <td>0.0</td>\n",
       "      <td>0.000000e+00</td>\n",
       "      <td>0.000000e+00</td>\n",
       "      <td>0.000000e+00</td>\n",
       "      <td>0.000000e+00</td>\n",
       "      <td>0.000000e+00</td>\n",
       "      <td>0.000000e+00</td>\n",
       "      <td>0.000000e+00</td>\n",
       "      <td>0.000000e+00</td>\n",
       "      <td>0.000000e+00</td>\n",
       "      <td>0.000000e+00</td>\n",
       "    </tr>\n",
       "    <tr>\n",
       "      <th>C19675</th>\n",
       "      <td>2-3-dihydroxypropane1sulfonate</td>\n",
       "      <td>0.6</td>\n",
       "      <td>1.502503e-09</td>\n",
       "      <td>0.0</td>\n",
       "      <td>7.559786e-09</td>\n",
       "      <td>0.000000e+00</td>\n",
       "      <td>8.830372e-09</td>\n",
       "      <td>0.000000e+00</td>\n",
       "      <td>0.000000e+00</td>\n",
       "      <td>0.000000e+00</td>\n",
       "      <td>0.000000e+00</td>\n",
       "      <td>0.000000e+00</td>\n",
       "      <td>0.000000e+00</td>\n",
       "      <td>0.000000e+00</td>\n",
       "    </tr>\n",
       "    <tr>\n",
       "      <th>C08276</th>\n",
       "      <td>3-mercapto proprionate</td>\n",
       "      <td>88.6</td>\n",
       "      <td>0.000000e+00</td>\n",
       "      <td>0.0</td>\n",
       "      <td>0.000000e+00</td>\n",
       "      <td>0.000000e+00</td>\n",
       "      <td>0.000000e+00</td>\n",
       "      <td>0.000000e+00</td>\n",
       "      <td>0.000000e+00</td>\n",
       "      <td>0.000000e+00</td>\n",
       "      <td>0.000000e+00</td>\n",
       "      <td>0.000000e+00</td>\n",
       "      <td>0.000000e+00</td>\n",
       "      <td>0.000000e+00</td>\n",
       "    </tr>\n",
       "    <tr>\n",
       "      <th>C00141</th>\n",
       "      <td>3-methyl-2-oxobutanoic acid</td>\n",
       "      <td>10.1</td>\n",
       "      <td>1.486869e-06</td>\n",
       "      <td>0.0</td>\n",
       "      <td>1.256681e-06</td>\n",
       "      <td>1.702101e-06</td>\n",
       "      <td>3.662957e-08</td>\n",
       "      <td>1.372256e-05</td>\n",
       "      <td>1.173703e-05</td>\n",
       "      <td>0.000000e+00</td>\n",
       "      <td>0.000000e+00</td>\n",
       "      <td>0.000000e+00</td>\n",
       "      <td>0.000000e+00</td>\n",
       "      <td>0.000000e+00</td>\n",
       "    </tr>\n",
       "    <tr>\n",
       "      <th>C00671</th>\n",
       "      <td>3-methyl-2-oxopentanoic acid</td>\n",
       "      <td>50.1</td>\n",
       "      <td>0.000000e+00</td>\n",
       "      <td>0.0</td>\n",
       "      <td>1.149823e-07</td>\n",
       "      <td>2.144933e-07</td>\n",
       "      <td>0.000000e+00</td>\n",
       "      <td>6.076076e-07</td>\n",
       "      <td>6.064849e-07</td>\n",
       "      <td>1.499082e-09</td>\n",
       "      <td>1.232101e-09</td>\n",
       "      <td>2.171711e-09</td>\n",
       "      <td>1.414847e-10</td>\n",
       "      <td>2.189543e-09</td>\n",
       "    </tr>\n",
       "  </tbody>\n",
       "</table>\n",
       "</div>"
      ],
      "text/plain": [
       "                             mtabNames  extEff  \\\n",
       "KEGG                                             \n",
       "C00196       2-3-dihydroxybenzoic acid   100.9   \n",
       "C19675  2-3-dihydroxypropane1sulfonate     0.6   \n",
       "C08276          3-mercapto proprionate    88.6   \n",
       "C00141     3-methyl-2-oxobutanoic acid    10.1   \n",
       "C00671    3-methyl-2-oxopentanoic acid    50.1   \n",
       "\n",
       "        Plimited_extracellular_s9301ax_50  Plimited_filter_s9301ax_50  \\\n",
       "KEGG                                                                    \n",
       "C00196                       0.000000e+00                         0.0   \n",
       "C19675                       1.502503e-09                         0.0   \n",
       "C08276                       0.000000e+00                         0.0   \n",
       "C00141                       1.486869e-06                         0.0   \n",
       "C00671                       0.000000e+00                         0.0   \n",
       "\n",
       "        replete_extracellular_s9301ax_10  replete_extracellular_s9301ax_50  \\\n",
       "KEGG                                                                         \n",
       "C00196                      0.000000e+00                      0.000000e+00   \n",
       "C19675                      7.559786e-09                      0.000000e+00   \n",
       "C08276                      0.000000e+00                      0.000000e+00   \n",
       "C00141                      1.256681e-06                      1.702101e-06   \n",
       "C00671                      1.149823e-07                      2.144933e-07   \n",
       "\n",
       "        replete_extracellular_s0801ax_10  replete_extracellular_s9313ax_5  \\\n",
       "KEGG                                                                        \n",
       "C00196                      0.000000e+00                     0.000000e+00   \n",
       "C19675                      8.830372e-09                     0.000000e+00   \n",
       "C08276                      0.000000e+00                     0.000000e+00   \n",
       "C00141                      3.662957e-08                     1.372256e-05   \n",
       "C00671                      0.000000e+00                     6.076076e-07   \n",
       "\n",
       "        replete_extracellular_s9313ax_10  replete_filter_s9301ax_10  \\\n",
       "KEGG                                                                  \n",
       "C00196                      0.000000e+00               0.000000e+00   \n",
       "C19675                      0.000000e+00               0.000000e+00   \n",
       "C08276                      0.000000e+00               0.000000e+00   \n",
       "C00141                      1.173703e-05               0.000000e+00   \n",
       "C00671                      6.064849e-07               1.499082e-09   \n",
       "\n",
       "        replete_filter_s9301ax_50  replete_filter_s0801ax_10  \\\n",
       "KEGG                                                           \n",
       "C00196               0.000000e+00               0.000000e+00   \n",
       "C19675               0.000000e+00               0.000000e+00   \n",
       "C08276               0.000000e+00               0.000000e+00   \n",
       "C00141               0.000000e+00               0.000000e+00   \n",
       "C00671               1.232101e-09               2.171711e-09   \n",
       "\n",
       "        replete_filter_s9313ax_5  replete_filter_s9313ax_10  \n",
       "KEGG                                                         \n",
       "C00196              0.000000e+00               0.000000e+00  \n",
       "C19675              0.000000e+00               0.000000e+00  \n",
       "C08276              0.000000e+00               0.000000e+00  \n",
       "C00141              0.000000e+00               0.000000e+00  \n",
       "C00671              1.414847e-10               2.189543e-09  "
      ]
     },
     "execution_count": 11,
     "metadata": {},
     "output_type": "execute_result"
    }
   ],
   "source": [
    "mtabFile = 'ChisholmPro_cellSpecific_KEGGexport.2017.04.27_v1.csv' #first column is KEGG C number\n",
    "mtabData=pd.read_csv(mtabFile, index_col='KEGG')\n",
    "mtabData.head()"
   ]
  },
  {
   "cell_type": "code",
   "execution_count": 12,
   "metadata": {
    "collapsed": false
   },
   "outputs": [
    {
     "data": {
      "text/html": [
       "<div>\n",
       "<table border=\"1\" class=\"dataframe\">\n",
       "  <thead>\n",
       "    <tr style=\"text-align: right;\">\n",
       "      <th></th>\n",
       "      <th>Plimited_extracellular_s9301ax_50</th>\n",
       "      <th>Plimited_filter_s9301ax_50</th>\n",
       "      <th>replete_extracellular_s9301ax_10</th>\n",
       "      <th>replete_extracellular_s9301ax_50</th>\n",
       "      <th>replete_extracellular_s0801ax_10</th>\n",
       "      <th>replete_extracellular_s9313ax_5</th>\n",
       "      <th>replete_extracellular_s9313ax_10</th>\n",
       "      <th>replete_filter_s9301ax_10</th>\n",
       "      <th>replete_filter_s9301ax_50</th>\n",
       "      <th>replete_filter_s0801ax_10</th>\n",
       "      <th>replete_filter_s9313ax_5</th>\n",
       "      <th>replete_filter_s9313ax_10</th>\n",
       "    </tr>\n",
       "    <tr>\n",
       "      <th>KEGG</th>\n",
       "      <th></th>\n",
       "      <th></th>\n",
       "      <th></th>\n",
       "      <th></th>\n",
       "      <th></th>\n",
       "      <th></th>\n",
       "      <th></th>\n",
       "      <th></th>\n",
       "      <th></th>\n",
       "      <th></th>\n",
       "      <th></th>\n",
       "      <th></th>\n",
       "    </tr>\n",
       "  </thead>\n",
       "  <tbody>\n",
       "    <tr>\n",
       "      <th>C00196</th>\n",
       "      <td>0.000000e+00</td>\n",
       "      <td>0.0</td>\n",
       "      <td>0.000000e+00</td>\n",
       "      <td>0.000000e+00</td>\n",
       "      <td>0.000000e+00</td>\n",
       "      <td>0.000000e+00</td>\n",
       "      <td>0.000000e+00</td>\n",
       "      <td>0.000000e+00</td>\n",
       "      <td>0.000000e+00</td>\n",
       "      <td>0.000000e+00</td>\n",
       "      <td>0.000000e+00</td>\n",
       "      <td>0.000000e+00</td>\n",
       "    </tr>\n",
       "    <tr>\n",
       "      <th>C19675</th>\n",
       "      <td>1.502503e-09</td>\n",
       "      <td>0.0</td>\n",
       "      <td>7.559786e-09</td>\n",
       "      <td>0.000000e+00</td>\n",
       "      <td>8.830372e-09</td>\n",
       "      <td>0.000000e+00</td>\n",
       "      <td>0.000000e+00</td>\n",
       "      <td>0.000000e+00</td>\n",
       "      <td>0.000000e+00</td>\n",
       "      <td>0.000000e+00</td>\n",
       "      <td>0.000000e+00</td>\n",
       "      <td>0.000000e+00</td>\n",
       "    </tr>\n",
       "    <tr>\n",
       "      <th>C08276</th>\n",
       "      <td>0.000000e+00</td>\n",
       "      <td>0.0</td>\n",
       "      <td>0.000000e+00</td>\n",
       "      <td>0.000000e+00</td>\n",
       "      <td>0.000000e+00</td>\n",
       "      <td>0.000000e+00</td>\n",
       "      <td>0.000000e+00</td>\n",
       "      <td>0.000000e+00</td>\n",
       "      <td>0.000000e+00</td>\n",
       "      <td>0.000000e+00</td>\n",
       "      <td>0.000000e+00</td>\n",
       "      <td>0.000000e+00</td>\n",
       "    </tr>\n",
       "    <tr>\n",
       "      <th>C00141</th>\n",
       "      <td>1.486869e-06</td>\n",
       "      <td>0.0</td>\n",
       "      <td>1.256681e-06</td>\n",
       "      <td>1.702101e-06</td>\n",
       "      <td>3.662957e-08</td>\n",
       "      <td>1.372256e-05</td>\n",
       "      <td>1.173703e-05</td>\n",
       "      <td>0.000000e+00</td>\n",
       "      <td>0.000000e+00</td>\n",
       "      <td>0.000000e+00</td>\n",
       "      <td>0.000000e+00</td>\n",
       "      <td>0.000000e+00</td>\n",
       "    </tr>\n",
       "    <tr>\n",
       "      <th>C00671</th>\n",
       "      <td>0.000000e+00</td>\n",
       "      <td>0.0</td>\n",
       "      <td>1.149823e-07</td>\n",
       "      <td>2.144933e-07</td>\n",
       "      <td>0.000000e+00</td>\n",
       "      <td>6.076076e-07</td>\n",
       "      <td>6.064849e-07</td>\n",
       "      <td>1.499082e-09</td>\n",
       "      <td>1.232101e-09</td>\n",
       "      <td>2.171711e-09</td>\n",
       "      <td>1.414847e-10</td>\n",
       "      <td>2.189543e-09</td>\n",
       "    </tr>\n",
       "  </tbody>\n",
       "</table>\n",
       "</div>"
      ],
      "text/plain": [
       "        Plimited_extracellular_s9301ax_50  Plimited_filter_s9301ax_50  \\\n",
       "KEGG                                                                    \n",
       "C00196                       0.000000e+00                         0.0   \n",
       "C19675                       1.502503e-09                         0.0   \n",
       "C08276                       0.000000e+00                         0.0   \n",
       "C00141                       1.486869e-06                         0.0   \n",
       "C00671                       0.000000e+00                         0.0   \n",
       "\n",
       "        replete_extracellular_s9301ax_10  replete_extracellular_s9301ax_50  \\\n",
       "KEGG                                                                         \n",
       "C00196                      0.000000e+00                      0.000000e+00   \n",
       "C19675                      7.559786e-09                      0.000000e+00   \n",
       "C08276                      0.000000e+00                      0.000000e+00   \n",
       "C00141                      1.256681e-06                      1.702101e-06   \n",
       "C00671                      1.149823e-07                      2.144933e-07   \n",
       "\n",
       "        replete_extracellular_s0801ax_10  replete_extracellular_s9313ax_5  \\\n",
       "KEGG                                                                        \n",
       "C00196                      0.000000e+00                     0.000000e+00   \n",
       "C19675                      8.830372e-09                     0.000000e+00   \n",
       "C08276                      0.000000e+00                     0.000000e+00   \n",
       "C00141                      3.662957e-08                     1.372256e-05   \n",
       "C00671                      0.000000e+00                     6.076076e-07   \n",
       "\n",
       "        replete_extracellular_s9313ax_10  replete_filter_s9301ax_10  \\\n",
       "KEGG                                                                  \n",
       "C00196                      0.000000e+00               0.000000e+00   \n",
       "C19675                      0.000000e+00               0.000000e+00   \n",
       "C08276                      0.000000e+00               0.000000e+00   \n",
       "C00141                      1.173703e-05               0.000000e+00   \n",
       "C00671                      6.064849e-07               1.499082e-09   \n",
       "\n",
       "        replete_filter_s9301ax_50  replete_filter_s0801ax_10  \\\n",
       "KEGG                                                           \n",
       "C00196               0.000000e+00               0.000000e+00   \n",
       "C19675               0.000000e+00               0.000000e+00   \n",
       "C08276               0.000000e+00               0.000000e+00   \n",
       "C00141               0.000000e+00               0.000000e+00   \n",
       "C00671               1.232101e-09               2.171711e-09   \n",
       "\n",
       "        replete_filter_s9313ax_5  replete_filter_s9313ax_10  \n",
       "KEGG                                                         \n",
       "C00196              0.000000e+00               0.000000e+00  \n",
       "C19675              0.000000e+00               0.000000e+00  \n",
       "C08276              0.000000e+00               0.000000e+00  \n",
       "C00141              0.000000e+00               0.000000e+00  \n",
       "C00671              1.414847e-10               2.189543e-09  "
      ]
     },
     "execution_count": 12,
     "metadata": {},
     "output_type": "execute_result"
    }
   ],
   "source": [
    "#take out the extra columns: \n",
    "mtabData.drop(['extEff','mtabNames'],axis = 1,inplace = True)\n",
    "#have zeros for metabolites that are not in KEGG, need to delete the zeros for now...\n",
    "mtabPruned = mtabData.drop(['0'])\n",
    "mtabData.head()"
   ]
  },
  {
   "cell_type": "code",
   "execution_count": 8,
   "metadata": {
    "collapsed": false
   },
   "outputs": [
    {
     "data": {
      "image/jpeg": "[encoded data removed]",
      "text/plain": [
       "<IPython.core.display.Image object>"
      ]
     },
     "execution_count": 8,
     "metadata": {
      "image/jpeg": {
       "height": 300,
       "width": 300
      }
     },
     "output_type": "execute_result"
    }
   ],
   "source": [
    "#read in the bar graph with the new acids (from MATLAB)\n",
    "from IPython.display import Image\n",
    "Image(\"Chisholm_Pro_newAcids.2017.04.27.jpg\",width=300, height=300)"
   ]
  },
  {
   "cell_type": "markdown",
   "metadata": {},
   "source": [
    "Setup a few useful functions\n",
    "***"
   ]
  },
  {
   "cell_type": "code",
   "execution_count": 15,
   "metadata": {
    "collapsed": true
   },
   "outputs": [],
   "source": [
    "#set up a function to get the list of compounds for a given pathway (must be defined as ko00140 NOT map00140)\n",
    "def getCfrom_ko(ko_id):\n",
    "    pathway_file = kegg_get(ko_id).read()  # query and read the pathway\n",
    "    compound_list = []\n",
    "\n",
    "    current_section = None\n",
    "    for line in pathway_file.rstrip().split(\"\\n\"):\n",
    "        section = line[:12].strip()  # section names are within 12 columns\n",
    "        if not section == \"\":\n",
    "            current_section = section\n",
    "        if current_section == \"COMPOUND\":\n",
    "            compound_identifiers = line[12:].split(\"; \")\n",
    "            t = compound_identifiers[0]\n",
    "            compound_id = t[0:6]\n",
    "\n",
    "            if not compound_id in compound_list:\n",
    "                compound_list.append(compound_id)\n",
    "    return compound_list"
   ]
  },
  {
   "cell_type": "code",
   "execution_count": 16,
   "metadata": {
    "collapsed": true
   },
   "outputs": [],
   "source": [
    "#set up a function to get the list of K orthologues for a given pathway (must be defined as ko00140 NOT map00140)\n",
    "#for this project: can use the three digit code for the different Prochlorococcus strains\n",
    "def getKfrom_ko(ko_id):\n",
    "    pathway_file = kegg_get(ko_id).read()  # query and read the pathway\n",
    "    K_list = []\n",
    "\n",
    "    current_section = None\n",
    "    for line in pathway_file.rstrip().split(\"\\n\"):\n",
    "        section = line[:12].strip()  # section names are within 12 columns\n",
    "        if not section == \"\":\n",
    "            current_section = section\n",
    "        if current_section == \"ORTHOLOGY\":\n",
    "            K_identifiers = line[12:].split(\"; \")\n",
    "            t = K_identifiers[0]\n",
    "            K_id = t[0:6]\n",
    "\n",
    "            if not K_id in K_list:\n",
    "                K_list.append(K_id)\n",
    "    return K_list"
   ]
  },
  {
   "cell_type": "code",
   "execution_count": 17,
   "metadata": {
    "collapsed": false
   },
   "outputs": [],
   "source": [
    "# A bit of code that will help us display the PDF output\n",
    "def PDF(filename):\n",
    "    return HTML('<iframe src=%s width=700 height=350></iframe>' % filename)"
   ]
  },
  {
   "cell_type": "code",
   "execution_count": 21,
   "metadata": {
    "collapsed": false
   },
   "outputs": [],
   "source": [
    "#organize pathways into the groups defined in the BRITE file\n",
    "def ReadBRITEfile(briteFile):\n",
    "    forBrite = pd.DataFrame(columns = ['map','A','B','C','wholeThing'])\n",
    "    # set up the expressions to match each level in the BRITE hierarchy\n",
    "    \n",
    "    textA = re.compile(r'(^A<b>)(.+)(</b>)\\s*(.*)$')\n",
    "    textB = re.compile(r'(^B)\\s*(.*)$')\n",
    "    textC = re.compile(r'(\\d+)\\s*(.*)$')\n",
    "    #this relies on the fact that the rows are in order: A, with B subheadings, then C subheadings\n",
    "    setA = []\n",
    "    idxA = []\n",
    "\n",
    "    setB = []\n",
    "    setC = []\n",
    "\n",
    "    with open(briteFile) as f:\n",
    "        for idx,line in enumerate(f):\n",
    "            if line[0] is not '#': #skip over the comments\n",
    "                mA = textA.search(line) \n",
    "                mB = textB.search(line) \n",
    "                mC = textC.search(line) \n",
    "                if mA:\n",
    "                    setA = mA.group(2)\n",
    "                    #house cleaning (probably c)\n",
    "                    idxA = idx\n",
    "                    forBrite.loc[idx,'A'] = setA\n",
    "                    forBrite.loc[idx,'wholeThing'] = line #using this as a double check for now\n",
    "                    #forBrite.loc[idx,'map'] = mC.group(1)\n",
    "                elif mB:\n",
    "                    setB = mB.group(2)\n",
    "                    forBrite.loc[idx,'A'] = setA\n",
    "                    forBrite.loc[idx,'B'] = setB\n",
    "                    forBrite.loc[idx,'wholeThing'] = line\n",
    "                    #forBrite.loc[idx,'map'] = mC.group(1)\n",
    "                elif mC:\n",
    "                    #Tracer()()\n",
    "                    setC = mC.group(2)\n",
    "                    forBrite.loc[idx,'A'] = setA\n",
    "                    forBrite.loc[idx,'B'] = setB\n",
    "                    forBrite.loc[idx,'C'] = setC\n",
    "                    forBrite.loc[idx,'wholeThing'] = line\n",
    "                    forBrite.loc[idx,'map'] = mC.group(1)\n",
    "\n",
    "    return forBrite"
   ]
  },
  {
   "cell_type": "code",
   "execution_count": 18,
   "metadata": {
    "collapsed": false
   },
   "outputs": [],
   "source": [
    "#bring in the plotting functions\n",
    "import plotByGroup\n",
    "import fxn_plotPathway\n",
    "##if I make a change, have to reload the function(s):\n",
    "# reload(fxn_plotPathway)"
   ]
  },
  {
   "cell_type": "code",
   "execution_count": 22,
   "metadata": {
    "collapsed": false
   },
   "outputs": [
    {
     "data": {
      "text/html": [
       "<div>\n",
       "<table border=\"1\" class=\"dataframe\">\n",
       "  <thead>\n",
       "    <tr style=\"text-align: right;\">\n",
       "      <th></th>\n",
       "      <th>map</th>\n",
       "      <th>A</th>\n",
       "      <th>B</th>\n",
       "      <th>C</th>\n",
       "      <th>wholeThing</th>\n",
       "    </tr>\n",
       "  </thead>\n",
       "  <tbody>\n",
       "    <tr>\n",
       "      <th>10</th>\n",
       "      <td>01100</td>\n",
       "      <td>Metabolism</td>\n",
       "      <td>Global and overview maps</td>\n",
       "      <td>Metabolic pathways</td>\n",
       "      <td>C    01100  Metabolic pathways\\n</td>\n",
       "    </tr>\n",
       "    <tr>\n",
       "      <th>11</th>\n",
       "      <td>01110</td>\n",
       "      <td>Metabolism</td>\n",
       "      <td>Global and overview maps</td>\n",
       "      <td>Biosynthesis of secondary metabolites</td>\n",
       "      <td>C    01110  Biosynthesis of secondary metaboli...</td>\n",
       "    </tr>\n",
       "    <tr>\n",
       "      <th>12</th>\n",
       "      <td>01120</td>\n",
       "      <td>Metabolism</td>\n",
       "      <td>Global and overview maps</td>\n",
       "      <td>Microbial metabolism in diverse environments</td>\n",
       "      <td>C    01120  Microbial metabolism in diverse en...</td>\n",
       "    </tr>\n",
       "    <tr>\n",
       "      <th>13</th>\n",
       "      <td>01130</td>\n",
       "      <td>Metabolism</td>\n",
       "      <td>Global and overview maps</td>\n",
       "      <td>Biosynthesis of antibiotics</td>\n",
       "      <td>C    01130  Biosynthesis of antibiotics\\n</td>\n",
       "    </tr>\n",
       "    <tr>\n",
       "      <th>14</th>\n",
       "      <td>01200</td>\n",
       "      <td>Metabolism</td>\n",
       "      <td>Global and overview maps</td>\n",
       "      <td>Carbon metabolism</td>\n",
       "      <td>C    01200  Carbon metabolism\\n</td>\n",
       "    </tr>\n",
       "  </tbody>\n",
       "</table>\n",
       "</div>"
      ],
      "text/plain": [
       "      map           A                         B  \\\n",
       "10  01100  Metabolism  Global and overview maps   \n",
       "11  01110  Metabolism  Global and overview maps   \n",
       "12  01120  Metabolism  Global and overview maps   \n",
       "13  01130  Metabolism  Global and overview maps   \n",
       "14  01200  Metabolism  Global and overview maps   \n",
       "\n",
       "                                               C  \\\n",
       "10                            Metabolic pathways   \n",
       "11         Biosynthesis of secondary metabolites   \n",
       "12  Microbial metabolism in diverse environments   \n",
       "13                   Biosynthesis of antibiotics   \n",
       "14                             Carbon metabolism   \n",
       "\n",
       "                                           wholeThing  \n",
       "10                   C    01100  Metabolic pathways\\n  \n",
       "11  C    01110  Biosynthesis of secondary metaboli...  \n",
       "12  C    01120  Microbial metabolism in diverse en...  \n",
       "13          C    01130  Biosynthesis of antibiotics\\n  \n",
       "14                    C    01200  Carbon metabolism\\n  "
      ]
     },
     "execution_count": 22,
     "metadata": {},
     "output_type": "execute_result"
    }
   ],
   "source": [
    "#go read in the file from KEGG\n",
    "D = glob.glob('br08901.keg') #from http://www.genome.jp/kegg-bin/get_htext?br08901.keg; 4/18/2017\n",
    "allBRITE=[]\n",
    "for idx,nof in enumerate(D):\n",
    "    allBRITE = ReadBRITEfile(nof)\n",
    "    \n",
    "prunedBRITE = allBRITE.dropna()\n",
    "prunedBRITE.head()"
   ]
  },
  {
   "cell_type": "code",
   "execution_count": 23,
   "metadata": {
    "collapsed": false
   },
   "outputs": [
    {
     "data": {
      "text/plain": [
       "array(['Global and overview maps', 'Carbohydrate metabolism',\n",
       "       'Energy metabolism', 'Lipid metabolism', 'Nucleotide metabolism',\n",
       "       'Amino acid metabolism', 'Metabolism of other amino acids',\n",
       "       'Glycan biosynthesis and metabolism',\n",
       "       'Metabolism of cofactors and vitamins',\n",
       "       'Metabolism of terpenoids and polyketides',\n",
       "       'Biosynthesis of other secondary metabolites',\n",
       "       'Xenobiotics biodegradation and metabolism',\n",
       "       'Chemical structure transformation maps'], dtype=object)"
      ]
     },
     "execution_count": 23,
     "metadata": {},
     "output_type": "execute_result"
    }
   ],
   "source": [
    "#only want 'metabolism' biochemical pathways\n",
    "findM = prunedBRITE.loc[(prunedBRITE['A'] == 'Metabolism')]\n",
    "findU = findM.loc[:,'B']\n",
    "\n",
    "#really not that many pathway groups\n",
    "findU.unique()"
   ]
  },
  {
   "cell_type": "code",
   "execution_count": 24,
   "metadata": {
    "collapsed": false
   },
   "outputs": [],
   "source": [
    "unMetabolismGroups = findU.unique()\n",
    "unMetabolismGroups = np.delete(unMetabolismGroups,(0),axis=0) #skip over the global and overview maps"
   ]
  },
  {
   "cell_type": "code",
   "execution_count": 25,
   "metadata": {
    "collapsed": false
   },
   "outputs": [
    {
     "data": {
      "text/plain": [
       "['Plimited_extracellular_s9301ax_50',\n",
       " 'Plimited_filter_s9301ax_50',\n",
       " 'replete_extracellular_s9301ax_10',\n",
       " 'replete_extracellular_s9301ax_50',\n",
       " 'replete_extracellular_s0801ax_10',\n",
       " 'replete_extracellular_s9313ax_5',\n",
       " 'replete_extracellular_s9313ax_10',\n",
       " 'replete_filter_s9301ax_10',\n",
       " 'replete_filter_s9301ax_50',\n",
       " 'replete_filter_s0801ax_10',\n",
       " 'replete_filter_s9313ax_5',\n",
       " 'replete_filter_s9313ax_10']"
      ]
     },
     "execution_count": 25,
     "metadata": {},
     "output_type": "execute_result"
    }
   ],
   "source": [
    "#let's think about what we actually want to plot...\n",
    "list(mtabPruned)"
   ]
  },
  {
   "cell_type": "markdown",
   "metadata": {},
   "source": [
    "Plot the metabolite concentration by group\n",
    "---"
   ]
  },
  {
   "cell_type": "code",
   "execution_count": 67,
   "metadata": {
    "collapsed": false
   },
   "outputs": [],
   "source": [
    "#can plot one at a time\n",
    "useCO = mtabPruned.index\n",
    "#these are the data (or ratios to plot...)\n",
    "CO_values = mtabPruned.loc[:,'replete_filter_s9301ax_50']\n",
    "fxn_plotPathway.gatherDetails('pmg00260','testingFolder',useCO,CO_values)"
   ]
  },
  {
   "cell_type": "code",
   "execution_count": 26,
   "metadata": {
    "collapsed": true
   },
   "outputs": [],
   "source": [
    "#or plot everything\n",
    "useCO = mtabPruned.index\n",
    "CO_values = mtabPruned.loc[:,'Plimited_filter_s9301ax_50']/mtabPruned.loc[:,'replete_filter_s9301ax_50']  \n",
    "\n",
    "if True:\n",
    "    ##this will take a while...\n",
    "    for oneGroup in unMetabolismGroups:\n",
    "        shortList = prunedBRITE.loc[(prunedBRITE['B']==oneGroup)] \n",
    "        onePath = shortList.loc[:,'map']\n",
    "        onePath_ann = []\n",
    "        for item in onePath:\n",
    "            onePath_ann.append(oneStrain + item)\n",
    "\n",
    "        #plot pathways divided by group, remember...can have pathways not annotated for this Pro strain\n",
    "        for runOne in onePath_ann:    \n",
    "            try:\n",
    "                fxn_plotPathway.gatherDetails(runOne,oneGroup,useCO,CO_values)               \n",
    "            except:\n",
    "                print('problem with this pathway ' + item)\n",
    "\n",
    "        #next line will make the color maps for each group: purple = low; green = high\n",
    "        plotByGroup.plotGroup(oneGroup,prunedBRITE,useCO,mtabPruned,oneStrain)"
   ]
  },
  {
   "cell_type": "code",
   "execution_count": 311,
   "metadata": {
    "collapsed": false
   },
   "outputs": [
    {
     "data": {
      "image/png": "[encoded data removed]",
      "text/plain": [
       "<matplotlib.figure.Figure at 0x1453dc50>"
      ]
     },
     "metadata": {},
     "output_type": "display_data"
    },
    {
     "data": {
      "text/plain": [
       "<module 'colorbar_only' from 'C:\\\\Users\\\\krista\\\\Documents\\\\GitHub\\\\Pro_mtabs\\\\colorbar_only.py'>"
      ]
     },
     "execution_count": 311,
     "metadata": {},
     "output_type": "execute_result"
    }
   ],
   "source": [
    "import colorbar_only\n",
    "#reload(colorbar_only)\n",
    "#this will be the range of colors in the pathway maps (PDF files) (not green bc genes are green)"
   ]
  },
  {
   "cell_type": "code",
   "execution_count": 30,
   "metadata": {
    "collapsed": true
   },
   "outputs": [],
   "source": [
    "#make a list....and remove the three digit header bc that will be unique to each strain\n",
    "def trimPath(pathwayString):\n",
    "    export_trimPath = []\n",
    "    current_section = None\n",
    "    for line in pathwayString.rstrip().split(\"\\n\"):\n",
    "        #tp = line[5:13] #this includes the three digit species code\n",
    "        tp = line[8:13]\n",
    "        export_trimPath.append(tp)\n",
    "    return export_trimPath"
   ]
  },
  {
   "cell_type": "markdown",
   "metadata": {},
   "source": [
    "Use the information at KEGG to find the theoretical overlap across the strains\n",
    "----"
   ]
  },
  {
   "cell_type": "code",
   "execution_count": 32,
   "metadata": {
    "collapsed": true
   },
   "outputs": [],
   "source": [
    "#use biopython/KEGG module to get the information\n",
    "pmgPathways = kegg_list('pathway','pmg').read()\n",
    "pmgTrim = trimPath(pmgPathways)\n",
    "\n",
    "prmPathways = kegg_list('pathway','prm').read()\n",
    "prmTrim = trimPath(prmPathways)\n",
    "\n",
    "pmtPathways = kegg_list('pathway','pmt').read()\n",
    "pmtTrim = trimPath(pmtPathways)"
   ]
  },
  {
   "cell_type": "code",
   "execution_count": 310,
   "metadata": {
    "collapsed": false
   },
   "outputs": [
    {
     "data": {
      "image/png": "[encoded data removed]",
      "text/plain": [
       "<matplotlib.figure.Figure at 0xc7762b0>"
      ]
     },
     "metadata": {},
     "output_type": "display_data"
    }
   ],
   "source": [
    "venn3_unweighted(subsets = (set(pmgTrim),set(prmTrim),set(pmtTrim)),set_labels = \n",
    "                 ('pmg/9301/HLII','prm/0801/LLI','pmt/9313/LLIV'))\n",
    "plt.title('KEGG: set of pathways for the three strains')\n",
    "plt.savefig('Pro_pathways.png')"
   ]
  },
  {
   "cell_type": "code",
   "execution_count": 39,
   "metadata": {
    "collapsed": true
   },
   "outputs": [],
   "source": [
    "#make a list....and remove the three digit header bc that will be unique to each strain\n",
    "def trimPath(pathwayString):\n",
    "    export_trimPath = []\n",
    "    current_section = None\n",
    "    for line in pathwayString.rstrip().split(\"\\n\"):\n",
    "        #tp = line[5:13] #this includes the three digit species code\n",
    "        tp = line[8:13]\n",
    "        export_trimPath.append(tp)\n",
    "    return export_trimPath"
   ]
  },
  {
   "cell_type": "code",
   "execution_count": 40,
   "metadata": {
    "collapsed": true
   },
   "outputs": [],
   "source": [
    "#make a list....and remove the three digit header bc that will be unique to each strain\n",
    "def trimGenes(geneString):\n",
    "    export_trimGenes = []\n",
    "    current_section = None\n",
    "    for line in geneString.rstrip().split(\"\\n\"):\n",
    "        #tp = line[5:13] #this includes the three digit species code\n",
    "        r = line.find('ko:')\n",
    "        tp = line[r+3 : r+9]\n",
    "        export_trimGenes.append(tp)\n",
    "    return export_trimGenes"
   ]
  },
  {
   "cell_type": "code",
   "execution_count": 43,
   "metadata": {
    "collapsed": true
   },
   "outputs": [],
   "source": [
    "#pull the full set of genes for each strain...\n",
    "pmtGenes = trimGenes(kegg_link(\"ko\",\"pmt\").read())\n",
    "pmgGenes = trimGenes(kegg_link(\"ko\",\"pmg\").read())\n",
    "prmGenes = trimGenes(kegg_link(\"ko\",\"prm\").read())"
   ]
  },
  {
   "cell_type": "code",
   "execution_count": 44,
   "metadata": {
    "collapsed": false
   },
   "outputs": [],
   "source": [
    "#pull the full set of compounds for each strain...\n",
    "#have to loop through the genes because the KEGG / REST code will not do this "
   ]
  },
  {
   "cell_type": "code",
   "execution_count": 45,
   "metadata": {
    "collapsed": false
   },
   "outputs": [],
   "source": [
    "#setup the strings to match first\n",
    "rnString = re.compile('(?:[rn:R])(\\d+)$') #will return R00190\n",
    "cpdString = re.compile('(?:[cpd:C])(\\d+)$') #will return C00190\n",
    "\n",
    "pmg_countCpd = []\n",
    "pmg_countGene = []\n",
    "pmg_countRxn = []\n",
    "        \n",
    "for gen in pmgGenes: #go through each gene...one at a time\n",
    "    rnList = kegg_link('reaction',gen).read() #get the list of reactions for that gene\n",
    "    #can have cases where there is a gene and no reaction (K02906 for example). This returns rnList = '\\n'\n",
    "    #since this is not actually empty...need a few way to filter those out\n",
    "    test = '\\n'\n",
    "    if test != rnList:\n",
    "        for line in rnList.rstrip().split('\\n'):\n",
    "            m = rnString.search(line) #get the reaction number\n",
    "            pmg_countRxn.append(m.group(0))\n",
    "            cpdList = kegg_link('cpd',m.group(0)).read() #now go get the compounds for that reaction\n",
    "            del m #have to do this so I can pickle the whole thing later...\n",
    "            #can have no compounds in a reaction (only glycans, begin with G, nothing I have matched)\n",
    "            if len(cpdList) > 1: #will be true if cpdList includes compounds\n",
    "                for line2 in cpdList.rstrip().split('\\n'):\n",
    "                    m2 = cpdString.search(line2).group(0)\n",
    "                    pmg_countCpd.append(m2) \n",
    "                    pmg_countGene.append(gen)"
   ]
  },
  {
   "cell_type": "code",
   "execution_count": 46,
   "metadata": {
    "collapsed": false
   },
   "outputs": [],
   "source": [
    "pmt_countCpd = []\n",
    "pmt_countGene = []\n",
    "pmt_countRxn = []\n",
    "\n",
    "for gen in pmtGenes: #go through each gene...one at a time\n",
    "    rnList = kegg_link('reaction',gen).read() #get the list of reactions for that gene\n",
    "    #can have cases where there is a gene and no reaction (K02906 for example). This returns rnList = '\\n'\n",
    "    #since this is not actually empty...need a few way to filter those out\n",
    "    test = '\\n'\n",
    "    if test != rnList:\n",
    "        for line in rnList.rstrip().split('\\n'):\n",
    "            m = rnString.search(line) #get the reaction number\n",
    "            pmt_countRxn.append(m.group(0))\n",
    "            cpdList = kegg_link('cpd',m.group(0)).read() #now go get the compounds for that reaction\n",
    "            del m #have to do this so I can pickle the whole thing later...\n",
    "            #can have no compounds in a reaction (only glycans, begin with G, nothing I have matched)\n",
    "            if len(cpdList) > 1: #will be true if cpdList includes compounds\n",
    "                for line2 in cpdList.rstrip().split('\\n'):\n",
    "                    m2 = cpdString.search(line2).group(0)\n",
    "                    pmt_countCpd.append(m2) \n",
    "                    pmt_countGene.append(gen)"
   ]
  },
  {
   "cell_type": "code",
   "execution_count": 47,
   "metadata": {
    "collapsed": true
   },
   "outputs": [],
   "source": [
    "prm_countCpd = []\n",
    "prm_countGene = []\n",
    "prm_countRxn = []\n",
    "\n",
    "for gen in prmGenes: #go through each gene...one at a time\n",
    "    rnList = kegg_link('reaction',gen).read() #get the list of reactions for that gene\n",
    "    #can have cases where there is a gene and no reaction (K02906 for example). This returns rnList = '\\n'\n",
    "    #since this is not actually empty...need a few way to filter those out\n",
    "    test = '\\n'\n",
    "    if test != rnList:\n",
    "        for line in rnList.rstrip().split('\\n'):\n",
    "            m = rnString.search(line) #get the reaction number\n",
    "            prm_countRxn.append(m.group(0))\n",
    "            cpdList = kegg_link('cpd',m.group(0)).read() #now go get the compounds for that reaction\n",
    "            del m #have to do this so I can pickle the whole thing later...\n",
    "            #can have no compounds in a reaction (only glycans, begin with G, nothing I have matched)\n",
    "            if len(cpdList) > 1: #will be true if cpdList includes compounds\n",
    "                for line2 in cpdList.rstrip().split('\\n'):\n",
    "                    m2 = cpdString.search(line2).group(0)\n",
    "                    prm_countCpd.append(m2) \n",
    "                    prm_countGene.append(gen)"
   ]
  },
  {
   "cell_type": "markdown",
   "metadata": {
    "collapsed": true
   },
   "source": [
    "Consider the overlap in compounds among the three strains\n",
    "---"
   ]
  },
  {
   "cell_type": "code",
   "execution_count": 306,
   "metadata": {
    "collapsed": false
   },
   "outputs": [
    {
     "data": {
      "image/png": "[encoded data removed]",
      "text/plain": [
       "<matplotlib.figure.Figure at 0x15e07128>"
      ]
     },
     "metadata": {},
     "output_type": "display_data"
    }
   ],
   "source": [
    "v = venn3_unweighted(subsets = (set(pmg_countGene),set(prm_countGene),set(pmt_countGene)),set_labels = \n",
    "                 ('pmg/9301/HLII','prm/0801/LLI','pmt/9313/LLIV'))\n",
    "plt.title('KEGG: set of genes for the three strains')\n",
    "#plt.savefig('Pro_genes.png')"
   ]
  },
  {
   "cell_type": "code",
   "execution_count": 307,
   "metadata": {
    "collapsed": false
   },
   "outputs": [
    {
     "data": {
      "image/png": "[encoded data removed]",
      "text/plain": [
       "<matplotlib.figure.Figure at 0x19229fd0>"
      ]
     },
     "metadata": {},
     "output_type": "display_data"
    }
   ],
   "source": [
    "v = venn3_unweighted(subsets = (set(pmg_countRxn),set(prm_countRxn),set(pmt_countRxn)),set_labels = \n",
    "                 ('pmg/9301/HLII','prm/0801/LLI','pmt/9313/LLIV'))\n",
    "plt.title('KEGG: set of reactions for the three strains')\n",
    "#plt.show() #don't do this...this creates a new figure\n",
    "#plt.savefig('Pro_reactions.png')"
   ]
  },
  {
   "cell_type": "code",
   "execution_count": 301,
   "metadata": {
    "collapsed": false
   },
   "outputs": [
    {
     "data": {
      "image/png": "[encoded data removed]",
      "text/plain": [
       "<matplotlib.figure.Figure at 0xc74d0b8>"
      ]
     },
     "metadata": {},
     "output_type": "display_data"
    }
   ],
   "source": [
    "venn3_unweighted(subsets = (set(pmg_countCpd),set(prm_countCpd),set(pmt_countCpd)),set_labels = \n",
    "                 ('pmg/9301/HLII','prm/0801/LLI','pmt/9313/LLIV'))\n",
    "plt.title('KEGG: set of compounds for the three strains')\n",
    "plt.savefig('Pro_cpds.png')"
   ]
  },
  {
   "cell_type": "code",
   "execution_count": null,
   "metadata": {
    "collapsed": true
   },
   "outputs": [],
   "source": [
    "#what are the differences?"
   ]
  },
  {
   "cell_type": "code",
   "execution_count": 292,
   "metadata": {
    "collapsed": false
   },
   "outputs": [
    {
     "data": {
      "text/plain": [
       "'R00956'"
      ]
     },
     "execution_count": 292,
     "metadata": {},
     "output_type": "execute_result"
    }
   ],
   "source": [
    "rxnString = set(prm_countRxn) - (set(pmg_countRxn)| set(pmt_countRxn))\n",
    "#rxnString = set(pmg_countRxn) - (set(prm_countRxn)| set(pmt_countRxn))\n",
    "#rxnString = set(pmt_countRxn) - (set(prm_countRxn)| set(pmg_countRxn))\n",
    "#set(pmg_countGene) & set(prm_countGene)- set(pmt_countGene)\n",
    "rxnString.pop()"
   ]
  },
  {
   "cell_type": "code",
   "execution_count": 293,
   "metadata": {
    "collapsed": false
   },
   "outputs": [
    {
     "data": {
      "text/plain": [
       "'ENTRY       R00956                      Reaction\\nNAME        CTP:alpha-D-glucose-1-phosphate cytidylyltransferase\\nDEFINITION  CTP + D-Glucose 1-phosphate <=> Diphosphate + CDP-glucose\\nEQUATION    C00063 + C00103 <=> C00013 + C00501\\nRCLASS      RC00002  C00103_C00501\\nENZYME      2.7.7.33\\nPATHWAY     rn00500  Starch and sucrose metabolism\\n            rn00520  Amino sugar and nucleotide sugar metabolism\\n            rn01100  Metabolic pathways\\nORTHOLOGY   K00978  glucose-1-phosphate cytidylyltransferase [EC:2.7.7.33]\\n///\\n'"
      ]
     },
     "execution_count": 293,
     "metadata": {},
     "output_type": "execute_result"
    }
   ],
   "source": [
    "kegg_get('R00956').read()"
   ]
  },
  {
   "cell_type": "code",
   "execution_count": 61,
   "metadata": {
    "collapsed": false
   },
   "outputs": [
    {
     "name": "stdout",
     "output_type": "stream",
     "text": [
      "cpd:C20762\t3-O-Phospho-alpha-D-Man-(1->2)-alpha-D-Man-(1->2)-alpha-D-Man-(1->3)-alpha-D-Man-(1->3)-[alpha-D-Man-(1->2)-alpha-D-Man-(1->2)-alpha-D-Man-(1->3)-alpha-D-Man-(1->3)]n-alpha-D-Man-(1->3)-alpha-D-Man-(1->3)-alpha-D-GlcNAc-diphospho-ditrans,octacis-undecaprenol\n",
      "\n",
      "cpd:C20763\t3-O-Methylphospho-alpha-D-Man-(1->2)-alpha-D-Man-(1->2)-alpha-D-Man-(1->3)-alpha-D-Man-(1->3)-[alpha-D-Man-(1->2)-alpha-D-Man-(1->2)-alpha-D-Man-(1->3)-alpha-D-Man-(1->3)]n-alpha-D-Man-(1->3)-alpha-D-Man-(1->3)-alpha-D-GlcNAc-diphospho-ditrans,octacis-undecaprenol\n",
      "\n",
      "cpd:C01219\tCDP-4-dehydro-6-deoxy-D-glucose\n",
      "\n",
      "cpd:C00501\tCDP-glucose; CDP-D-Glucose\n",
      "\n",
      "cpd:C20761\talpha-D-Man-(1->2)-alpha-D-Man-(1->2)-alpha-D-Man-(1->3)-alpha-D-Man-(1->3)-[alpha-D-Man-(1->2)-alpha-D-Man-(1->2)-alpha-D-Man-(1->3)-alpha-D-Man-(1->3)]n-alpha-D-Man-(1->3)-alpha-D-Man-(1->3)-alpha-D-GlcNAc-diphospho-ditrans,octacis-undecaprenol\n",
      "\n",
      "cpd:C01417\tCyanate; Cyanic acid\n",
      "\n",
      "cpd:C00186\t(S)-Lactate; L-Lactate; L-Lactic acid\n",
      "\n"
     ]
    }
   ],
   "source": [
    "cpdString = set(prm_countCpd) - (set(pmg_countCpd)| set(pmt_countCpd))\n",
    "for item in cpdString:\n",
    "    print(kegg_list(item).read())"
   ]
  },
  {
   "cell_type": "code",
   "execution_count": 236,
   "metadata": {
    "collapsed": false
   },
   "outputs": [
    {
     "name": "stdout",
     "output_type": "stream",
     "text": [
      "cpd:C00327\tL-Citrulline; 2-Amino-5-ureidovaleric acid; Citrulline\n",
      "\n",
      "cpd:C00074\tPhosphoenolpyruvate; Phosphoenolpyruvic acid; PEP\n",
      "\n",
      "cpd:C00188\tL-Threonine; 2-Amino-3-hydroxybutyric acid\n",
      "\n",
      "cpd:C00049\tL-Aspartate; L-Aspartic acid; 2-Aminosuccinic acid; L-Asp\n",
      "\n",
      "cpd:C00062\tL-Arginine; (S)-2-Amino-5-guanidinovaleric acid; L-Arg\n",
      "\n",
      "cpd:C00568\t4-Aminobenzoate; ABEE; 4-Aminobenzoic acid; p-Aminobenzoate\n",
      "\n",
      "cpd:C00079\tL-Phenylalanine; (S)-alpha-Amino-beta-phenylpropionic acid\n",
      "\n",
      "cpd:C00020\tAMP; Adenosine 5'-monophosphate; Adenylic acid; Adenylate; 5'-AMP; 5'-Adenylic acid; 5'-Adenosine monophosphate; Adenosine 5'-phosphate\n",
      "\n",
      "cpd:C00242\tGuanine; 2-Amino-6-hydroxypurine\n",
      "\n",
      "cpd:C00092\tD-Glucose 6-phosphate; Glucose 6-phosphate; Robison ester\n",
      "\n",
      "cpd:C00380\tCytosine\n",
      "\n",
      "cpd:C00148\tL-Proline; 2-Pyrrolidinecarboxylic acid\n",
      "\n",
      "cpd:C00147\tAdenine; 6-Aminopurine\n",
      "\n",
      "cpd:C00078\tL-Tryptophan; Tryptophan; (S)-alpha-Amino-beta-(3-indolyl)-propionic acid\n",
      "\n",
      "cpd:C00021\tS-Adenosyl-L-homocysteine; S-Adenosylhomocysteine\n",
      "\n",
      "cpd:C00170\t5'-Methylthioadenosine; Methylthioadenosine; S-Methyl-5'-thioadenosine; 5-Methylthioadenosine; 5'-Deoxy-5'-(methylthio)adenosine; Thiomethyladenosine; MTA\n",
      "\n",
      "cpd:C00051\tGlutathione; 5-L-Glutamyl-L-cysteinylglycine; N-(N-gamma-L-Glutamyl-L-cysteinyl)glycine; gamma-L-Glutamyl-L-cysteinyl-glycine; GSH; Reduced glutathione\n",
      "\n",
      "cpd:C00864\tPantothenate; Pantothenic acid; (R)-Pantothenate\n",
      "\n",
      "cpd:C00025\tL-Glutamate; L-Glutamic acid; L-Glutaminic acid; Glutamate\n",
      "\n",
      "cpd:C01909\tDethiobiotin; Desthiobiotin\n",
      "\n",
      "cpd:C00314\tPyridoxine; Pyridoxol\n",
      "\n",
      "cpd:C00352\tD-Glucosamine 6-phosphate; D-Glucosamine phosphate\n",
      "\n",
      "cpd:C00671\t(S)-3-Methyl-2-oxopentanoic acid; (S)-3-Methyl-2-oxopentanoate; (3S)-3-Methyl-2-oxopentanoic acid; (3S)-3-Methyl-2-oxopentanoate\n",
      "\n",
      "cpd:C00954\tIndole-3-acetate; Indole-3-acetic acid; (Indol-3-yl)acetate; Indoleacetate; Indoleacetic acid; IAA\n",
      "\n",
      "cpd:C00064\tL-Glutamine; L-2-Aminoglutaramic acid\n",
      "\n",
      "cpd:C00233\t4-Methyl-2-oxopentanoate; 2-Oxoisocaproate\n",
      "\n",
      "cpd:C00387\tGuanosine\n",
      "\n",
      "cpd:C00141\t3-Methyl-2-oxobutanoic acid; 3-Methyl-2-oxobutyric acid; 3-Methyl-2-oxobutanoate; 2-Oxo-3-methylbutanoate; 2-Oxoisovalerate; 2-Oxoisopentanoate; alpha-Ketovaline; 2-Ketovaline; 2-Keto-3-methylbutyric acid\n",
      "\n",
      "cpd:C00082\tL-Tyrosine; (S)-3-(p-Hydroxyphenyl)alanine; (S)-2-Amino-3-(p-hydroxyphenyl)propionic acid; Tyrosine\n",
      "\n",
      "cpd:C00130\tIMP; Inosinic acid; Inosine monophosphate; Inosine 5'-monophosphate; Inosine 5'-phosphate; 5'-Inosinate; 5'-Inosinic acid; 5'-Inosine monophosphate; 5'-IMP\n",
      "\n",
      "cpd:C00378\tThiamine; Thiamin; Vitamin B1; Aneurin; Antiberiberi factor\n",
      "\n",
      "cpd:C00294\tInosine\n",
      "\n",
      "cpd:C00158\tCitrate; Citric acid; 2-Hydroxy-1,2,3-propanetricarboxylic acid; 2-Hydroxytricarballylic acid\n",
      "\n",
      "cpd:C00149\t(S)-Malate; L-Malate; L-Apple acid; L-Malic acid; L-2-Hydroxybutanedioic acid; Malate; Malic acid\n",
      "\n",
      "cpd:C00156\t4-Hydroxybenzoate; Hydroxybenzoic acid; 4-Hydroxybenzoic acid; Hydroxybenzenecarboxylic acid\n",
      "\n",
      "cpd:C00026\t2-Oxoglutarate; Oxoglutaric acid; 2-Ketoglutaric acid; alpha-Ketoglutaric acid\n",
      "\n",
      "cpd:C00073\tL-Methionine; Methionine; L-2-Amino-4methylthiobutyric acid\n",
      "\n",
      "cpd:C00093\tsn-Glycerol 3-phosphate; Glycerophosphoric acid; D-Glycerol 1-phosphate\n",
      "\n",
      "cpd:C00295\tOrotate; Orotic acid; Uracil-6-carboxylic acid\n",
      "\n",
      "cpd:C00122\tFumarate; Fumaric acid; trans-Butenedioic acid\n",
      "\n",
      "cpd:C00624\tN-Acetyl-L-glutamate; N-Acetyl-L-glutamic acid\n",
      "\n",
      "cpd:C00106\tUracil\n",
      "\n",
      "cpd:C00120\tBiotin; D-Biotin; Vitamin H; Coenzyme R\n",
      "\n",
      "cpd:C01762\tXanthosine\n",
      "\n",
      "cpd:C00042\tSuccinate; Succinic acid; Butanedionic acid; Ethylenesuccinic acid\n",
      "\n",
      "cpd:C00111\tGlycerone phosphate; Dihydroxyacetone phosphate; 3-Hydroxy-2-oxopropyl phosphate\n",
      "\n",
      "cpd:C01081\tThiamin monophosphate; Thiamine monophosphate; Thiamin phosphate; Thiamine phosphate; TMP\n",
      "\n",
      "cpd:C00004\tNADH; DPNH; Reduced nicotinamide adenine dinucleotide\n",
      "\n",
      "cpd:C05786\t(3Z)-Phycocyanobilin\n",
      "\n",
      "cpd:C00105\tUMP; Uridylic acid; Uridine monophosphate; Uridine 5'-monophosphate; 5'Uridylic acid\n",
      "\n",
      "cpd:C00407\tL-Isoleucine; 2-Amino-3-methylvaleric acid\n",
      "\n",
      "cpd:C00183\tL-Valine; 2-Amino-3-methylbutyric acid\n",
      "\n",
      "cpd:C00077\tL-Ornithine; (S)-2,5-Diaminovaleric acid; (S)-2,5-Diaminopentanoic acid; (S)-2,5-Diaminopentanoate\n",
      "\n",
      "cpd:C00123\tL-Leucine; 2-Amino-4-methylvaleric acid; (2S)-alpha-2-Amino-4-methylvaleric acid; (2S)-alpha-Leucine\n",
      "\n",
      "cpd:C00065\tL-Serine; L-2-Amino-3-hydroxypropionic acid; L-3-Hydroxy-alanine; Serine\n",
      "\n",
      "cpd:C00255\tRiboflavin; Lactoflavin; 7,8-Dimethyl-10-ribitylisoalloxazine; Vitamin B2\n",
      "\n",
      "cpd:C00097\tL-Cysteine; L-2-Amino-3-mercaptopropionic acid\n",
      "\n",
      "cpd:C00214\tThymidine; Deoxythymidine\n",
      "\n",
      "cpd:C00134\tPutrescine; 1,4-Butanediamine; 1,4-Diaminobutane; Tetramethylenediamine; Butane-1,4-diamine\n",
      "\n",
      "cpd:C00212\tAdenosine\n",
      "\n",
      "cpd:C00019\tS-Adenosyl-L-methionine; S-Adenosylmethionine; AdoMet; SAM\n",
      "\n",
      "cpd:C02713\tN-Acetylmuramate; N-Acetylmuramic acid; N-Acetyl-D-muramoate\n",
      "\n"
     ]
    }
   ],
   "source": [
    "#remember - this is the theoretical overlap based on KEGG\n",
    "all3 = set(pmg_countCpd) & set(prm_countCpd)& set(pmt_countCpd)\n",
    "\n",
    "keep = []\n",
    "for item in all3:\n",
    "    if item in useCO:\n",
    "        keep.append(item)\n",
    "        print(kegg_list(item).read())"
   ]
  },
  {
   "cell_type": "code",
   "execution_count": 246,
   "metadata": {
    "collapsed": false
   },
   "outputs": [],
   "source": [
    "#is a cpd in all three strains? or some lower number? ...only filter data here\n",
    "cpd_inNstrains = pd.DataFrame(index = useCO,columns = ['in3','in2','in1','in0','s9301','s0801','s9313'])\n",
    "\n",
    "for oneCpd in useCO:\n",
    "    strains = {'s9301','s0801','s9313'}\n",
    "    for st in strains:\n",
    "        df2 = mtabPruned.loc[oneCpd].filter(regex = ('filter_' + st))\n",
    "        r = df2[df2.gt(0)]\n",
    "        if not r.empty:\n",
    "            cpd_inNstrains.loc[oneCpd,st] = 1\n",
    "    \n",
    "    a = cpd_inNstrains.loc[oneCpd,strains].sum()\n",
    "\n",
    "    if a == 3:\n",
    "        cpd_inNstrains.loc[oneCpd,'in3'] = 1\n",
    "    elif a == 2:\n",
    "        cpd_inNstrains.loc[oneCpd,'in2'] = 1\n",
    "    elif a == 1:\n",
    "        cpd_inNstrains.loc[oneCpd,'in1'] = 1\n",
    "    else: #will never have a=0 bc the if not r.empty statement\n",
    "        cpd_inNstrains.loc[oneCpd,'in0'] = 1\n",
    "        \n",
    "sumCount = cpd_inNstrains.sum(axis=0)"
   ]
  },
  {
   "cell_type": "code",
   "execution_count": 54,
   "metadata": {
    "collapsed": false
   },
   "outputs": [
    {
     "name": "stdout",
     "output_type": "stream",
     "text": [
      "cpd:C00671\t(S)-3-Methyl-2-oxopentanoic acid; (S)-3-Methyl-2-oxopentanoate; (3S)-3-Methyl-2-oxopentanoic acid; (3S)-3-Methyl-2-oxopentanoate\n",
      "\n",
      "cpd:C00233\t4-Methyl-2-oxopentanoate; 2-Oxoisocaproate\n",
      "\n",
      "cpd:C00020\tAMP; Adenosine 5'-monophosphate; Adenylic acid; Adenylate; 5'-AMP; 5'-Adenylic acid; 5'-Adenosine monophosphate; Adenosine 5'-phosphate\n",
      "\n",
      "cpd:C00062\tL-Arginine; (S)-2-Amino-5-guanidinovaleric acid; L-Arg\n",
      "\n",
      "cpd:C00111\tGlycerone phosphate; Dihydroxyacetone phosphate; 3-Hydroxy-2-oxopropyl phosphate\n",
      "\n",
      "cpd:C00025\tL-Glutamate; L-Glutamic acid; L-Glutaminic acid; Glutamate\n",
      "\n",
      "cpd:C00064\tL-Glutamine; L-2-Aminoglutaramic acid\n",
      "\n",
      "cpd:C00130\tIMP; Inosinic acid; Inosine monophosphate; Inosine 5'-monophosphate; Inosine 5'-phosphate; 5'-Inosinate; 5'-Inosinic acid; 5'-Inosine monophosphate; 5'-IMP\n",
      "\n",
      "cpd:C00051\tGlutathione; 5-L-Glutamyl-L-cysteinylglycine; N-(N-gamma-L-Glutamyl-L-cysteinyl)glycine; gamma-L-Glutamyl-L-cysteinyl-glycine; GSH; Reduced glutathione\n",
      "\n",
      "cpd:C00082\tL-Tyrosine; (S)-3-(p-Hydroxyphenyl)alanine; (S)-2-Amino-3-(p-hydroxyphenyl)propionic acid; Tyrosine\n",
      "\n",
      "cpd:C00073\tL-Methionine; Methionine; L-2-Amino-4methylthiobutyric acid\n",
      "\n",
      "cpd:C00624\tN-Acetyl-L-glutamate; N-Acetyl-L-glutamic acid\n",
      "\n",
      "cpd:C00079\tL-Phenylalanine; (S)-alpha-Amino-beta-phenylpropionic acid\n",
      "\n",
      "cpd:C00148\tL-Proline; 2-Pyrrolidinecarboxylic acid\n",
      "\n",
      "cpd:C00021\tS-Adenosyl-L-homocysteine; S-Adenosylhomocysteine\n",
      "\n",
      "cpd:C00019\tS-Adenosyl-L-methionine; S-Adenosylmethionine; AdoMet; SAM\n",
      "\n",
      "cpd:C00315\tSpermidine; N-(3-Aminopropyl)-1,4-butane-diamine\n",
      "\n",
      "cpd:C00078\tL-Tryptophan; Tryptophan; (S)-alpha-Amino-beta-(3-indolyl)-propionic acid\n",
      "\n",
      "cpd:C00183\tL-Valine; 2-Amino-3-methylbutyric acid\n",
      "\n"
     ]
    }
   ],
   "source": [
    "r = cpd_inNstrains[cpd_inNstrains.loc[:,'in3'].gt(0)] #in 3...perhaps 'core' mtabs in Pro\n",
    "for item in r.index:\n",
    "    print(kegg_list(item).read())"
   ]
  },
  {
   "cell_type": "code",
   "execution_count": 313,
   "metadata": {
    "collapsed": false
   },
   "outputs": [
    {
     "data": {
      "image/png": "[encoded data removed]",
      "text/plain": [
       "<matplotlib.figure.Figure at 0xc71cda0>"
      ]
     },
     "metadata": {},
     "output_type": "display_data"
    }
   ],
   "source": [
    "#remember - this is the subset of compounds I expect to find in all three strains...\n",
    "#also...pre-screened to only be compounds we measured...this figure accounts for \n",
    "#anything with a value > 0\n",
    "fig,axs = plt.subplots(1,1)\n",
    "sumCount.loc[['in3','in2','in1']].plot(kind = 'bar')\n",
    "axs.set_title('# of KEGG compounds across the three strains, filters only')\n",
    "axs.set_ylabel('# of compounds')\n",
    "fig.savefig('nCompounds.jpg')"
   ]
  },
  {
   "cell_type": "markdown",
   "metadata": {},
   "source": [
    "Did we see what we expected based on the strain differences?\n",
    "---"
   ]
  },
  {
   "cell_type": "code",
   "execution_count": 290,
   "metadata": {
    "collapsed": false
   },
   "outputs": [],
   "source": [
    "for item in cpd_inNstrains.index:\n",
    "    #first, is it even in this strain?\n",
    "    if math.isnan(cpd_inNstrains.loc[item,'s0801']):\n",
    "        pass\n",
    "    else:\n",
    "        #is in the list for strain?\n",
    "        if item in prm_countCpd:\n",
    "            pass\n",
    "        else:\n",
    "            print(kegg_list(item).read())"
   ]
  },
  {
   "cell_type": "code",
   "execution_count": 289,
   "metadata": {
    "collapsed": false
   },
   "outputs": [
    {
     "name": "stdout",
     "output_type": "stream",
     "text": [
      "cpd:C00719\tBetaine; Trimethylaminoacetate; Glycine betaine; N,N,N-Trimethylglycine; Trimethylammonioacetate\n",
      "\n"
     ]
    }
   ],
   "source": [
    "for item in cpd_inNstrains.index:\n",
    "    #first, is it even in this strain?\n",
    "    if math.isnan(cpd_inNstrains.loc[item,'s9301']):\n",
    "        pass\n",
    "    else:\n",
    "        #is in the list for strain?\n",
    "        if item in pmg_countCpd:\n",
    "            pass\n",
    "        else:\n",
    "            print(kegg_list(item).read())"
   ]
  },
  {
   "cell_type": "code",
   "execution_count": 288,
   "metadata": {
    "collapsed": false
   },
   "outputs": [
    {
     "name": "stdout",
     "output_type": "stream",
     "text": [
      "cpd:C01674\tChitobiose; Diacetylchitobiose; N,N'-Diacetylchitobiose\n",
      "\n",
      "cpd:C00315\tSpermidine; N-(3-Aminopropyl)-1,4-butane-diamine\n",
      "\n"
     ]
    }
   ],
   "source": [
    "for item in cpd_inNstrains.index:\n",
    "    #first, is it even in this strain?\n",
    "    if math.isnan(cpd_inNstrains.loc[item,'s9313']):\n",
    "        pass\n",
    "    else:\n",
    "        #is in the list for strain?\n",
    "        if item in pmt_countCpd:\n",
    "            pass\n",
    "        else:\n",
    "            print(kegg_list(item).read())"
   ]
  },
  {
   "cell_type": "code",
   "execution_count": 111,
   "metadata": {
    "collapsed": true
   },
   "outputs": [],
   "source": [
    "#count up the subsets for plotting (messy)\n",
    "fi = cpd_inNstrains[cpd_inNstrains.loc[:,'in2']==1]\n",
    "countSub = fi.sum(axis=0)\n",
    "\n",
    "fi1 = cpd_inNstrains[cpd_inNstrains.loc[:,'in1']==1]\n",
    "countSub1 = fi1.sum(axis=0)"
   ]
  },
  {
   "cell_type": "code",
   "execution_count": 132,
   "metadata": {
    "collapsed": false
   },
   "outputs": [
    {
     "data": {
      "image/png": "[encoded data removed]",
      "text/plain": [
       "<matplotlib.figure.Figure at 0x12083710>"
      ]
     },
     "metadata": {},
     "output_type": "display_data"
    }
   ],
   "source": [
    "#messy code to get here\n",
    "fig,axs = plt.subplots(1,3)\n",
    "sumCount.loc[['in3']].plot(kind = 'bar',ax=axs[0],color = '#bdbdbd')\n",
    "axs[0].set_title('in three')\n",
    "axs[0].set_ylabel('# of compounds')\n",
    "\n",
    "countSub.loc[pStrains].plot(kind = 'bar',color = useColors,ax=axs[1])\n",
    "axs[1].set_title('in two')\n",
    "countSub1.loc[pStrains].plot(kind = 'bar',color = useColors,ax=axs[2])\n",
    "axs[2].set_title('in one')\n",
    "fig.savefig('compoundsSBin3.jpg')"
   ]
  },
  {
   "cell_type": "code",
   "execution_count": 304,
   "metadata": {
    "collapsed": false
   },
   "outputs": [],
   "source": [
    "gI = fi1.index"
   ]
  },
  {
   "cell_type": "code",
   "execution_count": 148,
   "metadata": {
    "collapsed": false
   },
   "outputs": [
    {
     "name": "stdout",
     "output_type": "stream",
     "text": [
      "cpd:C00147\tAdenine; 6-Aminopurine\n",
      "\n",
      "cpd:C00212\tAdenosine\n",
      "\n",
      "cpd:C00105\tUMP; Uridylic acid; Uridine monophosphate; Uridine 5'-monophosphate; 5'Uridylic acid\n",
      "\n"
     ]
    }
   ],
   "source": [
    "for item in gI:\n",
    "    if fi1.loc[item,'s9301']==1:\n",
    "        print(kegg_list(item).read())"
   ]
  },
  {
   "cell_type": "code",
   "execution_count": 149,
   "metadata": {
    "collapsed": false
   },
   "outputs": [
    {
     "name": "stdout",
     "output_type": "stream",
     "text": [
      "cpd:C00568\t4-Aminobenzoate; ABEE; 4-Aminobenzoic acid; p-Aminobenzoate\n",
      "\n"
     ]
    }
   ],
   "source": [
    "for item in gI:\n",
    "    if fi1.loc[item,'s0801']==1:\n",
    "        print(kegg_list(item).read())"
   ]
  },
  {
   "cell_type": "code",
   "execution_count": 150,
   "metadata": {
    "collapsed": false
   },
   "outputs": [
    {
     "name": "stdout",
     "output_type": "stream",
     "text": [
      "cpd:C01674\tChitobiose; Diacetylchitobiose; N,N'-Diacetylchitobiose\n",
      "\n",
      "cpd:C00092\tD-Glucose 6-phosphate; Glucose 6-phosphate; Robison ester\n",
      "\n",
      "cpd:C00123\tL-Leucine; 2-Amino-4-methylvaleric acid; (2S)-alpha-2-Amino-4-methylvaleric acid; (2S)-alpha-Leucine\n",
      "\n",
      "cpd:C00864\tPantothenate; Pantothenic acid; (R)-Pantothenate\n",
      "\n",
      "cpd:C00106\tUracil\n",
      "\n"
     ]
    }
   ],
   "source": [
    "for item in gI:\n",
    "    if fi1.loc[item,'s9313']==1:\n",
    "        print(kegg_list(item).read())"
   ]
  },
  {
   "cell_type": "code",
   "execution_count": 279,
   "metadata": {
    "collapsed": false
   },
   "outputs": [
    {
     "data": {
      "image/png": "[encoded data removed]",
      "text/plain": [
       "<matplotlib.figure.Figure at 0xc45fd68>"
      ]
     },
     "metadata": {},
     "output_type": "display_data"
    }
   ],
   "source": [
    "#test one...checking the data\n",
    "oneCpd = 'C00719'\n",
    "\n",
    "df2 = mtabPruned.filter(regex = 'filter')\n",
    "toPlot = df2.loc[oneCpd]\n",
    "useColors = ['#1b9e77','#d95f02','#d95f02','#7570b3','#e7298a','#e7298a']\n",
    "axs = toPlot.plot(kind = 'bar',color = useColors)\n",
    "axs.set_title(oneCpd)\n",
    "plt.tight_layout()\n",
    "plt.savefig(oneCpd + '.png')"
   ]
  },
  {
   "cell_type": "code",
   "execution_count": 196,
   "metadata": {
    "collapsed": true
   },
   "outputs": [],
   "source": [
    "#make a list....and remove the three digit header bc that will be unique to each strain\n",
    "def trimMap(importString):\n",
    "    export_trimMap = []\n",
    "    current_section = None\n",
    "    for line in importString.rstrip().split(\"\\n\"):\n",
    "        r = line.find('map')\n",
    "        tp = line[r : r+9]\n",
    "        export_trimMap.append(tp)\n",
    "    return export_trimMap"
   ]
  },
  {
   "cell_type": "code",
   "execution_count": 206,
   "metadata": {
    "collapsed": true
   },
   "outputs": [],
   "source": [
    "#go find all possible pathways for that compound"
   ]
  },
  {
   "cell_type": "code",
   "execution_count": 297,
   "metadata": {
    "collapsed": false
   },
   "outputs": [
    {
     "name": "stdout",
     "output_type": "stream",
     "text": [
      "path:map00520\tAmino sugar and nucleotide sugar metabolism\n",
      "\n",
      "path:map01100\tMetabolic pathways\n",
      "\n",
      "path:map02010\tABC transporters\n",
      "\n",
      "path:map02060\tPhosphotransferase system (PTS)\n",
      "\n"
     ]
    }
   ],
   "source": [
    "oneCpd='C01674'\n",
    "r = kegg_link('pathway',oneCpd).read()\n",
    "m = trimMap(r)\n",
    "\n",
    "for item in m:\n",
    "    print(kegg_list(item).read())"
   ]
  },
  {
   "cell_type": "code",
   "execution_count": null,
   "metadata": {
    "collapsed": true
   },
   "outputs": [],
   "source": []
  },
  {
   "cell_type": "markdown",
   "metadata": {},
   "source": [
    "Try this analysis for the stuff released, making the assumption that if in genes, Pro will have it"
   ]
  },
  {
   "cell_type": "code",
   "execution_count": null,
   "metadata": {
    "collapsed": true
   },
   "outputs": [],
   "source": []
  },
  {
   "cell_type": "code",
   "execution_count": null,
   "metadata": {
    "collapsed": true
   },
   "outputs": [],
   "source": []
  },
  {
   "cell_type": "code",
   "execution_count": null,
   "metadata": {
    "collapsed": true
   },
   "outputs": [],
   "source": []
  },
  {
   "cell_type": "code",
   "execution_count": null,
   "metadata": {
    "collapsed": true
   },
   "outputs": [],
   "source": []
  },
  {
   "cell_type": "code",
   "execution_count": null,
   "metadata": {
    "collapsed": true
   },
   "outputs": [],
   "source": []
  },
  {
   "cell_type": "code",
   "execution_count": null,
   "metadata": {
    "collapsed": true
   },
   "outputs": [],
   "source": []
  },
  {
   "cell_type": "code",
   "execution_count": null,
   "metadata": {
    "collapsed": true
   },
   "outputs": [],
   "source": []
  },
  {
   "cell_type": "code",
   "execution_count": null,
   "metadata": {
    "collapsed": true
   },
   "outputs": [],
   "source": []
  },
  {
   "cell_type": "code",
   "execution_count": null,
   "metadata": {
    "collapsed": true
   },
   "outputs": [],
   "source": []
  },
  {
   "cell_type": "code",
   "execution_count": null,
   "metadata": {
    "collapsed": true
   },
   "outputs": [],
   "source": []
  },
  {
   "cell_type": "code",
   "execution_count": null,
   "metadata": {
    "collapsed": true
   },
   "outputs": [],
   "source": []
  },
  {
   "cell_type": "code",
   "execution_count": null,
   "metadata": {
    "collapsed": true
   },
   "outputs": [],
   "source": []
  },
  {
   "cell_type": "code",
   "execution_count": 161,
   "metadata": {
    "collapsed": true
   },
   "outputs": [],
   "source": [
    "import dill                            #pip install dill --user\n",
    "filename= 'globalsave.pkl'\n",
    "dill.dump_session(filename)"
   ]
  },
  {
   "cell_type": "code",
   "execution_count": 160,
   "metadata": {
    "collapsed": false
   },
   "outputs": [],
   "source": [
    "import dill\n",
    "# and to load the session again:\n",
    "dill.load_session('globalsave.pkl')"
   ]
  },
  {
   "cell_type": "code",
   "execution_count": null,
   "metadata": {
    "collapsed": true
   },
   "outputs": [],
   "source": []
  },
  {
   "cell_type": "code",
   "execution_count": null,
   "metadata": {
    "collapsed": true
   },
   "outputs": [],
   "source": []
  },
  {
   "cell_type": "code",
   "execution_count": null,
   "metadata": {
    "collapsed": true
   },
   "outputs": [],
   "source": [
    "#leave debris below here for now, notebook will stop at the 'raise' \n",
    "#command in the next cell to keep me from running cells \n",
    "#of code that are not meant to be connected"
   ]
  },
  {
   "cell_type": "code",
   "execution_count": null,
   "metadata": {
    "collapsed": true
   },
   "outputs": [],
   "source": [
    "raise"
   ]
  },
  {
   "cell_type": "code",
   "execution_count": null,
   "metadata": {
    "collapsed": false
   },
   "outputs": [],
   "source": [
    "kegg_link('reaction','C00315').read()\n",
    "kegg_link('pathway','C00315').read()\n",
    "kegg_list('map00330').read()\n",
    "kegg_link('compound','map00260').read()"
   ]
  },
  {
   "cell_type": "code",
   "execution_count": null,
   "metadata": {
    "collapsed": true
   },
   "outputs": [],
   "source": [
    "filter_cols = [col for col in mtabPruned if 'filter' in col]\n",
    "#works, but I still need to wrap my head around the list comprehension"
   ]
  },
  {
   "cell_type": "code",
   "execution_count": null,
   "metadata": {
    "collapsed": true
   },
   "outputs": [],
   "source": [
    "#kegg_get(oneMap).read()\n",
    "genes = getKfrom_ko(oneMap)\n",
    "compounds = getCfrom_ko(oneMap)\n",
    "\n",
    "setG = set(genes)\n",
    "setC = set(compounds)\n",
    "setT = set(useCO)\n",
    "intCompounds = setC.intersection(setT)\n",
    "\n",
    "useColors = pal.colorbrewer.diverging.PuOr_4.hex_colors\n",
    "#useColors = pal.colorbrewer.diverging.RdYlBu_11.hex_colors\n",
    "\n",
    "#set the color of the mtab based on its value, only scale the values from this particular pathway\n",
    "useCOsubset = CO_values.loc[intCompounds]\n",
    "cmin = useCOsubset.min() #find min and max...ignore NaN and inf for the moment\n",
    "cmax = useCOsubset.replace([np.inf],np.nan).dropna(how = 'all').max()\n",
    "\n",
    "size = 20 #increase the size of the compounds in the plots\n",
    "\n",
    "pathway = KGML_parser.read(kegg_get(oneMap, \"kgml\")) #no choice in gene color: green"
   ]
  },
  {
   "cell_type": "code",
   "execution_count": null,
   "metadata": {
    "collapsed": false
   },
   "outputs": [],
   "source": [
    "        dummy = useCOsubset.copy(deep = True)\n",
    "        dummy.replace([np.inf],np.nan,inplace = True)\n",
    "        for idx,item in enumerate(useCOsubset):\n",
    "            if np.isnan(item):\n",
    "                useCOsubset.iloc[idx] = 0\n",
    "            elif np.isinf(item):\n",
    "                useCOsubset.iloc[idx] = 10*cmax #make inf 10x the biggest value\n",
    "\n",
    "        #now, find cmax again...use that downstream\n",
    "        cmax = useCOsubset.replace([np.inf],np.nan).dropna(how = 'all').max()\n",
    "\n",
    "        #use histogram to make the bins (complete hack)\n",
    "        a,bin_edges = np.histogram(useCOsubset,bins = len(useColors)-3,range = (cmin,cmax))\n",
    "        #now...put zero at beginning and inf at end\n",
    "        #BUT - can actually have cases with values for all metabolites (novel concept)\n",
    "        try:\n",
    "            nz = useCOsubset.value_counts()[0] #count the number of zeros\n",
    "            a = np.insert(a,0,nz)\n",
    "            bin_edges = np.insert(bin_edges,0,0)\n",
    "        except:\n",
    "            pass\n",
    "            \n",
    "        try:\n",
    "            nm = useCOsubset.value_counts()[cmax]\n",
    "            a = np.append(a,nm)\n",
    "            bin_edges = np.append(bin_edges,cmax)\n",
    "        except:\n",
    "            pass\n",
    "\n",
    "        #then find the index for each number...this will be the index into useColors\n",
    "        useIdx = np.digitize(useCOsubset,bin_edges)\n",
    "        color_df = pd.DataFrame({'mtab': useCOsubset,'idx':useIdx})"
   ]
  },
  {
   "cell_type": "code",
   "execution_count": null,
   "metadata": {
    "collapsed": false
   },
   "outputs": [],
   "source": [
    "# Change the colors of compounds\n",
    "for element in pathway.compounds:\n",
    "    for graphic in element.graphics:\n",
    "        tc = element.name[4:10] #skip over the 'cpd:'\n",
    "        if (tc in intCompounds):\n",
    "            #in the pathway, set the color\n",
    "            tempColor = useCOsubset.loc[tc]\n",
    "            graphic.bgcolor = useColors[int(tempColor)] \n",
    "            graphic.width = size\n",
    "            graphic.height = size\n",
    "\n",
    "canvas = KGMLCanvas(oneMap, import_imagemap=True)\n",
    "pdfName = 'mapWithColors_' + str(oneMap) + '.pdf'\n",
    "canvas.draw('testingFolder' + '/' + pdfName)\n",
    "pdfName = None #empty it in case that is where I am having issues       "
   ]
  },
  {
   "cell_type": "code",
   "execution_count": 72,
   "metadata": {
    "collapsed": false
   },
   "outputs": [],
   "source": [
    "#is this cpd in all three strains? or some lower number...\n",
    "cpd_inNstrains = pd.DataFrame(index = useCO,columns = ['in3','in2','in1','in0'])\n",
    "\n",
    "for oneCpd in useCO:\n",
    "    strains = {'s9301','s0801','s9313'}\n",
    "    tMarker = pd.DataFrame(index = ['temp'],columns = ['s9301','s0801','s9313'])\n",
    "    for st in strains:\n",
    "        df2 = mtabPruned.loc[oneCpd].filter(regex = ('filter_' + st))\n",
    "        r = df2[df2.gt(0)]\n",
    "        if not r.empty:\n",
    "            tMarker.loc['temp',st] = 1\n",
    "\n",
    "    a = tMarker.sum(axis=1)\n",
    "\n",
    "    #cpd_inNstrains = pd.DataFrame(index = useCO,columns = ['in3','in2','in1','in0'])\n",
    "    #a.loc['temp']\n",
    "    if a.loc['temp'] == 3:\n",
    "        cpd_inNstrains.loc[oneCpd,'in3'] = 1\n",
    "    elif a.loc['temp'] == 2:\n",
    "        cpd_inNstrains.loc[oneCpd,'in2'] = 1\n",
    "    elif a.loc['temp'] == 1:\n",
    "        cpd_inNstrains.loc[oneCpd,'in1'] = 1\n",
    "    elif a.loc['temp'] == 0:\n",
    "        cpd_inNstrains.loc[oneCpd,'in0'] = 1\n",
    "        \n",
    "    del a,tMarker"
   ]
  },
  {
   "cell_type": "code",
   "execution_count": null,
   "metadata": {
    "collapsed": false
   },
   "outputs": [],
   "source": [
    "#import plotByGroup\n",
    "reload(plotByGroup)"
   ]
  },
  {
   "cell_type": "code",
   "execution_count": null,
   "metadata": {
    "collapsed": true
   },
   "outputs": [],
   "source": [
    "#for oneGroup in unMetabolismGroups:\n",
    "oneGroup = 'Carbohydrate metabolism'"
   ]
  },
  {
   "cell_type": "code",
   "execution_count": null,
   "metadata": {
    "collapsed": false
   },
   "outputs": [],
   "source": [
    "plotByGroup.plotGroup(oneGroup,prunedBRITE,useCO,mtabPruned,oneStrain)"
   ]
  },
  {
   "cell_type": "code",
   "execution_count": null,
   "metadata": {
    "collapsed": true
   },
   "outputs": [],
   "source": [
    "    #oneStrain = 'pmg'\n",
    "    shortList = prunedBRITE.loc[(prunedBRITE['B']==oneGroup)] \n",
    "    onePath = shortList.loc[:,'map']\n",
    "    onePath_ann = []\n",
    "    for item in onePath:\n",
    "        onePath_ann.append(oneStrain + item)\n",
    "\n",
    "    gatherGroup = pd.DataFrame()\n",
    "    for one in onePath_ann:\n",
    "        #print(one)\n",
    "        #not all pathways annotated in Prochlorococcus\n",
    "        setKeep = 1\n",
    "        try:\n",
    "            kegg_get(one).read()\n",
    "        except:\n",
    "            #use the ko map if there is nothing species specific\n",
    "            usePathway = 'ko' + one[3:8]\n",
    "            setKeep = 0\n",
    "            try:\n",
    "                kegg_get(usePathway).read()\n",
    "            except:\n",
    "                pass\n",
    "            \n",
    "        if setKeep:\n",
    "            usePathway = one\n",
    "        \n",
    "        try:\n",
    "            mCpds = set(getCfrom_ko(usePathway))\n",
    "        except:\n",
    "            #no ko pathway either\n",
    "            break\n",
    "                          \n",
    "        ProData= set(useCO)\n",
    "        handh = mCpds.intersection(ProData)\n",
    "        for cpd in handh:\n",
    "            #print(cpd)\n",
    "            #pdb.set_trace()\n",
    "            tm = mtabPruned.loc[cpd,:]\n",
    "            if (cpd in gatherGroup.index): \n",
    "                pass\n",
    "            else: #only add the mtab if it is new...can have mtabs in multiple pathways\n",
    "                gatherGroup = gatherGroup.append(tm)"
   ]
  }
 ],
 "metadata": {
  "anaconda-cloud": {},
  "kernelspec": {
   "display_name": "Python [default]",
   "language": "python",
   "name": "python3"
  },
  "language_info": {
   "codemirror_mode": {
    "name": "ipython",
    "version": 3
   },
   "file_extension": ".py",
   "mimetype": "text/x-python",
   "name": "python",
   "nbconvert_exporter": "python",
   "pygments_lexer": "ipython3",
   "version": "3.5.2"
  }
 },
 "nbformat": 4,
 "nbformat_minor": 1
}
