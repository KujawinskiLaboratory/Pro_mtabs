{
 "cells": [
  {
   "cell_type": "markdown",
   "metadata": {},
   "source": [
    "#Chisholm / Prochlorococcus project\n",
    "##Use Python and its various libraries to link the KEGG compound information with pathways\n",
    "###KLongnecker, 4/17/2017"
   ]
  },
  {
   "cell_type": "code",
   "execution_count": 2,
   "metadata": {
    "collapsed": false
   },
   "outputs": [
    {
     "name": "stdout",
     "output_type": "stream",
     "text": [
      "Once deleted, variables cannot be recovered. Proceed (y/[n])? y\n"
     ]
    }
   ],
   "source": [
    "%reset"
   ]
  },
  {
   "cell_type": "code",
   "execution_count": 3,
   "metadata": {
    "collapsed": false
   },
   "outputs": [],
   "source": [
    "import pandas as pd\n",
    "import numpy as np\n",
    "import re\n",
    "import os\n",
    "import glob\n",
    "from imp import reload\n",
    "\n",
    "import palettable as pal\n",
    "import matplotlib.pyplot as plt\n",
    "import matplotlib as mpl \n",
    "mpl.rcParams['pdf.fonttype'] = 42\n",
    "\n",
    "from Bio import SeqIO\n",
    "from Bio.KEGG.REST import *\n",
    "from Bio.KEGG.KGML import KGML_parser\n",
    "from Bio.Graphics.KGML_vis import KGMLCanvas\n",
    "from IPython.display import Image, HTML\n",
    "\n",
    "#used this to step into the function and debug it, also need line with Tracer()() \n",
    "from IPython.core.debugger import Tracer \n",
    "#os._exit(1) #this should get me out of the debugging...\n",
    "\n",
    "%matplotlib inline"
   ]
  },
  {
   "cell_type": "code",
   "execution_count": 4,
   "metadata": {
    "collapsed": false
   },
   "outputs": [
    {
     "data": {
      "text/html": [
       "<div>\n",
       "<table border=\"1\" class=\"dataframe\">\n",
       "  <thead>\n",
       "    <tr style=\"text-align: right;\">\n",
       "      <th></th>\n",
       "      <th>Plimited_extracellular_s9301ax_50</th>\n",
       "      <th>Plimited_filter_s9301ax_50</th>\n",
       "      <th>replete_extracellular_s9301ax_10</th>\n",
       "      <th>replete_extracellular_s9301ax_50</th>\n",
       "      <th>replete_extracellular_s0801ax_10</th>\n",
       "      <th>replete_extracellular_s9313ax_5</th>\n",
       "      <th>replete_extracellular_s9313ax_10</th>\n",
       "      <th>replete_filter_s9301ax_10</th>\n",
       "      <th>replete_filter_s9301ax_50</th>\n",
       "      <th>replete_filter_s0801ax_10</th>\n",
       "      <th>replete_filter_s9313ax_5</th>\n",
       "      <th>replete_filter_s9313ax_10</th>\n",
       "    </tr>\n",
       "    <tr>\n",
       "      <th>KEGG</th>\n",
       "      <th></th>\n",
       "      <th></th>\n",
       "      <th></th>\n",
       "      <th></th>\n",
       "      <th></th>\n",
       "      <th></th>\n",
       "      <th></th>\n",
       "      <th></th>\n",
       "      <th></th>\n",
       "      <th></th>\n",
       "      <th></th>\n",
       "      <th></th>\n",
       "    </tr>\n",
       "  </thead>\n",
       "  <tbody>\n",
       "    <tr>\n",
       "      <th>C00196</th>\n",
       "      <td>0.000000</td>\n",
       "      <td>0.0</td>\n",
       "      <td>0.000000</td>\n",
       "      <td>0.000000</td>\n",
       "      <td>0.000000</td>\n",
       "      <td>0.000000</td>\n",
       "      <td>0.000000</td>\n",
       "      <td>0.000000</td>\n",
       "      <td>0.000000</td>\n",
       "      <td>0.000000</td>\n",
       "      <td>0.00000</td>\n",
       "      <td>0.000000</td>\n",
       "    </tr>\n",
       "    <tr>\n",
       "      <th>C19675</th>\n",
       "      <td>59.673373</td>\n",
       "      <td>0.0</td>\n",
       "      <td>541.630502</td>\n",
       "      <td>0.000000</td>\n",
       "      <td>399.057861</td>\n",
       "      <td>0.000000</td>\n",
       "      <td>0.000000</td>\n",
       "      <td>0.000000</td>\n",
       "      <td>0.000000</td>\n",
       "      <td>0.000000</td>\n",
       "      <td>0.00000</td>\n",
       "      <td>0.000000</td>\n",
       "    </tr>\n",
       "    <tr>\n",
       "      <th>C08276</th>\n",
       "      <td>0.000000</td>\n",
       "      <td>0.0</td>\n",
       "      <td>0.000000</td>\n",
       "      <td>0.000000</td>\n",
       "      <td>0.000000</td>\n",
       "      <td>0.000000</td>\n",
       "      <td>0.000000</td>\n",
       "      <td>0.000000</td>\n",
       "      <td>0.000000</td>\n",
       "      <td>0.000000</td>\n",
       "      <td>0.00000</td>\n",
       "      <td>0.000000</td>\n",
       "    </tr>\n",
       "    <tr>\n",
       "      <th>C00141</th>\n",
       "      <td>8169.547758</td>\n",
       "      <td>0.0</td>\n",
       "      <td>16449.808476</td>\n",
       "      <td>24651.926818</td>\n",
       "      <td>223.180717</td>\n",
       "      <td>100228.888379</td>\n",
       "      <td>116396.989909</td>\n",
       "      <td>0.000000</td>\n",
       "      <td>0.000000</td>\n",
       "      <td>0.000000</td>\n",
       "      <td>0.00000</td>\n",
       "      <td>0.000000</td>\n",
       "    </tr>\n",
       "    <tr>\n",
       "      <th>C00671</th>\n",
       "      <td>0.000000</td>\n",
       "      <td>0.0</td>\n",
       "      <td>5910.269185</td>\n",
       "      <td>13236.046283</td>\n",
       "      <td>0.000000</td>\n",
       "      <td>20150.069568</td>\n",
       "      <td>26468.359973</td>\n",
       "      <td>316.366725</td>\n",
       "      <td>303.627647</td>\n",
       "      <td>272.686725</td>\n",
       "      <td>19.57057</td>\n",
       "      <td>395.492424</td>\n",
       "    </tr>\n",
       "  </tbody>\n",
       "</table>\n",
       "</div>"
      ],
      "text/plain": [
       "        Plimited_extracellular_s9301ax_50  Plimited_filter_s9301ax_50  \\\n",
       "KEGG                                                                    \n",
       "C00196                           0.000000                         0.0   \n",
       "C19675                          59.673373                         0.0   \n",
       "C08276                           0.000000                         0.0   \n",
       "C00141                        8169.547758                         0.0   \n",
       "C00671                           0.000000                         0.0   \n",
       "\n",
       "        replete_extracellular_s9301ax_10  replete_extracellular_s9301ax_50  \\\n",
       "KEGG                                                                         \n",
       "C00196                          0.000000                          0.000000   \n",
       "C19675                        541.630502                          0.000000   \n",
       "C08276                          0.000000                          0.000000   \n",
       "C00141                      16449.808476                      24651.926818   \n",
       "C00671                       5910.269185                      13236.046283   \n",
       "\n",
       "        replete_extracellular_s0801ax_10  replete_extracellular_s9313ax_5  \\\n",
       "KEGG                                                                        \n",
       "C00196                          0.000000                         0.000000   \n",
       "C19675                        399.057861                         0.000000   \n",
       "C08276                          0.000000                         0.000000   \n",
       "C00141                        223.180717                    100228.888379   \n",
       "C00671                          0.000000                     20150.069568   \n",
       "\n",
       "        replete_extracellular_s9313ax_10  replete_filter_s9301ax_10  \\\n",
       "KEGG                                                                  \n",
       "C00196                          0.000000                   0.000000   \n",
       "C19675                          0.000000                   0.000000   \n",
       "C08276                          0.000000                   0.000000   \n",
       "C00141                     116396.989909                   0.000000   \n",
       "C00671                      26468.359973                 316.366725   \n",
       "\n",
       "        replete_filter_s9301ax_50  replete_filter_s0801ax_10  \\\n",
       "KEGG                                                           \n",
       "C00196                   0.000000                   0.000000   \n",
       "C19675                   0.000000                   0.000000   \n",
       "C08276                   0.000000                   0.000000   \n",
       "C00141                   0.000000                   0.000000   \n",
       "C00671                 303.627647                 272.686725   \n",
       "\n",
       "        replete_filter_s9313ax_5  replete_filter_s9313ax_10  \n",
       "KEGG                                                         \n",
       "C00196                   0.00000                   0.000000  \n",
       "C19675                   0.00000                   0.000000  \n",
       "C08276                   0.00000                   0.000000  \n",
       "C00141                   0.00000                   0.000000  \n",
       "C00671                  19.57057                 395.492424  "
      ]
     },
     "execution_count": 4,
     "metadata": {},
     "output_type": "execute_result"
    }
   ],
   "source": [
    "mtabFile = 'ChisholmPro_KEGGexport.2017.04.17.csv' #first column is KEGG C number\n",
    "mtabData=pd.read_csv(mtabFile, index_col='KEGG')\n",
    "mtabData.head()"
   ]
  },
  {
   "cell_type": "code",
   "execution_count": 4,
   "metadata": {
    "collapsed": false
   },
   "outputs": [],
   "source": [
    "if False: \n",
    "    #this will be useful later...but is apples and oranges right now...\n",
    "    ancillaryFile = 'ChisholmPro_ancillaryData.2017.04.18.csv'\n",
    "    ancillaryData = pd.read_csv(ancillaryFile, index_col = None)"
   ]
  },
  {
   "cell_type": "code",
   "execution_count": 5,
   "metadata": {
    "collapsed": true
   },
   "outputs": [],
   "source": [
    "#Picking code out of the NB project"
   ]
  },
  {
   "cell_type": "code",
   "execution_count": 6,
   "metadata": {
    "collapsed": false
   },
   "outputs": [
    {
     "data": {
      "text/plain": [
       "99"
      ]
     },
     "execution_count": 6,
     "metadata": {},
     "output_type": "execute_result"
    }
   ],
   "source": [
    "#allPathways = kegg_list(\"pathway\").read() #all organisms\n",
    "allPathways = kegg_list(\"pathway\",\"pmg\").read() #pmg i 9301, HLII\n",
    "len(allPathways.split('\\n'))"
   ]
  },
  {
   "cell_type": "code",
   "execution_count": 7,
   "metadata": {
    "collapsed": true
   },
   "outputs": [],
   "source": [
    "trimPath = []\n",
    "current_section = None\n",
    "for line in allPathways.rstrip().split(\"\\n\"):\n",
    "    tp = line[5:13]\n",
    "    trimPath.append(tp)"
   ]
  },
  {
   "cell_type": "code",
   "execution_count": 8,
   "metadata": {
    "collapsed": true
   },
   "outputs": [],
   "source": [
    "#set up a function to get the list of compounds for a given pathway (must be defined as ko00140 NOT map00140)\n",
    "def getCfrom_ko(ko_id):\n",
    "    pathway_file = kegg_get(ko_id).read()  # query and read the pathway\n",
    "    compound_list = []\n",
    "\n",
    "    current_section = None\n",
    "    for line in pathway_file.rstrip().split(\"\\n\"):\n",
    "        section = line[:12].strip()  # section names are within 12 columns\n",
    "        if not section == \"\":\n",
    "            current_section = section\n",
    "        if current_section == \"COMPOUND\":\n",
    "            compound_identifiers = line[12:].split(\"; \")\n",
    "            t = compound_identifiers[0]\n",
    "            compound_id = t[0:6]\n",
    "\n",
    "            if not compound_id in compound_list:\n",
    "                compound_list.append(compound_id)\n",
    "    return compound_list"
   ]
  },
  {
   "cell_type": "code",
   "execution_count": 9,
   "metadata": {
    "collapsed": true
   },
   "outputs": [],
   "source": [
    "#set up a function to get the list of K orthologues for a given pathway (must be defined as ko00140 NOT map00140)\n",
    "#for this project: can use the three digit code for the different Prochlorococcus strains\n",
    "def getKfrom_ko(ko_id):\n",
    "    pathway_file = kegg_get(ko_id).read()  # query and read the pathway\n",
    "    K_list = []\n",
    "\n",
    "    current_section = None\n",
    "    for line in pathway_file.rstrip().split(\"\\n\"):\n",
    "        section = line[:12].strip()  # section names are within 12 columns\n",
    "        if not section == \"\":\n",
    "            current_section = section\n",
    "        if current_section == \"ORTHOLOGY\":\n",
    "            K_identifiers = line[12:].split(\"; \")\n",
    "            t = K_identifiers[0]\n",
    "            K_id = t[0:6]\n",
    "\n",
    "            if not K_id in K_list:\n",
    "                K_list.append(K_id)\n",
    "    return K_list"
   ]
  },
  {
   "cell_type": "code",
   "execution_count": 10,
   "metadata": {
    "collapsed": false
   },
   "outputs": [],
   "source": [
    "# A bit of code that will help us display the PDF output\n",
    "def PDF(filename):\n",
    "    return HTML('<iframe src=%s width=700 height=350></iframe>' % filename)"
   ]
  },
  {
   "cell_type": "code",
   "execution_count": 11,
   "metadata": {
    "collapsed": false
   },
   "outputs": [],
   "source": [
    "## A bit of helper code to shorten long text\n",
    "#def head(text, lines=10):\n",
    "#    \"\"\" Print the first lines lines of the passed text.\n",
    "#    \"\"\"\n",
    "#    print '\\n'.join(text.split('\\n')[:lines] + ['[...]'])"
   ]
  },
  {
   "cell_type": "code",
   "execution_count": 12,
   "metadata": {
    "collapsed": false
   },
   "outputs": [],
   "source": [
    "import fxn_plotPathway\n",
    "##if I make a change, have to reload the function:\n",
    "# reload(fxn_plotPathway)"
   ]
  },
  {
   "cell_type": "code",
   "execution_count": 13,
   "metadata": {
    "collapsed": false
   },
   "outputs": [
    {
     "data": {
      "text/plain": [
       "Index(['C00196', 'C19675', 'C08276', 'C00141', 'C00671', 'C00568', 'C00156',\n",
       "       'C00233', 'C00170', '0', 'C00352', 'C04022', 'C00334', 'C01279',\n",
       "       'C00004', 'C00134', '0', 'C00147', 'C00212', 'C00020', 'C00026',\n",
       "       'C00062', 'C00049', 'C00719', 'C00120', 'C07481', 'C01674', '0',\n",
       "       'C00114', 'C03557', 'C00158', 'C00327', 'C08230', 'C00380', 'C01909',\n",
       "       'C00111', 'C06231', 'C00504', 'C06454', 'C00122', 'C00092', 'C00025',\n",
       "       'C00064', 'C01705', 'C00242', 'C00387', '0', 'C00954', 'C00294',\n",
       "       'C00130', 'C00407', 'C00097', 'C00051', 'C00328', 'C00123', '0',\n",
       "       'C00149', 'C00073', 'C06470', 'C00140', 'C00624', 'C02713', 'C00077',\n",
       "       'C00295', 'C00864', 'C00079', 'C00074', 'C05786', 'C00148', 'C00314',\n",
       "       'C00255', '0', 'C00021', 'C00019', 'C00213', 'C00065', 'C00093',\n",
       "       'C05122', '0', 'C00042', 'C10833', 'C00245', 'C00378', 'C01081',\n",
       "       'C00188', 'C00214', 'C00398', 'C00078', 'C00106', 'C00105', 'C00183',\n",
       "       'C00385', 'C01762'],\n",
       "      dtype='object', name='KEGG')"
      ]
     },
     "execution_count": 13,
     "metadata": {},
     "output_type": "execute_result"
    }
   ],
   "source": [
    "mtabData.index"
   ]
  },
  {
   "cell_type": "code",
   "execution_count": 14,
   "metadata": {
    "collapsed": true
   },
   "outputs": [],
   "source": [
    "#need to delete the zeros for now...\n",
    "mtabPruned = mtabData.drop(['0'])"
   ]
  },
  {
   "cell_type": "code",
   "execution_count": 15,
   "metadata": {
    "collapsed": false
   },
   "outputs": [
    {
     "data": {
      "text/plain": [
       "Index(['C00196', 'C19675', 'C08276', 'C00141', 'C00671', 'C00568', 'C00156',\n",
       "       'C00233', 'C00170', 'C00352', 'C04022', 'C00334', 'C01279', 'C00004',\n",
       "       'C00134', 'C00147', 'C00212', 'C00020', 'C00026', 'C00062', 'C00049',\n",
       "       'C00719', 'C00120', 'C07481', 'C01674', 'C00114', 'C03557', 'C00158',\n",
       "       'C00327', 'C08230', 'C00380', 'C01909', 'C00111', 'C06231', 'C00504',\n",
       "       'C06454', 'C00122', 'C00092', 'C00025', 'C00064', 'C01705', 'C00242',\n",
       "       'C00387', 'C00954', 'C00294', 'C00130', 'C00407', 'C00097', 'C00051',\n",
       "       'C00328', 'C00123', 'C00149', 'C00073', 'C06470', 'C00140', 'C00624',\n",
       "       'C02713', 'C00077', 'C00295', 'C00864', 'C00079', 'C00074', 'C05786',\n",
       "       'C00148', 'C00314', 'C00255', 'C00021', 'C00019', 'C00213', 'C00065',\n",
       "       'C00093', 'C05122', 'C00042', 'C10833', 'C00245', 'C00378', 'C01081',\n",
       "       'C00188', 'C00214', 'C00398', 'C00078', 'C00106', 'C00105', 'C00183',\n",
       "       'C00385', 'C01762'],\n",
       "      dtype='object', name='KEGG')"
      ]
     },
     "execution_count": 15,
     "metadata": {},
     "output_type": "execute_result"
    }
   ],
   "source": [
    "mtabPruned.index"
   ]
  },
  {
   "cell_type": "code",
   "execution_count": 16,
   "metadata": {
    "collapsed": true
   },
   "outputs": [],
   "source": [
    "# if I only want a presence/absence plot, used this\n",
    "#justKEGG = mtabPruned.index"
   ]
  },
  {
   "cell_type": "code",
   "execution_count": 17,
   "metadata": {
    "collapsed": false
   },
   "outputs": [
    {
     "data": {
      "text/plain": [
       "<module 'fxn_plotPathway' from 'C:\\\\Users\\\\krista\\\\Documents\\\\GitHub\\\\Pro_mtabs\\\\fxn_plotPathway.py'>"
      ]
     },
     "execution_count": 17,
     "metadata": {},
     "output_type": "execute_result"
    }
   ],
   "source": [
    "#only need to reload if I change the *py file\n",
    "#reload(fxn_plotPathway)"
   ]
  },
  {
   "cell_type": "code",
   "execution_count": 18,
   "metadata": {
    "collapsed": false
   },
   "outputs": [],
   "source": [
    "#do one pathway\n",
    "useFolder = 'pathway_plots'\n",
    "usePathway = 'pmg00261'\n",
    "useCO = mtabPruned.index\n",
    "CO_values = mtabPruned.loc[:,'Plimited_extracellular_s9301ax_50']\n",
    "CO_values = CO_values.replace(0,np.nan) #change zeros to NaN first\n",
    "fxn_plotPathway.gatherDetails(usePathway,useFolder,useCO,CO_values)"
   ]
  },
  {
   "cell_type": "code",
   "execution_count": 19,
   "metadata": {
    "collapsed": false
   },
   "outputs": [],
   "source": [
    "#do all pathways\n",
    "for item in trimPath:\n",
    "    fxn_plotPathway.gatherDetails(item,useFolder,useCO,CO_values)\n",
    "    #print(item)"
   ]
  },
  {
   "cell_type": "code",
   "execution_count": null,
   "metadata": {
    "collapsed": true
   },
   "outputs": [],
   "source": []
  },
  {
   "cell_type": "code",
   "execution_count": null,
   "metadata": {
    "collapsed": true
   },
   "outputs": [],
   "source": []
  },
  {
   "cell_type": "code",
   "execution_count": null,
   "metadata": {
    "collapsed": true
   },
   "outputs": [],
   "source": []
  },
  {
   "cell_type": "code",
   "execution_count": null,
   "metadata": {
    "collapsed": false
   },
   "outputs": [],
   "source": []
  },
  {
   "cell_type": "code",
   "execution_count": 19,
   "metadata": {
    "collapsed": false
   },
   "outputs": [
    {
     "ename": "NameError",
     "evalue": "name 'useColors' is not defined",
     "output_type": "error",
     "traceback": [
      "\u001b[0;31m---------------------------------------------------------------------------\u001b[0m",
      "\u001b[0;31mNameError\u001b[0m                                 Traceback (most recent call last)",
      "\u001b[0;32m<ipython-input-19-0e3dfd7805b9>\u001b[0m in \u001b[0;36m<module>\u001b[0;34m()\u001b[0m\n\u001b[1;32m      3\u001b[0m \u001b[0mcolormax\u001b[0m \u001b[1;33m=\u001b[0m \u001b[0mCO_values\u001b[0m\u001b[1;33m.\u001b[0m\u001b[0mmax\u001b[0m\u001b[1;33m(\u001b[0m\u001b[1;33m)\u001b[0m\u001b[1;33m\u001b[0m\u001b[0m\n\u001b[1;32m      4\u001b[0m \u001b[0mcolordiff\u001b[0m \u001b[1;33m=\u001b[0m \u001b[0mcolormax\u001b[0m \u001b[1;33m-\u001b[0m \u001b[0mcolormin\u001b[0m\u001b[1;33m\u001b[0m\u001b[0m\n\u001b[0;32m----> 5\u001b[0;31m \u001b[0mthecolor\u001b[0m \u001b[1;33m=\u001b[0m \u001b[1;33m(\u001b[0m\u001b[1;33m(\u001b[0m\u001b[0mCO_values\u001b[0m \u001b[1;33m-\u001b[0m \u001b[0mcolormin\u001b[0m\u001b[1;33m)\u001b[0m\u001b[1;33m/\u001b[0m\u001b[1;33m(\u001b[0m\u001b[0mcolordiff\u001b[0m\u001b[1;33m)\u001b[0m\u001b[1;33m*\u001b[0m\u001b[1;33m(\u001b[0m\u001b[0mlen\u001b[0m\u001b[1;33m(\u001b[0m\u001b[0museColors\u001b[0m\u001b[1;33m)\u001b[0m\u001b[1;33m-\u001b[0m\u001b[1;36m1\u001b[0m\u001b[1;33m)\u001b[0m \u001b[1;33m+\u001b[0m \u001b[1;36m1\u001b[0m\u001b[1;33m)\u001b[0m\u001b[1;33m.\u001b[0m\u001b[0mround\u001b[0m\u001b[1;33m(\u001b[0m\u001b[1;33m)\u001b[0m\u001b[1;33m\u001b[0m\u001b[0m\n\u001b[0m",
      "\u001b[0;31mNameError\u001b[0m: name 'useColors' is not defined"
     ]
    }
   ],
   "source": [
    "#modify from the colordots.m code\n",
    "colormin = CO_values.min()\n",
    "colormax = CO_values.max()\n",
    "colordiff = colormax - colormin\n",
    "thecolor = ((CO_values - colormin)/(colordiff)*(len(useColors)-1) + 1).round()"
   ]
  },
  {
   "cell_type": "code",
   "execution_count": null,
   "metadata": {
    "collapsed": false
   },
   "outputs": [],
   "source": [
    "\n"
   ]
  },
  {
   "cell_type": "code",
   "execution_count": 20,
   "metadata": {
    "collapsed": false
   },
   "outputs": [],
   "source": [
    "#for item in trimPath: #searching within one pathway at a time\n",
    "#only one pathway at a time\n",
    "genes = getKfrom_ko(usePathway)\n",
    "compounds = getCfrom_ko(usePathway)\n",
    "\n",
    "#have to track genes and compounds differently for the biopython plotting later on \n",
    "setG = set(genes)\n",
    "setC = set(compounds)\n",
    "setT = set(useCO)\n",
    "#figure out which compounds are in the TSQ data...\n",
    "intCompounds = setC.intersection(setT)\n",
    "\n",
    "#make the colors a function of amount\n",
    "#useColors = pal.cmocean.sequential.Phase_20.hex_colors\n",
    "useColors = pal.colorbrewer.diverging.RdYlBu_11.hex_colors\n",
    "\n",
    "#modify from the colordots.m code\n",
    "colormin = CO_values.min()\n",
    "colormax = CO_values.max()\n",
    "colordiff = colormax - colormin\n",
    "thecolor = ((CO_values - colormin)/(colordiff)*(len(useColors)-1) + 1).round()\n",
    "\n",
    "\n",
    "size = 20 #turns out I can increase the size of the compounds in the plots"
   ]
  },
  {
   "cell_type": "code",
   "execution_count": 21,
   "metadata": {
    "collapsed": true
   },
   "outputs": [],
   "source": [
    "#useColors.insert(0,'#f7f7f7') ## insert white at beginning\n",
    "useGreen = '#2ca25f'\n",
    "pathway = KGML_parser.read(kegg_get(usePathway, \"kgml\"))\n",
    "for element in pathway.orthologs:\n",
    "    #print element.name\n",
    "    for graphic in element.graphics: #[only color if in Prochlorococcus]\n",
    "        tg = element.name[3:9] #skip over the 'ko:'\n",
    "        if (tg in setG):\n",
    "            #in the pathway for Pro\n",
    "            graphic.bgcolor = useGreen #"
   ]
  },
  {
   "cell_type": "code",
   "execution_count": 22,
   "metadata": {
    "collapsed": false
   },
   "outputs": [
    {
     "name": "stdout",
     "output_type": "stream",
     "text": [
      "C00062\n",
      "C00065\n",
      "C00188\n",
      "C00019\n",
      "C00049\n"
     ]
    }
   ],
   "source": [
    "# Change the colours of compounds (based on the value)\n",
    "for element in pathway.compounds:\n",
    "    for graphic in element.graphics:\n",
    "        tc = element.name[4:10] #skip over the 'cpd:'\n",
    "        #print(tc)\n",
    "        if (tc in intCompounds):\n",
    "            #in the pathway \n",
    "            #find the color...based on the scaled value\n",
    "            print(tc)\n",
    "#             #Tracer()()\n",
    "#             tempColor = thecolor.loc[tc]\n",
    "#             if np.isnan(tempColor):\n",
    "#                 #Tracer()()\n",
    "#                 graphic.bgcolor = '#e34a33' #orange (contrast to green/purple)\n",
    "#             else: \n",
    "#                 graphic.bgcolor = useColors[int(tempColor)-1]\n",
    "#             tempColor = None\n",
    "#             graphic.width = size\n",
    "#             graphic.height = size"
   ]
  },
  {
   "cell_type": "code",
   "execution_count": 23,
   "metadata": {
    "collapsed": false
   },
   "outputs": [
    {
     "data": {
      "text/plain": [
       "{'C00019', 'C00049', 'C00062', 'C00065', 'C00188'}"
      ]
     },
     "execution_count": 23,
     "metadata": {},
     "output_type": "execute_result"
    }
   ],
   "source": [
    "intCompounds"
   ]
  },
  {
   "cell_type": "code",
   "execution_count": 24,
   "metadata": {
    "collapsed": true
   },
   "outputs": [],
   "source": [
    "tc = 'C00019'"
   ]
  },
  {
   "cell_type": "code",
   "execution_count": 25,
   "metadata": {
    "collapsed": true
   },
   "outputs": [],
   "source": [
    "tempColor = thecolor.loc[tc]"
   ]
  },
  {
   "cell_type": "code",
   "execution_count": 26,
   "metadata": {
    "collapsed": false
   },
   "outputs": [
    {
     "ename": "ValueError",
     "evalue": "The truth value of a Series is ambiguous. Use a.empty, a.bool(), a.item(), a.any() or a.all().",
     "output_type": "error",
     "traceback": [
      "\u001b[0;31m---------------------------------------------------------------------------\u001b[0m",
      "\u001b[0;31mValueError\u001b[0m                                Traceback (most recent call last)",
      "\u001b[0;32m<ipython-input-26-1f45a166725d>\u001b[0m in \u001b[0;36m<module>\u001b[0;34m()\u001b[0m\n\u001b[0;32m----> 1\u001b[0;31m \u001b[1;32mif\u001b[0m \u001b[0mnp\u001b[0m\u001b[1;33m.\u001b[0m\u001b[0misnan\u001b[0m\u001b[1;33m(\u001b[0m\u001b[0mtempColor\u001b[0m\u001b[1;33m)\u001b[0m\u001b[1;33m:\u001b[0m\u001b[1;33m\u001b[0m\u001b[0m\n\u001b[0m\u001b[1;32m      2\u001b[0m     \u001b[0mgraphic\u001b[0m\u001b[1;33m.\u001b[0m\u001b[0mbgcolor\u001b[0m \u001b[1;33m=\u001b[0m \u001b[1;34m'#e34a33'\u001b[0m \u001b[1;31m#orange (contrast to green/purple)\u001b[0m\u001b[1;33m\u001b[0m\u001b[0m\n\u001b[1;32m      3\u001b[0m \u001b[1;32melse\u001b[0m\u001b[1;33m:\u001b[0m\u001b[1;33m\u001b[0m\u001b[0m\n\u001b[1;32m      4\u001b[0m     \u001b[0mgraphic\u001b[0m\u001b[1;33m.\u001b[0m\u001b[0mbgcolor\u001b[0m \u001b[1;33m=\u001b[0m \u001b[0museColors\u001b[0m\u001b[1;33m[\u001b[0m\u001b[0mint\u001b[0m\u001b[1;33m(\u001b[0m\u001b[0mtempColor\u001b[0m\u001b[1;33m)\u001b[0m\u001b[1;33m-\u001b[0m\u001b[1;36m1\u001b[0m\u001b[1;33m]\u001b[0m\u001b[1;33m\u001b[0m\u001b[0m\n",
      "\u001b[0;32mC:\\Program Files\\Anaconda3\\lib\\site-packages\\pandas\\core\\generic.py\u001b[0m in \u001b[0;36m__nonzero__\u001b[0;34m(self)\u001b[0m\n\u001b[1;32m    890\u001b[0m         raise ValueError(\"The truth value of a {0} is ambiguous. \"\n\u001b[1;32m    891\u001b[0m                          \u001b[1;34m\"Use a.empty, a.bool(), a.item(), a.any() or a.all().\"\u001b[0m\u001b[1;33m\u001b[0m\u001b[0m\n\u001b[0;32m--> 892\u001b[0;31m                          .format(self.__class__.__name__))\n\u001b[0m\u001b[1;32m    893\u001b[0m \u001b[1;33m\u001b[0m\u001b[0m\n\u001b[1;32m    894\u001b[0m     \u001b[0m__bool__\u001b[0m \u001b[1;33m=\u001b[0m \u001b[0m__nonzero__\u001b[0m\u001b[1;33m\u001b[0m\u001b[0m\n",
      "\u001b[0;31mValueError\u001b[0m: The truth value of a Series is ambiguous. Use a.empty, a.bool(), a.item(), a.any() or a.all()."
     ]
    }
   ],
   "source": [
    "if np.isnan(tempColor):\n",
    "    graphic.bgcolor = '#e34a33' #orange (contrast to green/purple)\n",
    "else: \n",
    "    graphic.bgcolor = useColors[int(tempColor)-1]"
   ]
  },
  {
   "cell_type": "code",
   "execution_count": 27,
   "metadata": {
    "collapsed": false
   },
   "outputs": [
    {
     "ename": "TypeError",
     "evalue": "cannot convert the series to <class 'int'>",
     "output_type": "error",
     "traceback": [
      "\u001b[0;31m---------------------------------------------------------------------------\u001b[0m",
      "\u001b[0;31mTypeError\u001b[0m                                 Traceback (most recent call last)",
      "\u001b[0;32m<ipython-input-27-5ca2c14aca11>\u001b[0m in \u001b[0;36m<module>\u001b[0;34m()\u001b[0m\n\u001b[0;32m----> 1\u001b[0;31m \u001b[0mint\u001b[0m\u001b[1;33m(\u001b[0m\u001b[0mtempColor\u001b[0m\u001b[1;33m)\u001b[0m\u001b[1;33m\u001b[0m\u001b[0m\n\u001b[0m",
      "\u001b[0;32mC:\\Program Files\\Anaconda3\\lib\\site-packages\\pandas\\core\\series.py\u001b[0m in \u001b[0;36mwrapper\u001b[0;34m(self)\u001b[0m\n\u001b[1;32m     76\u001b[0m             \u001b[1;32mreturn\u001b[0m \u001b[0mconverter\u001b[0m\u001b[1;33m(\u001b[0m\u001b[0mself\u001b[0m\u001b[1;33m.\u001b[0m\u001b[0miloc\u001b[0m\u001b[1;33m[\u001b[0m\u001b[1;36m0\u001b[0m\u001b[1;33m]\u001b[0m\u001b[1;33m)\u001b[0m\u001b[1;33m\u001b[0m\u001b[0m\n\u001b[1;32m     77\u001b[0m         raise TypeError(\"cannot convert the series to \"\n\u001b[0;32m---> 78\u001b[0;31m                         \"{0}\".format(str(converter)))\n\u001b[0m\u001b[1;32m     79\u001b[0m \u001b[1;33m\u001b[0m\u001b[0m\n\u001b[1;32m     80\u001b[0m     \u001b[1;32mreturn\u001b[0m \u001b[0mwrapper\u001b[0m\u001b[1;33m\u001b[0m\u001b[0m\n",
      "\u001b[0;31mTypeError\u001b[0m: cannot convert the series to <class 'int'>"
     ]
    }
   ],
   "source": [
    "int(tempColor)"
   ]
  },
  {
   "cell_type": "code",
   "execution_count": 28,
   "metadata": {
    "collapsed": false
   },
   "outputs": [
    {
     "data": {
      "text/plain": [
       "KEGG\n",
       "C00019   NaN\n",
       "C00019   NaN\n",
       "Name: Plimited_extracellular_s9301ax_50, dtype: float64"
      ]
     },
     "execution_count": 28,
     "metadata": {},
     "output_type": "execute_result"
    }
   ],
   "source": [
    "tempColor"
   ]
  },
  {
   "cell_type": "code",
   "execution_count": null,
   "metadata": {
    "collapsed": false
   },
   "outputs": [],
   "source": [
    "canvas = KGMLCanvas(pathway, import_imagemap=True)\n",
    "pdfName = 'mapWithColors_' + str(usePathway) + '.pdf'\n",
    "#Tracer()()\n",
    "canvas.draw(useFolder + '/' + pdfName)\n",
    "pdfName = None #empty it in case that is where I am having issues"
   ]
  },
  {
   "cell_type": "code",
   "execution_count": null,
   "metadata": {
    "collapsed": false
   },
   "outputs": [],
   "source": [
    "PDF('pathway_plots/mapWithColors_' + str(usePathway) + '.pdf')"
   ]
  },
  {
   "cell_type": "code",
   "execution_count": null,
   "metadata": {
    "collapsed": true
   },
   "outputs": [],
   "source": []
  }
 ],
 "metadata": {
  "anaconda-cloud": {},
  "kernelspec": {
   "display_name": "Python [default]",
   "language": "python",
   "name": "python3"
  },
  "language_info": {
   "codemirror_mode": {
    "name": "ipython",
    "version": 3
   },
   "file_extension": ".py",
   "mimetype": "text/x-python",
   "name": "python",
   "nbconvert_exporter": "python",
   "pygments_lexer": "ipython3",
   "version": "3.5.2"
  }
 },
 "nbformat": 4,
 "nbformat_minor": 1
}
