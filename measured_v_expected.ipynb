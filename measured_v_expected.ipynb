{
 "cells": [
  {
   "cell_type": "markdown",
   "metadata": {},
   "source": [
    "#Chisholm / Prochlorococcus project\n",
    "##Use Python and its various libraries to link the KEGG compound information with pathways\n",
    "###KLongnecker, 4/27/2017\n",
    "Updated to use the compound data corrected for extraction efficiency for all compounds.\n",
    "====\n",
    "#KL 5/8/2019 Liz wants measured vs. expected for the KEGG integration...make new notebook"
   ]
  },
  {
   "cell_type": "code",
   "execution_count": 22,
   "metadata": {
    "collapsed": true
   },
   "outputs": [],
   "source": [
    "if False:\n",
    "    #this will work to reload whatever I had\n",
    "    import dill\n",
    "    dill.load_session('globalsave.pkl')"
   ]
  },
  {
   "cell_type": "code",
   "execution_count": 23,
   "metadata": {
    "collapsed": false
   },
   "outputs": [
    {
     "name": "stdout",
     "output_type": "stream",
     "text": [
      "Once deleted, variables cannot be recovered. Proceed (y/[n])? y\n"
     ]
    }
   ],
   "source": [
    "if True:\n",
    "    %reset"
   ]
  },
  {
   "cell_type": "code",
   "execution_count": 24,
   "metadata": {
    "collapsed": true
   },
   "outputs": [],
   "source": [
    "import pandas as pd\n",
    "import numpy as np\n",
    "import re\n",
    "import os\n",
    "import glob\n",
    "import math\n",
    "from imp import reload\n",
    "import pdb\n",
    "from sklearn import preprocessing\n",
    "#from sklearn.preprocessing import RobustScaler\n",
    "from sklearn.preprocessing import MinMaxScaler #redundant, fix later\n",
    "\n",
    "import seaborn as sns\n",
    "\n",
    "import palettable as pal\n",
    "import matplotlib.pyplot as plt\n",
    "import matplotlib as mpl \n",
    "mpl.rcParams['pdf.fonttype'] = 42\n",
    "\n",
    "from matplotlib_venn import venn2\n",
    "from matplotlib_venn import venn3\n",
    "from matplotlib_venn import venn3_unweighted\n",
    "\n",
    "from Bio import SeqIO\n",
    "from Bio.KEGG.REST import *\n",
    "from Bio.KEGG.KGML import KGML_parser\n",
    "from Bio.Graphics.KGML_vis import KGMLCanvas\n",
    "from IPython.display import Image, HTML\n",
    "\n",
    "#used this to step into the function and debug it, also need line with Tracer()() \n",
    "from IPython.core.debugger import Tracer \n",
    "#os._exit(1) #this should get me out of the debugging...\n",
    "\n",
    "%matplotlib inline"
   ]
  },
  {
   "cell_type": "code",
   "execution_count": 25,
   "metadata": {
    "collapsed": false
   },
   "outputs": [
    {
     "data": {
      "text/html": [
       "<div>\n",
       "<table border=\"1\" class=\"dataframe\">\n",
       "  <thead>\n",
       "    <tr style=\"text-align: right;\">\n",
       "      <th></th>\n",
       "      <th>mtabNames</th>\n",
       "    </tr>\n",
       "    <tr>\n",
       "      <th>KEGG</th>\n",
       "      <th></th>\n",
       "    </tr>\n",
       "  </thead>\n",
       "  <tbody>\n",
       "    <tr>\n",
       "      <th>C00196</th>\n",
       "      <td>2-3-dihydroxybenzoic acid</td>\n",
       "    </tr>\n",
       "    <tr>\n",
       "      <th>C19675</th>\n",
       "      <td>2-3-dihydroxypropane1sulfonate</td>\n",
       "    </tr>\n",
       "    <tr>\n",
       "      <th>C08276</th>\n",
       "      <td>3-mercapto proprionate</td>\n",
       "    </tr>\n",
       "  </tbody>\n",
       "</table>\n",
       "</div>"
      ],
      "text/plain": [
       "                             mtabNames\n",
       "KEGG                                  \n",
       "C00196       2-3-dihydroxybenzoic acid\n",
       "C19675  2-3-dihydroxypropane1sulfonate\n",
       "C08276          3-mercapto proprionate"
      ]
     },
     "execution_count": 25,
     "metadata": {},
     "output_type": "execute_result"
    }
   ],
   "source": [
    "mtabFile = 'ChisholmPro_cellSpecific_KEGGexport.2017.07.31_v1.csv' #first column is KEGG C number\n",
    "mtabData=pd.read_csv(mtabFile, index_col='KEGG')\n",
    "mtabNames = pd.read_csv(mtabFile,index_col = 'KEGG',usecols = ['KEGG','mtabNames'])\n",
    "mtabNames.head(3)"
   ]
  },
  {
   "cell_type": "code",
   "execution_count": 26,
   "metadata": {
    "collapsed": true
   },
   "outputs": [],
   "source": [
    "#take out the extra columns: \n",
    "mtabData.drop(['extEff','mtabNames'],axis = 1,inplace = True)\n",
    "#have zeros for metabolites that are not in KEGG, need to delete the zeros for now...\n",
    "mtabPruned = mtabData.drop(['0'])"
   ]
  },
  {
   "cell_type": "code",
   "execution_count": 27,
   "metadata": {
    "collapsed": false
   },
   "outputs": [
    {
     "data": {
      "text/html": [
       "<div>\n",
       "<table border=\"1\" class=\"dataframe\">\n",
       "  <thead>\n",
       "    <tr style=\"text-align: right;\">\n",
       "      <th></th>\n",
       "      <th>Plimited_extracellular_s9301ax_50</th>\n",
       "      <th>Plimited_filter_s9301ax_50</th>\n",
       "      <th>replete_extracellular_s9301ax_10</th>\n",
       "      <th>replete_extracellular_s9301ax_50</th>\n",
       "      <th>replete_extracellular_s0801ax_10</th>\n",
       "      <th>replete_extracellular_s9313ax_5</th>\n",
       "      <th>replete_extracellular_s9313ax_10</th>\n",
       "      <th>replete_filter_s9301ax_10</th>\n",
       "      <th>replete_filter_s9301ax_50</th>\n",
       "      <th>replete_filter_s0801ax_10</th>\n",
       "      <th>replete_filter_s9313ax_5</th>\n",
       "      <th>replete_filter_s9313ax_10</th>\n",
       "    </tr>\n",
       "    <tr>\n",
       "      <th>KEGG</th>\n",
       "      <th></th>\n",
       "      <th></th>\n",
       "      <th></th>\n",
       "      <th></th>\n",
       "      <th></th>\n",
       "      <th></th>\n",
       "      <th></th>\n",
       "      <th></th>\n",
       "      <th></th>\n",
       "      <th></th>\n",
       "      <th></th>\n",
       "      <th></th>\n",
       "    </tr>\n",
       "  </thead>\n",
       "  <tbody>\n",
       "    <tr>\n",
       "      <th>C00196</th>\n",
       "      <td>0.000000e+00</td>\n",
       "      <td>0.0</td>\n",
       "      <td>0.000000e+00</td>\n",
       "      <td>0.000000e+00</td>\n",
       "      <td>0.000000e+00</td>\n",
       "      <td>0.000000e+00</td>\n",
       "      <td>0.000000e+00</td>\n",
       "      <td>0.000000e+00</td>\n",
       "      <td>0.000000e+00</td>\n",
       "      <td>0.000000e+00</td>\n",
       "      <td>0.000000e+00</td>\n",
       "      <td>0.000000e+00</td>\n",
       "    </tr>\n",
       "    <tr>\n",
       "      <th>C19675</th>\n",
       "      <td>1.500000e-09</td>\n",
       "      <td>0.0</td>\n",
       "      <td>7.560000e-09</td>\n",
       "      <td>0.000000e+00</td>\n",
       "      <td>8.830000e-09</td>\n",
       "      <td>0.000000e+00</td>\n",
       "      <td>0.000000e+00</td>\n",
       "      <td>0.000000e+00</td>\n",
       "      <td>0.000000e+00</td>\n",
       "      <td>0.000000e+00</td>\n",
       "      <td>0.000000e+00</td>\n",
       "      <td>0.000000e+00</td>\n",
       "    </tr>\n",
       "    <tr>\n",
       "      <th>C08276</th>\n",
       "      <td>0.000000e+00</td>\n",
       "      <td>0.0</td>\n",
       "      <td>0.000000e+00</td>\n",
       "      <td>0.000000e+00</td>\n",
       "      <td>0.000000e+00</td>\n",
       "      <td>0.000000e+00</td>\n",
       "      <td>0.000000e+00</td>\n",
       "      <td>0.000000e+00</td>\n",
       "      <td>0.000000e+00</td>\n",
       "      <td>0.000000e+00</td>\n",
       "      <td>0.000000e+00</td>\n",
       "      <td>0.000000e+00</td>\n",
       "    </tr>\n",
       "    <tr>\n",
       "      <th>C00141</th>\n",
       "      <td>1.490000e-06</td>\n",
       "      <td>0.0</td>\n",
       "      <td>1.260000e-06</td>\n",
       "      <td>1.700000e-06</td>\n",
       "      <td>3.660000e-08</td>\n",
       "      <td>1.370000e-05</td>\n",
       "      <td>1.170000e-05</td>\n",
       "      <td>0.000000e+00</td>\n",
       "      <td>0.000000e+00</td>\n",
       "      <td>0.000000e+00</td>\n",
       "      <td>0.000000e+00</td>\n",
       "      <td>0.000000e+00</td>\n",
       "    </tr>\n",
       "    <tr>\n",
       "      <th>C00671</th>\n",
       "      <td>0.000000e+00</td>\n",
       "      <td>0.0</td>\n",
       "      <td>1.150000e-07</td>\n",
       "      <td>2.140000e-07</td>\n",
       "      <td>0.000000e+00</td>\n",
       "      <td>6.080000e-07</td>\n",
       "      <td>6.060000e-07</td>\n",
       "      <td>1.500000e-09</td>\n",
       "      <td>1.230000e-09</td>\n",
       "      <td>2.170000e-09</td>\n",
       "      <td>1.410000e-10</td>\n",
       "      <td>2.190000e-09</td>\n",
       "    </tr>\n",
       "  </tbody>\n",
       "</table>\n",
       "</div>"
      ],
      "text/plain": [
       "        Plimited_extracellular_s9301ax_50  Plimited_filter_s9301ax_50  \\\n",
       "KEGG                                                                    \n",
       "C00196                       0.000000e+00                         0.0   \n",
       "C19675                       1.500000e-09                         0.0   \n",
       "C08276                       0.000000e+00                         0.0   \n",
       "C00141                       1.490000e-06                         0.0   \n",
       "C00671                       0.000000e+00                         0.0   \n",
       "\n",
       "        replete_extracellular_s9301ax_10  replete_extracellular_s9301ax_50  \\\n",
       "KEGG                                                                         \n",
       "C00196                      0.000000e+00                      0.000000e+00   \n",
       "C19675                      7.560000e-09                      0.000000e+00   \n",
       "C08276                      0.000000e+00                      0.000000e+00   \n",
       "C00141                      1.260000e-06                      1.700000e-06   \n",
       "C00671                      1.150000e-07                      2.140000e-07   \n",
       "\n",
       "        replete_extracellular_s0801ax_10  replete_extracellular_s9313ax_5  \\\n",
       "KEGG                                                                        \n",
       "C00196                      0.000000e+00                     0.000000e+00   \n",
       "C19675                      8.830000e-09                     0.000000e+00   \n",
       "C08276                      0.000000e+00                     0.000000e+00   \n",
       "C00141                      3.660000e-08                     1.370000e-05   \n",
       "C00671                      0.000000e+00                     6.080000e-07   \n",
       "\n",
       "        replete_extracellular_s9313ax_10  replete_filter_s9301ax_10  \\\n",
       "KEGG                                                                  \n",
       "C00196                      0.000000e+00               0.000000e+00   \n",
       "C19675                      0.000000e+00               0.000000e+00   \n",
       "C08276                      0.000000e+00               0.000000e+00   \n",
       "C00141                      1.170000e-05               0.000000e+00   \n",
       "C00671                      6.060000e-07               1.500000e-09   \n",
       "\n",
       "        replete_filter_s9301ax_50  replete_filter_s0801ax_10  \\\n",
       "KEGG                                                           \n",
       "C00196               0.000000e+00               0.000000e+00   \n",
       "C19675               0.000000e+00               0.000000e+00   \n",
       "C08276               0.000000e+00               0.000000e+00   \n",
       "C00141               0.000000e+00               0.000000e+00   \n",
       "C00671               1.230000e-09               2.170000e-09   \n",
       "\n",
       "        replete_filter_s9313ax_5  replete_filter_s9313ax_10  \n",
       "KEGG                                                         \n",
       "C00196              0.000000e+00               0.000000e+00  \n",
       "C19675              0.000000e+00               0.000000e+00  \n",
       "C08276              0.000000e+00               0.000000e+00  \n",
       "C00141              0.000000e+00               0.000000e+00  \n",
       "C00671              1.410000e-10               2.190000e-09  "
      ]
     },
     "execution_count": 27,
     "metadata": {},
     "output_type": "execute_result"
    }
   ],
   "source": [
    "mtabData.head()"
   ]
  },
  {
   "cell_type": "markdown",
   "metadata": {},
   "source": [
    "Setup a few useful functions\n",
    "---"
   ]
  },
  {
   "cell_type": "code",
   "execution_count": 28,
   "metadata": {
    "collapsed": true
   },
   "outputs": [],
   "source": [
    "#set up a function to get the list of compounds for a given pathway (must be defined as ko00140 NOT map00140)\n",
    "def getCfrom_ko(ko_id):\n",
    "    pathway_file = kegg_get(ko_id).read()  # query and read the pathway\n",
    "    compound_list = []\n",
    "\n",
    "    current_section = None\n",
    "    for line in pathway_file.rstrip().split(\"\\n\"):\n",
    "        section = line[:12].strip()  # section names are within 12 columns\n",
    "        if not section == \"\":\n",
    "            current_section = section\n",
    "        if current_section == \"COMPOUND\":\n",
    "            compound_identifiers = line[12:].split(\"; \")\n",
    "            t = compound_identifiers[0]\n",
    "            compound_id = t[0:6]\n",
    "\n",
    "            if not compound_id in compound_list:\n",
    "                compound_list.append(compound_id)\n",
    "    return compound_list"
   ]
  },
  {
   "cell_type": "code",
   "execution_count": 29,
   "metadata": {
    "collapsed": true
   },
   "outputs": [],
   "source": [
    "#set up a function to get the list of K orthologues for a given pathway (must be defined as ko00140 NOT map00140)\n",
    "#for this project: can use the three digit code for the different Prochlorococcus strains\n",
    "def getKfrom_ko(ko_id):\n",
    "    pathway_file = kegg_get(ko_id).read()  # query and read the pathway\n",
    "    K_list = []\n",
    "\n",
    "    current_section = None\n",
    "    for line in pathway_file.rstrip().split(\"\\n\"):\n",
    "        section = line[:12].strip()  # section names are within 12 columns\n",
    "        if not section == \"\":\n",
    "            current_section = section\n",
    "        if current_section == \"ORTHOLOGY\":\n",
    "            K_identifiers = line[12:].split(\"; \")\n",
    "            t = K_identifiers[0]\n",
    "            K_id = t[0:6]\n",
    "\n",
    "            if not K_id in K_list:\n",
    "                K_list.append(K_id)\n",
    "    return K_list"
   ]
  },
  {
   "cell_type": "code",
   "execution_count": 30,
   "metadata": {
    "collapsed": true
   },
   "outputs": [],
   "source": [
    "# A bit of code that will help us display the PDF output\n",
    "def PDF(filename):\n",
    "    return HTML('<iframe src=%s width=700 height=350></iframe>' % filename)"
   ]
  },
  {
   "cell_type": "code",
   "execution_count": 31,
   "metadata": {
    "collapsed": true
   },
   "outputs": [],
   "source": [
    "#organize pathways into the groups defined in the BRITE file\n",
    "def ReadBRITEfile(briteFile):\n",
    "    forBrite = pd.DataFrame(columns = ['map','A','B','C','wholeThing'])\n",
    "    # set up the expressions to match each level in the BRITE hierarchy\n",
    "    \n",
    "    textA = re.compile(r'(^A<b>)(.+)(</b>)\\s*(.*)$')\n",
    "    textB = re.compile(r'(^B)\\s*(.*)$')\n",
    "    textC = re.compile(r'(\\d+)\\s*(.*)$')\n",
    "    #this relies on the fact that the rows are in order: A, with B subheadings, then C subheadings\n",
    "    setA = []\n",
    "    idxA = []\n",
    "\n",
    "    setB = []\n",
    "    setC = []\n",
    "\n",
    "    with open(briteFile) as f:\n",
    "        for idx,line in enumerate(f):\n",
    "            if line[0] is not '#': #skip over the comments\n",
    "                mA = textA.search(line) \n",
    "                mB = textB.search(line) \n",
    "                mC = textC.search(line) \n",
    "                if mA:\n",
    "                    setA = mA.group(2)\n",
    "                    #house cleaning (probably c)\n",
    "                    idxA = idx\n",
    "                    forBrite.loc[idx,'A'] = setA\n",
    "                    forBrite.loc[idx,'wholeThing'] = line #using this as a double check for now\n",
    "                    #forBrite.loc[idx,'map'] = mC.group(1)\n",
    "                elif mB:\n",
    "                    setB = mB.group(2)\n",
    "                    forBrite.loc[idx,'A'] = setA\n",
    "                    forBrite.loc[idx,'B'] = setB\n",
    "                    forBrite.loc[idx,'wholeThing'] = line\n",
    "                    #forBrite.loc[idx,'map'] = mC.group(1)\n",
    "                elif mC:\n",
    "                    #Tracer()()\n",
    "                    setC = mC.group(2)\n",
    "                    forBrite.loc[idx,'A'] = setA\n",
    "                    forBrite.loc[idx,'B'] = setB\n",
    "                    forBrite.loc[idx,'C'] = setC\n",
    "                    forBrite.loc[idx,'wholeThing'] = line\n",
    "                    forBrite.loc[idx,'map'] = mC.group(1)\n",
    "\n",
    "    return forBrite"
   ]
  },
  {
   "cell_type": "code",
   "execution_count": 32,
   "metadata": {
    "collapsed": true
   },
   "outputs": [],
   "source": [
    "#make a list....and remove the three digit header bc that will be unique to each strain\n",
    "def trimPath(pathwayString):\n",
    "    export_trimPath = []\n",
    "    current_section = None\n",
    "    for line in pathwayString.rstrip().split(\"\\n\"):\n",
    "        #tp = line[5:13] #this includes the three digit species code\n",
    "        tp = line[8:13]\n",
    "        export_trimPath.append(tp)\n",
    "    return export_trimPath\n",
    "\n",
    "#make a list....and remove the three digit header bc that will be unique to each strain\n",
    "def trimMap(importString):\n",
    "    export_trimMap = []\n",
    "    current_section = None\n",
    "    for line in importString.rstrip().split(\"\\n\"):\n",
    "        r = line.find('map')\n",
    "        tp = line[r : r+9]\n",
    "        export_trimMap.append(tp)\n",
    "    return export_trimMap\n",
    "\n",
    "#trim a pathway/compound list\n",
    "def trimCompounds(cpdString):\n",
    "    export_trimCpds = []\n",
    "    current_section = None\n",
    "    for line in cpdString.rstrip().split(\"\\n\"):\n",
    "        #print(line)\n",
    "        r = line.find('cpd')\n",
    "        tp = line[r + 4 : len(line)]\n",
    "        export_trimCpds.append(tp)\n",
    "    return export_trimCpds\n",
    "\n",
    "#make a list....and remove the three digit header bc that will be unique to each strain\n",
    "def trimPath(pathwayString):\n",
    "    export_trimPath = []\n",
    "    current_section = None\n",
    "    for line in pathwayString.rstrip().split(\"\\n\"):\n",
    "        #tp = line[5:13] #this includes the three digit species code\n",
    "        tp = line[8:13]\n",
    "        export_trimPath.append(tp)\n",
    "    return export_trimPath\n",
    "\n",
    "#make a list....and remove the three digit header bc that will be unique to each strain\n",
    "def trimGenes(geneString):\n",
    "    export_trimGenes = []\n",
    "    current_section = None\n",
    "    for line in geneString.rstrip().split(\"\\n\"):\n",
    "        #tp = line[5:13] #this includes the three digit species code\n",
    "        r = line.find('ko:')\n",
    "        tp = line[r+3 : r+9]\n",
    "        export_trimGenes.append(tp)\n",
    "    return export_trimGenes\n",
    "\n",
    "#trim a reaction list\n",
    "def trimReactions(rnString):\n",
    "    export_trimRn = []\n",
    "    current_section = None\n",
    "    for line in rnString.rstrip().split(\"\\n\"):\n",
    "        #print(line)\n",
    "        r = line.find('rn:')\n",
    "        tp = line[r + 3 : r+9]\n",
    "        export_trimRn.append(tp)\n",
    "    return export_trimRn"
   ]
  },
  {
   "cell_type": "code",
   "execution_count": 33,
   "metadata": {
    "collapsed": true
   },
   "outputs": [],
   "source": [
    "#bring in the plotting functions\n",
    "import plotByGroup\n",
    "#import fxn_plotPathway #with ratios...but other errors in there\n",
    "import fxn_plotPathway_v2\n",
    "##if I make a change, have to reload the function(s):\n",
    "# reload(fxn_plotPathway)"
   ]
  },
  {
   "cell_type": "markdown",
   "metadata": {},
   "source": []
  },
  {
   "cell_type": "markdown",
   "metadata": {},
   "source": [
    "Use the information at KEGG to find the expected overlap across the strains\n",
    "----"
   ]
  },
  {
   "cell_type": "code",
   "execution_count": 34,
   "metadata": {
    "collapsed": true
   },
   "outputs": [],
   "source": [
    "#need to remember how to do this (5/2019)...start with one compound and find the reactions"
   ]
  },
  {
   "cell_type": "code",
   "execution_count": 35,
   "metadata": {
    "collapsed": true
   },
   "outputs": [],
   "source": [
    "#pull the full set of genes for each strain...\n",
    "pmtGenes = trimGenes(kegg_link(\"ko\",\"pmt\").read())\n",
    "pmgGenes = trimGenes(kegg_link(\"ko\",\"pmg\").read())\n",
    "prmGenes = trimGenes(kegg_link(\"ko\",\"prm\").read())"
   ]
  },
  {
   "cell_type": "code",
   "execution_count": null,
   "metadata": {
    "collapsed": true
   },
   "outputs": [],
   "source": []
  },
  {
   "cell_type": "code",
   "execution_count": 36,
   "metadata": {
    "collapsed": true
   },
   "outputs": [],
   "source": [
    "#set up a new data frame to hold the 1/0 answer as to whether something is expected or not\n",
    "expected = mtabNames.copy(deep=True)\n",
    "\n",
    "expected['prm'] = np.nan\n",
    "expected['pmg'] = np.nan\n",
    "expected['pmt'] = np.nan"
   ]
  },
  {
   "cell_type": "code",
   "execution_count": null,
   "metadata": {
    "collapsed": true
   },
   "outputs": [],
   "source": []
  },
  {
   "cell_type": "code",
   "execution_count": 37,
   "metadata": {
    "collapsed": false
   },
   "outputs": [],
   "source": [
    "for oneCpd,row in expected.iterrows():\n",
    "    if oneCpd != '0': #expected is all compounds, even ones without KEGG numbers\n",
    "        #print(oneCpd)\n",
    "        rnList = kegg_link(\"reaction\",oneCpd).read()\n",
    "\n",
    "        #setup the strings to match first\n",
    "        rnString = re.compile('(?:[rn:R])(\\d+)$') #will return R00190\n",
    "        genString = re.compile('(?:[ko:K])(\\d+)$') #will return K00190\n",
    "\n",
    "        oneCpd_keepGen = []\n",
    "\n",
    "        test = '\\n'\n",
    "        if test != rnList:\n",
    "            for line in rnList.rstrip().split('\\n'):\n",
    "                m = rnString.search(line) #get the reaction number\n",
    "                #pmg_countRxn.append(m.group(0))\n",
    "                genList = kegg_link('ko',m.group(0)).read() #now go get the genes for that reaction\n",
    "                del m #have to do this so I can pickle the whole thing later...\n",
    "                #can have no compounds in a reaction (only glycans, begin with G, nothing I have matched)\n",
    "                if len(genList) > 1: #will be true if cpdList includes compounds\n",
    "                    for line2 in genList.rstrip().split('\\n'):\n",
    "                        m2 = genString.search(line2).group(0)\n",
    "                        oneCpd_keepGen.append(m2) \n",
    "\n",
    "        #probably a better way to do this...but I am going through one strain at a time\n",
    "        if len(set(oneCpd_keepGen) & set(pmgGenes)) is 0:\n",
    "            expected.loc[oneCpd,'pmg'] = 0\n",
    "        else:\n",
    "            expected.loc[oneCpd,'pmg'] = 1\n",
    "\n",
    "        if len(set(oneCpd_keepGen) & set(pmtGenes)) is 0:\n",
    "            expected.loc[oneCpd,'pmt'] = 0\n",
    "        else:\n",
    "            expected.loc[oneCpd,'pmt'] = 1\n",
    "\n",
    "        if len(set(oneCpd_keepGen) & set(prmGenes)) is 0:\n",
    "            expected.loc[oneCpd,'prm'] = 0\n",
    "        else:\n",
    "            expected.loc[oneCpd,'prm'] = 1"
   ]
  },
  {
   "cell_type": "code",
   "execution_count": 38,
   "metadata": {
    "collapsed": false
   },
   "outputs": [],
   "source": [
    "expected.to_csv('KEGGexpected_2019.05.10.csv')"
   ]
  },
  {
   "cell_type": "code",
   "execution_count": null,
   "metadata": {
    "collapsed": true
   },
   "outputs": [],
   "source": []
  },
  {
   "cell_type": "code",
   "execution_count": 39,
   "metadata": {
    "collapsed": false
   },
   "outputs": [
    {
     "ename": "RuntimeError",
     "evalue": "No active exception to reraise",
     "output_type": "error",
     "traceback": [
      "\u001b[0;31m---------------------------------------------------------------------------\u001b[0m",
      "\u001b[0;31mRuntimeError\u001b[0m                              Traceback (most recent call last)",
      "\u001b[0;32m<ipython-input-39-29f6835aba55>\u001b[0m in \u001b[0;36m<module>\u001b[0;34m()\u001b[0m\n\u001b[1;32m      2\u001b[0m \u001b[1;31m# command here that will keep me from running cells\u001b[0m\u001b[1;33m\u001b[0m\u001b[1;33m\u001b[0m\u001b[0m\n\u001b[1;32m      3\u001b[0m \u001b[1;31m# of code that are not meant to be connected\u001b[0m\u001b[1;33m\u001b[0m\u001b[1;33m\u001b[0m\u001b[0m\n\u001b[0;32m----> 4\u001b[0;31m \u001b[1;32mraise\u001b[0m\u001b[1;33m\u001b[0m\u001b[0m\n\u001b[0m",
      "\u001b[0;31mRuntimeError\u001b[0m: No active exception to reraise"
     ]
    }
   ],
   "source": [
    "# leave debris below here for now, notebook will stop at the 'raise' \n",
    "# command here that will keep me from running cells \n",
    "# of code that are not meant to be connected\n",
    "raise"
   ]
  },
  {
   "cell_type": "code",
   "execution_count": null,
   "metadata": {
    "collapsed": false
   },
   "outputs": [],
   "source": [
    "type(pmg_keepGen)"
   ]
  },
  {
   "cell_type": "markdown",
   "metadata": {},
   "source": [
    "# Get measured compounds "
   ]
  },
  {
   "cell_type": "code",
   "execution_count": null,
   "metadata": {
    "collapsed": true
   },
   "outputs": [],
   "source": [
    "useCO = mtabPruned.index"
   ]
  },
  {
   "cell_type": "code",
   "execution_count": null,
   "metadata": {
    "collapsed": true
   },
   "outputs": [],
   "source": [
    "#Do the simplest count first, is a compound in anything from each strain?\n",
    "#match this to the figure from KEGG for the IMBER poster\n",
    "\n",
    "#slight hack\n",
    "set_9301 = set()\n",
    "st = 's9301'\n",
    "for oneCpd in useCO:\n",
    "    df2 = mtabPruned.loc[oneCpd].filter(regex = (st))\n",
    "    r = df2[df2.gt(0)]\n",
    "    if not r.empty:\n",
    "        set_9301.add(oneCpd)\n",
    "        \n",
    "        \n",
    "set_0801 = set()\n",
    "st = 's0801'\n",
    "for oneCpd in useCO:\n",
    "    df2 = mtabPruned.loc[oneCpd].filter(regex = (st))\n",
    "    r = df2[df2.gt(0)]\n",
    "    if not r.empty:\n",
    "        set_0801.add(oneCpd)\n",
    "        \n",
    "set_9313 = set()\n",
    "st = 's9313'\n",
    "for oneCpd in useCO:\n",
    "    df2 = mtabPruned.loc[oneCpd].filter(regex = (st))\n",
    "    r = df2[df2.gt(0)]\n",
    "    if not r.empty:\n",
    "        set_9313.add(oneCpd)\n"
   ]
  },
  {
   "cell_type": "code",
   "execution_count": null,
   "metadata": {
    "collapsed": false
   },
   "outputs": [],
   "source": [
    "venn3([set_9301,set_0801,set_9313],set_labels = ('pmg/9301/HLII','prm/0801/LLI','pmt/9313/LLIV'))\n",
    "plt.title('TSQ compounds, measured, for the three strains')\n",
    "plt.savefig('Pro_TSQmeasured_cpds.png')"
   ]
  },
  {
   "cell_type": "code",
   "execution_count": null,
   "metadata": {
    "collapsed": true
   },
   "outputs": [],
   "source": []
  },
  {
   "cell_type": "code",
   "execution_count": null,
   "metadata": {
    "collapsed": true
   },
   "outputs": [],
   "source": []
  },
  {
   "cell_type": "markdown",
   "metadata": {},
   "source": [
    "# Hack together measured"
   ]
  },
  {
   "cell_type": "code",
   "execution_count": null,
   "metadata": {
    "collapsed": true
   },
   "outputs": [],
   "source": [
    "#hack, but Liz doesn't like the Venn diagram and wants a list of compounds...export the compounds as \n",
    "#KEGG numbers. Because I don't feel up to it, I will manually make this into a list of metabolite names\n",
    "#4/19/2019"
   ]
  },
  {
   "cell_type": "code",
   "execution_count": null,
   "metadata": {
    "collapsed": true
   },
   "outputs": [],
   "source": [
    "#did this multiple times and opened up next.csv in Excel after each time\n",
    "import csv\n",
    "\n",
    "all3 = (set(set_9313) & set(set_0801)) -  set(set_9301)\n",
    "\n",
    "keep = []\n",
    "for item in all3:\n",
    "    if item in useCO:\n",
    "        keep.append(item)\n",
    "        \n",
    "csvfile = \"next.csv\"\n",
    "\n",
    "#Assuming res is a flat list\n",
    "with open(csvfile, \"w\") as output:\n",
    "    writer = csv.writer(output, lineterminator='\\n')\n",
    "    for val in keep:\n",
    "        writer.writerow([val])  "
   ]
  },
  {
   "cell_type": "code",
   "execution_count": null,
   "metadata": {
    "collapsed": true
   },
   "outputs": [],
   "source": [
    "#remember - this is the theoretical overlap based on KEGG\n",
    "all3 = set(pmg_countCpd) & set(prm_countCpd)& set(pmt_countCpd)\n",
    "\n",
    "keep = []\n",
    "for item in all3:\n",
    "    if item in useCO:\n",
    "        keep.append(item)\n",
    "        #print(kegg_list(item).read())"
   ]
  },
  {
   "cell_type": "code",
   "execution_count": null,
   "metadata": {
    "collapsed": false
   },
   "outputs": [],
   "source": [
    "for item in cpd_inNstrains.index:\n",
    "    #first, is it even in this strain?\n",
    "    if math.isnan(cpd_inNstrains.loc[item,'s9301']):\n",
    "        pass\n",
    "    else:\n",
    "        #is in the list for strain?\n",
    "        if item in pmg_countCpd:\n",
    "            pass\n",
    "        else:\n",
    "            print(kegg_list(item).read())"
   ]
  },
  {
   "cell_type": "code",
   "execution_count": null,
   "metadata": {
    "collapsed": true
   },
   "outputs": [],
   "source": []
  },
  {
   "cell_type": "code",
   "execution_count": null,
   "metadata": {
    "collapsed": true
   },
   "outputs": [],
   "source": []
  },
  {
   "cell_type": "code",
   "execution_count": null,
   "metadata": {
    "collapsed": true
   },
   "outputs": [],
   "source": [
    "import dill\n",
    "# and to load the session again:\n",
    "dill.load_session('globalsave.pkl')"
   ]
  },
  {
   "cell_type": "code",
   "execution_count": null,
   "metadata": {
    "collapsed": true
   },
   "outputs": [],
   "source": []
  },
  {
   "cell_type": "code",
   "execution_count": null,
   "metadata": {
    "collapsed": true
   },
   "outputs": [],
   "source": []
  },
  {
   "cell_type": "code",
   "execution_count": null,
   "metadata": {
    "collapsed": true
   },
   "outputs": [],
   "source": []
  }
 ],
 "metadata": {
  "anaconda-cloud": {},
  "kernelspec": {
   "display_name": "Python [default]",
   "language": "python",
   "name": "python3"
  },
  "language_info": {
   "codemirror_mode": {
    "name": "ipython",
    "version": 3
   },
   "file_extension": ".py",
   "mimetype": "text/x-python",
   "name": "python",
   "nbconvert_exporter": "python",
   "pygments_lexer": "ipython3",
   "version": "3.5.2"
  }
 },
 "nbformat": 4,
 "nbformat_minor": 1
}
