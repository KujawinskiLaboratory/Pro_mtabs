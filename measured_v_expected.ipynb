{
 "cells": [
  {
   "cell_type": "markdown",
   "metadata": {},
   "source": [
    "#Chisholm / Prochlorococcus project\n",
    "##Use Python and its various libraries to link the KEGG compound information with pathways\n",
    "###KLongnecker, 4/27/2017\n",
    "Updated to use the compound data corrected for extraction efficiency for all compounds.\n",
    "====\n",
    "#KL 5/8/2019 Liz wants measured vs. expected for the KEGG integration...make new notebook"
   ]
  },
  {
   "cell_type": "code",
   "execution_count": 1,
   "metadata": {
    "collapsed": false
   },
   "outputs": [],
   "source": [
    "if False:\n",
    "    #this will work to reload whatever I had\n",
    "    import dill\n",
    "    dill.load_session('globalsave.pkl')"
   ]
  },
  {
   "cell_type": "code",
   "execution_count": 2,
   "metadata": {
    "collapsed": false
   },
   "outputs": [],
   "source": [
    "if False:\n",
    "    %reset"
   ]
  },
  {
   "cell_type": "code",
   "execution_count": 3,
   "metadata": {
    "collapsed": false
   },
   "outputs": [],
   "source": [
    "import pandas as pd\n",
    "import numpy as np\n",
    "import re\n",
    "import os\n",
    "import glob\n",
    "import math\n",
    "from imp import reload\n",
    "import pdb\n",
    "from sklearn import preprocessing\n",
    "#from sklearn.preprocessing import RobustScaler\n",
    "from sklearn.preprocessing import MinMaxScaler #redundant, fix later\n",
    "\n",
    "import seaborn as sns\n",
    "\n",
    "import palettable as pal\n",
    "import matplotlib.pyplot as plt\n",
    "import matplotlib as mpl \n",
    "mpl.rcParams['pdf.fonttype'] = 42\n",
    "\n",
    "from matplotlib_venn import venn2\n",
    "from matplotlib_venn import venn3\n",
    "from matplotlib_venn import venn3_unweighted\n",
    "\n",
    "from Bio import SeqIO\n",
    "from Bio.KEGG.REST import *\n",
    "from Bio.KEGG.KGML import KGML_parser\n",
    "from Bio.Graphics.KGML_vis import KGMLCanvas\n",
    "from IPython.display import Image, HTML\n",
    "\n",
    "#used this to step into the function and debug it, also need line with Tracer()() \n",
    "from IPython.core.debugger import Tracer \n",
    "#os._exit(1) #this should get me out of the debugging...\n",
    "\n",
    "%matplotlib inline"
   ]
  },
  {
   "cell_type": "code",
   "execution_count": 4,
   "metadata": {
    "collapsed": false
   },
   "outputs": [
    {
     "data": {
      "text/html": [
       "<div>\n",
       "<table border=\"1\" class=\"dataframe\">\n",
       "  <thead>\n",
       "    <tr style=\"text-align: right;\">\n",
       "      <th></th>\n",
       "      <th>mtabNames</th>\n",
       "    </tr>\n",
       "    <tr>\n",
       "      <th>KEGG</th>\n",
       "      <th></th>\n",
       "    </tr>\n",
       "  </thead>\n",
       "  <tbody>\n",
       "    <tr>\n",
       "      <th>C00196</th>\n",
       "      <td>2-3-dihydroxybenzoic acid</td>\n",
       "    </tr>\n",
       "    <tr>\n",
       "      <th>C19675</th>\n",
       "      <td>2-3-dihydroxypropane1sulfonate</td>\n",
       "    </tr>\n",
       "    <tr>\n",
       "      <th>C08276</th>\n",
       "      <td>3-mercapto proprionate</td>\n",
       "    </tr>\n",
       "  </tbody>\n",
       "</table>\n",
       "</div>"
      ],
      "text/plain": [
       "                             mtabNames\n",
       "KEGG                                  \n",
       "C00196       2-3-dihydroxybenzoic acid\n",
       "C19675  2-3-dihydroxypropane1sulfonate\n",
       "C08276          3-mercapto proprionate"
      ]
     },
     "execution_count": 4,
     "metadata": {},
     "output_type": "execute_result"
    }
   ],
   "source": [
    "mtabFile = 'ChisholmPro_cellSpecific_KEGGexport.2017.07.31_v1.csv' #first column is KEGG C number\n",
    "mtabData=pd.read_csv(mtabFile, index_col='KEGG')\n",
    "mtabNames = pd.read_csv(mtabFile,index_col = 'KEGG',usecols = ['KEGG','mtabNames'])\n",
    "mtabNames.head(3)"
   ]
  },
  {
   "cell_type": "code",
   "execution_count": 5,
   "metadata": {
    "collapsed": false
   },
   "outputs": [],
   "source": [
    "#take out the extra columns: \n",
    "mtabData.drop(['extEff','mtabNames'],axis = 1,inplace = True)\n",
    "#have zeros for metabolites that are not in KEGG, need to delete the zeros for now...\n",
    "mtabPruned = mtabData.drop(['0'])"
   ]
  },
  {
   "cell_type": "code",
   "execution_count": 6,
   "metadata": {
    "collapsed": false
   },
   "outputs": [
    {
     "data": {
      "text/html": [
       "<div>\n",
       "<table border=\"1\" class=\"dataframe\">\n",
       "  <thead>\n",
       "    <tr style=\"text-align: right;\">\n",
       "      <th></th>\n",
       "      <th>Plimited_extracellular_s9301ax_50</th>\n",
       "      <th>Plimited_filter_s9301ax_50</th>\n",
       "      <th>replete_extracellular_s9301ax_10</th>\n",
       "      <th>replete_extracellular_s9301ax_50</th>\n",
       "      <th>replete_extracellular_s0801ax_10</th>\n",
       "      <th>replete_extracellular_s9313ax_5</th>\n",
       "      <th>replete_extracellular_s9313ax_10</th>\n",
       "      <th>replete_filter_s9301ax_10</th>\n",
       "      <th>replete_filter_s9301ax_50</th>\n",
       "      <th>replete_filter_s0801ax_10</th>\n",
       "      <th>replete_filter_s9313ax_5</th>\n",
       "      <th>replete_filter_s9313ax_10</th>\n",
       "    </tr>\n",
       "    <tr>\n",
       "      <th>KEGG</th>\n",
       "      <th></th>\n",
       "      <th></th>\n",
       "      <th></th>\n",
       "      <th></th>\n",
       "      <th></th>\n",
       "      <th></th>\n",
       "      <th></th>\n",
       "      <th></th>\n",
       "      <th></th>\n",
       "      <th></th>\n",
       "      <th></th>\n",
       "      <th></th>\n",
       "    </tr>\n",
       "  </thead>\n",
       "  <tbody>\n",
       "    <tr>\n",
       "      <th>C00196</th>\n",
       "      <td>0.000000e+00</td>\n",
       "      <td>0.0</td>\n",
       "      <td>0.000000e+00</td>\n",
       "      <td>0.000000e+00</td>\n",
       "      <td>0.000000e+00</td>\n",
       "      <td>0.000000e+00</td>\n",
       "      <td>0.000000e+00</td>\n",
       "      <td>0.000000e+00</td>\n",
       "      <td>0.000000e+00</td>\n",
       "      <td>0.000000e+00</td>\n",
       "      <td>0.000000e+00</td>\n",
       "      <td>0.000000e+00</td>\n",
       "    </tr>\n",
       "    <tr>\n",
       "      <th>C19675</th>\n",
       "      <td>1.500000e-09</td>\n",
       "      <td>0.0</td>\n",
       "      <td>7.560000e-09</td>\n",
       "      <td>0.000000e+00</td>\n",
       "      <td>8.830000e-09</td>\n",
       "      <td>0.000000e+00</td>\n",
       "      <td>0.000000e+00</td>\n",
       "      <td>0.000000e+00</td>\n",
       "      <td>0.000000e+00</td>\n",
       "      <td>0.000000e+00</td>\n",
       "      <td>0.000000e+00</td>\n",
       "      <td>0.000000e+00</td>\n",
       "    </tr>\n",
       "    <tr>\n",
       "      <th>C08276</th>\n",
       "      <td>0.000000e+00</td>\n",
       "      <td>0.0</td>\n",
       "      <td>0.000000e+00</td>\n",
       "      <td>0.000000e+00</td>\n",
       "      <td>0.000000e+00</td>\n",
       "      <td>0.000000e+00</td>\n",
       "      <td>0.000000e+00</td>\n",
       "      <td>0.000000e+00</td>\n",
       "      <td>0.000000e+00</td>\n",
       "      <td>0.000000e+00</td>\n",
       "      <td>0.000000e+00</td>\n",
       "      <td>0.000000e+00</td>\n",
       "    </tr>\n",
       "    <tr>\n",
       "      <th>C00141</th>\n",
       "      <td>1.490000e-06</td>\n",
       "      <td>0.0</td>\n",
       "      <td>1.260000e-06</td>\n",
       "      <td>1.700000e-06</td>\n",
       "      <td>3.660000e-08</td>\n",
       "      <td>1.370000e-05</td>\n",
       "      <td>1.170000e-05</td>\n",
       "      <td>0.000000e+00</td>\n",
       "      <td>0.000000e+00</td>\n",
       "      <td>0.000000e+00</td>\n",
       "      <td>0.000000e+00</td>\n",
       "      <td>0.000000e+00</td>\n",
       "    </tr>\n",
       "    <tr>\n",
       "      <th>C00671</th>\n",
       "      <td>0.000000e+00</td>\n",
       "      <td>0.0</td>\n",
       "      <td>1.150000e-07</td>\n",
       "      <td>2.140000e-07</td>\n",
       "      <td>0.000000e+00</td>\n",
       "      <td>6.080000e-07</td>\n",
       "      <td>6.060000e-07</td>\n",
       "      <td>1.500000e-09</td>\n",
       "      <td>1.230000e-09</td>\n",
       "      <td>2.170000e-09</td>\n",
       "      <td>1.410000e-10</td>\n",
       "      <td>2.190000e-09</td>\n",
       "    </tr>\n",
       "  </tbody>\n",
       "</table>\n",
       "</div>"
      ],
      "text/plain": [
       "        Plimited_extracellular_s9301ax_50  Plimited_filter_s9301ax_50  \\\n",
       "KEGG                                                                    \n",
       "C00196                       0.000000e+00                         0.0   \n",
       "C19675                       1.500000e-09                         0.0   \n",
       "C08276                       0.000000e+00                         0.0   \n",
       "C00141                       1.490000e-06                         0.0   \n",
       "C00671                       0.000000e+00                         0.0   \n",
       "\n",
       "        replete_extracellular_s9301ax_10  replete_extracellular_s9301ax_50  \\\n",
       "KEGG                                                                         \n",
       "C00196                      0.000000e+00                      0.000000e+00   \n",
       "C19675                      7.560000e-09                      0.000000e+00   \n",
       "C08276                      0.000000e+00                      0.000000e+00   \n",
       "C00141                      1.260000e-06                      1.700000e-06   \n",
       "C00671                      1.150000e-07                      2.140000e-07   \n",
       "\n",
       "        replete_extracellular_s0801ax_10  replete_extracellular_s9313ax_5  \\\n",
       "KEGG                                                                        \n",
       "C00196                      0.000000e+00                     0.000000e+00   \n",
       "C19675                      8.830000e-09                     0.000000e+00   \n",
       "C08276                      0.000000e+00                     0.000000e+00   \n",
       "C00141                      3.660000e-08                     1.370000e-05   \n",
       "C00671                      0.000000e+00                     6.080000e-07   \n",
       "\n",
       "        replete_extracellular_s9313ax_10  replete_filter_s9301ax_10  \\\n",
       "KEGG                                                                  \n",
       "C00196                      0.000000e+00               0.000000e+00   \n",
       "C19675                      0.000000e+00               0.000000e+00   \n",
       "C08276                      0.000000e+00               0.000000e+00   \n",
       "C00141                      1.170000e-05               0.000000e+00   \n",
       "C00671                      6.060000e-07               1.500000e-09   \n",
       "\n",
       "        replete_filter_s9301ax_50  replete_filter_s0801ax_10  \\\n",
       "KEGG                                                           \n",
       "C00196               0.000000e+00               0.000000e+00   \n",
       "C19675               0.000000e+00               0.000000e+00   \n",
       "C08276               0.000000e+00               0.000000e+00   \n",
       "C00141               0.000000e+00               0.000000e+00   \n",
       "C00671               1.230000e-09               2.170000e-09   \n",
       "\n",
       "        replete_filter_s9313ax_5  replete_filter_s9313ax_10  \n",
       "KEGG                                                         \n",
       "C00196              0.000000e+00               0.000000e+00  \n",
       "C19675              0.000000e+00               0.000000e+00  \n",
       "C08276              0.000000e+00               0.000000e+00  \n",
       "C00141              0.000000e+00               0.000000e+00  \n",
       "C00671              1.410000e-10               2.190000e-09  "
      ]
     },
     "execution_count": 6,
     "metadata": {},
     "output_type": "execute_result"
    }
   ],
   "source": [
    "mtabData.head()"
   ]
  },
  {
   "cell_type": "markdown",
   "metadata": {},
   "source": [
    "Setup a few useful functions\n",
    "---"
   ]
  },
  {
   "cell_type": "code",
   "execution_count": 7,
   "metadata": {
    "collapsed": true
   },
   "outputs": [],
   "source": [
    "#set up a function to get the list of compounds for a given pathway (must be defined as ko00140 NOT map00140)\n",
    "def getCfrom_ko(ko_id):\n",
    "    pathway_file = kegg_get(ko_id).read()  # query and read the pathway\n",
    "    compound_list = []\n",
    "\n",
    "    current_section = None\n",
    "    for line in pathway_file.rstrip().split(\"\\n\"):\n",
    "        section = line[:12].strip()  # section names are within 12 columns\n",
    "        if not section == \"\":\n",
    "            current_section = section\n",
    "        if current_section == \"COMPOUND\":\n",
    "            compound_identifiers = line[12:].split(\"; \")\n",
    "            t = compound_identifiers[0]\n",
    "            compound_id = t[0:6]\n",
    "\n",
    "            if not compound_id in compound_list:\n",
    "                compound_list.append(compound_id)\n",
    "    return compound_list"
   ]
  },
  {
   "cell_type": "code",
   "execution_count": 8,
   "metadata": {
    "collapsed": true
   },
   "outputs": [],
   "source": [
    "#set up a function to get the list of K orthologues for a given pathway (must be defined as ko00140 NOT map00140)\n",
    "#for this project: can use the three digit code for the different Prochlorococcus strains\n",
    "def getKfrom_ko(ko_id):\n",
    "    pathway_file = kegg_get(ko_id).read()  # query and read the pathway\n",
    "    K_list = []\n",
    "\n",
    "    current_section = None\n",
    "    for line in pathway_file.rstrip().split(\"\\n\"):\n",
    "        section = line[:12].strip()  # section names are within 12 columns\n",
    "        if not section == \"\":\n",
    "            current_section = section\n",
    "        if current_section == \"ORTHOLOGY\":\n",
    "            K_identifiers = line[12:].split(\"; \")\n",
    "            t = K_identifiers[0]\n",
    "            K_id = t[0:6]\n",
    "\n",
    "            if not K_id in K_list:\n",
    "                K_list.append(K_id)\n",
    "    return K_list"
   ]
  },
  {
   "cell_type": "code",
   "execution_count": 9,
   "metadata": {
    "collapsed": false
   },
   "outputs": [],
   "source": [
    "# A bit of code that will help us display the PDF output\n",
    "def PDF(filename):\n",
    "    return HTML('<iframe src=%s width=700 height=350></iframe>' % filename)"
   ]
  },
  {
   "cell_type": "code",
   "execution_count": 10,
   "metadata": {
    "collapsed": false
   },
   "outputs": [],
   "source": [
    "#organize pathways into the groups defined in the BRITE file\n",
    "def ReadBRITEfile(briteFile):\n",
    "    forBrite = pd.DataFrame(columns = ['map','A','B','C','wholeThing'])\n",
    "    # set up the expressions to match each level in the BRITE hierarchy\n",
    "    \n",
    "    textA = re.compile(r'(^A<b>)(.+)(</b>)\\s*(.*)$')\n",
    "    textB = re.compile(r'(^B)\\s*(.*)$')\n",
    "    textC = re.compile(r'(\\d+)\\s*(.*)$')\n",
    "    #this relies on the fact that the rows are in order: A, with B subheadings, then C subheadings\n",
    "    setA = []\n",
    "    idxA = []\n",
    "\n",
    "    setB = []\n",
    "    setC = []\n",
    "\n",
    "    with open(briteFile) as f:\n",
    "        for idx,line in enumerate(f):\n",
    "            if line[0] is not '#': #skip over the comments\n",
    "                mA = textA.search(line) \n",
    "                mB = textB.search(line) \n",
    "                mC = textC.search(line) \n",
    "                if mA:\n",
    "                    setA = mA.group(2)\n",
    "                    #house cleaning (probably c)\n",
    "                    idxA = idx\n",
    "                    forBrite.loc[idx,'A'] = setA\n",
    "                    forBrite.loc[idx,'wholeThing'] = line #using this as a double check for now\n",
    "                    #forBrite.loc[idx,'map'] = mC.group(1)\n",
    "                elif mB:\n",
    "                    setB = mB.group(2)\n",
    "                    forBrite.loc[idx,'A'] = setA\n",
    "                    forBrite.loc[idx,'B'] = setB\n",
    "                    forBrite.loc[idx,'wholeThing'] = line\n",
    "                    #forBrite.loc[idx,'map'] = mC.group(1)\n",
    "                elif mC:\n",
    "                    #Tracer()()\n",
    "                    setC = mC.group(2)\n",
    "                    forBrite.loc[idx,'A'] = setA\n",
    "                    forBrite.loc[idx,'B'] = setB\n",
    "                    forBrite.loc[idx,'C'] = setC\n",
    "                    forBrite.loc[idx,'wholeThing'] = line\n",
    "                    forBrite.loc[idx,'map'] = mC.group(1)\n",
    "\n",
    "    return forBrite"
   ]
  },
  {
   "cell_type": "code",
   "execution_count": 11,
   "metadata": {
    "collapsed": true
   },
   "outputs": [],
   "source": [
    "#make a list....and remove the three digit header bc that will be unique to each strain\n",
    "def trimPath(pathwayString):\n",
    "    export_trimPath = []\n",
    "    current_section = None\n",
    "    for line in pathwayString.rstrip().split(\"\\n\"):\n",
    "        #tp = line[5:13] #this includes the three digit species code\n",
    "        tp = line[8:13]\n",
    "        export_trimPath.append(tp)\n",
    "    return export_trimPath\n",
    "\n",
    "#make a list....and remove the three digit header bc that will be unique to each strain\n",
    "def trimMap(importString):\n",
    "    export_trimMap = []\n",
    "    current_section = None\n",
    "    for line in importString.rstrip().split(\"\\n\"):\n",
    "        r = line.find('map')\n",
    "        tp = line[r : r+9]\n",
    "        export_trimMap.append(tp)\n",
    "    return export_trimMap\n",
    "\n",
    "#trim a pathway/compound list\n",
    "def trimCompounds(cpdString):\n",
    "    export_trimCpds = []\n",
    "    current_section = None\n",
    "    for line in cpdString.rstrip().split(\"\\n\"):\n",
    "        #print(line)\n",
    "        r = line.find('cpd')\n",
    "        tp = line[r + 4 : len(line)]\n",
    "        export_trimCpds.append(tp)\n",
    "    return export_trimCpds\n",
    "\n",
    "#make a list....and remove the three digit header bc that will be unique to each strain\n",
    "def trimPath(pathwayString):\n",
    "    export_trimPath = []\n",
    "    current_section = None\n",
    "    for line in pathwayString.rstrip().split(\"\\n\"):\n",
    "        #tp = line[5:13] #this includes the three digit species code\n",
    "        tp = line[8:13]\n",
    "        export_trimPath.append(tp)\n",
    "    return export_trimPath\n",
    "\n",
    "#make a list....and remove the three digit header bc that will be unique to each strain\n",
    "def trimGenes(geneString):\n",
    "    export_trimGenes = []\n",
    "    current_section = None\n",
    "    for line in geneString.rstrip().split(\"\\n\"):\n",
    "        #tp = line[5:13] #this includes the three digit species code\n",
    "        r = line.find('ko:')\n",
    "        tp = line[r+3 : r+9]\n",
    "        export_trimGenes.append(tp)\n",
    "    return export_trimGenes"
   ]
  },
  {
   "cell_type": "code",
   "execution_count": 12,
   "metadata": {
    "collapsed": false
   },
   "outputs": [],
   "source": [
    "#bring in the plotting functions\n",
    "import plotByGroup\n",
    "#import fxn_plotPathway #with ratios...but other errors in there\n",
    "import fxn_plotPathway_v2\n",
    "##if I make a change, have to reload the function(s):\n",
    "# reload(fxn_plotPathway)"
   ]
  },
  {
   "cell_type": "code",
   "execution_count": null,
   "metadata": {
    "collapsed": true
   },
   "outputs": [],
   "source": []
  },
  {
   "cell_type": "markdown",
   "metadata": {},
   "source": []
  },
  {
   "cell_type": "markdown",
   "metadata": {},
   "source": [
    "Use the information at KEGG to find the theoretical overlap across the strains\n",
    "----"
   ]
  },
  {
   "cell_type": "code",
   "execution_count": 13,
   "metadata": {
    "collapsed": true
   },
   "outputs": [],
   "source": [
    "#use biopython/KEGG module to get the information\n",
    "pmgPathways = kegg_list('pathway','pmg').read()\n",
    "pmgTrim = trimPath(pmgPathways)\n",
    "\n",
    "prmPathways = kegg_list('pathway','prm').read()\n",
    "prmTrim = trimPath(prmPathways)\n",
    "\n",
    "pmtPathways = kegg_list('pathway','pmt').read()\n",
    "pmtTrim = trimPath(pmtPathways)"
   ]
  },
  {
   "cell_type": "code",
   "execution_count": 14,
   "metadata": {
    "collapsed": false
   },
   "outputs": [
    {
     "data": {
      "image/png": "[encoded data removed]",
      "text/plain": [
       "<matplotlib.figure.Figure at 0x1a9ce0b8>"
      ]
     },
     "metadata": {},
     "output_type": "display_data"
    }
   ],
   "source": [
    "venn3_unweighted(subsets = (set(pmgTrim),set(prmTrim),set(pmtTrim)),set_labels = \n",
    "                 ('pmg/9301/HLII','prm/0801/LLI','pmt/9313/LLIV'))\n",
    "plt.title('KEGG: set of pathways for the three strains')\n",
    "plt.savefig('Pro_pathways.png')"
   ]
  },
  {
   "cell_type": "code",
   "execution_count": null,
   "metadata": {
    "collapsed": true
   },
   "outputs": [],
   "source": [
    "#need to remember how to do this (5/2019)...start with one compound and find the reactions"
   ]
  },
  {
   "cell_type": "code",
   "execution_count": 23,
   "metadata": {
    "collapsed": false
   },
   "outputs": [
    {
     "data": {
      "text/plain": [
       "'ENTRY       C00719                      Compound\\nNAME        Betaine;\\n            Trimethylaminoacetate;\\n            Glycine betaine;\\n            N,N,N-Trimethylglycine;\\n            Trimethylammonioacetate\\nFORMULA     C5H11NO2\\nEXACT_MASS  117.079\\nMOL_WEIGHT  117.1463\\nREMARK      Same as: D07523\\nREACTION    R02565 R02566 R02821 R07228 R07244 R08211 R08212 R10061 \\n            R10062\\nPATHWAY     map00260  Glycine, serine and threonine metabolism\\n            map01100  Metabolic pathways\\n            map02010  ABC transporters\\nMODULE      M00555  Betaine biosynthesis, choline => betaine\\nENZYME      1.1.3.17        1.2.1.8         1.21.4.4        2.1.1.5         \\n            2.1.1.157       2.1.1.161       2.1.1.162\\nBRITE       Anatomical Therapeutic Chemical (ATC) classification [BR:br08303]\\n             A ALIMENTARY TRACT AND METABOLISM\\n              A16 OTHER ALIMENTARY TRACT AND METABOLISM PRODUCTS\\n               A16A OTHER ALIMENTARY TRACT AND METABOLISM PRODUCTS\\n                A16AA Amino acids and derivatives\\n                 A16AA06 Betaine\\n                  D07523  Betaine (JAN) &lt;JP/US&gt;\\n            USP drug classification [BR:br08302]\\n             Genetic or Enzyme Disorder: Replacement, Modifiers, Treatment\\n              Betaine\\n               D07523  Betaine (JAN)\\n            Therapeutic category of drugs in Japan [BR:br08301]\\n             3  Agents affecting metabolism\\n              39  Other agents affecting metabolism\\n               399  Miscellaneous\\n                3999  Others\\n                 D07523  Betaine (JAN)\\n            Risk category of Japanese OTC drugs [BR:br08312]\\n             Third-class OTC drugs\\n              Inorganic and organic chemicals\\n               Betaine\\n                D07523  Betaine (JAN)\\n            New drug approvals in Europe [br08329.html]\\n             European public assessment reports (EPAR) authorised medicine\\n              D07523\\n            New drug approvals in Japan [br08318.html]\\n             Drugs with new active ingredients\\n              D07523\\n            New drug approvals in the USA, Europe and Japan [br08328.html]\\n             Approval dates by FDA, EMA and PMDA\\n              D07523\\n            Major components of natural products [BR:br08323]\\n             Crude drugs\\n              Lycium fruit\\n               C00719  Betaine\\nDBLINKS     CAS: 107-43-7\\n            PubChem: 3985\\n            ChEBI: 17750\\n            ChEMBL: CHEMBL1182 CHEMBL95889\\n            KNApSAcK: C00007291\\n            PDB-CCD: BET\\n            3DMET: B01318\\n            NIKKAJI: J5.058J\\nATOM        8\\n            1   N1d N    25.9158  -16.0186 #+\\n            2   C1b C    27.1247  -16.7218\\n            3   C1a C    24.7013  -16.7218\\n            4   C1a C    25.9158  -14.6182\\n            5   C6a C    28.3392  -16.0186\\n            6   O6a O    28.3392  -14.6182\\n            7   O6a O    29.5478  -16.7218 #-\\n            8   C1a C    24.6962  -15.3153\\nBOND        7\\n            1     1   2 1\\n            2     1   3 1\\n            3     1   4 1\\n            4     2   5 1\\n            5     5   6 2\\n            6     5   7 1\\n            7     1   8 1\\n///\\n'"
      ]
     },
     "execution_count": 23,
     "metadata": {},
     "output_type": "execute_result"
    }
   ],
   "source": [
    "kegg_get(\"C00719\").read()"
   ]
  },
  {
   "cell_type": "code",
   "execution_count": 29,
   "metadata": {
    "collapsed": false
   },
   "outputs": [
    {
     "data": {
      "text/plain": [
       "'cpd:C00719\\trn:R02565\\ncpd:C00719\\trn:R02566\\ncpd:C00719\\trn:R02821\\ncpd:C00719\\trn:R07228\\ncpd:C00719\\trn:R07244\\ncpd:C00719\\trn:R08211\\ncpd:C00719\\trn:R08212\\ncpd:C00719\\trn:R10061\\ncpd:C00719\\trn:R10062\\n'"
      ]
     },
     "execution_count": 29,
     "metadata": {},
     "output_type": "execute_result"
    }
   ],
   "source": [
    "kegg_link(\"rn\",\"C00719\").read()"
   ]
  },
  {
   "cell_type": "code",
   "execution_count": 33,
   "metadata": {
    "collapsed": true
   },
   "outputs": [],
   "source": [
    "#trim a pathway/compound list\n",
    "def trimReactions(rnString):\n",
    "    export_trimRn = []\n",
    "    current_section = None\n",
    "    for line in rnString.rstrip().split(\"\\n\"):\n",
    "        #print(line)\n",
    "        r = line.find('rn:')\n",
    "        tp = line[r + 3 : r+9]\n",
    "        export_trimRn.append(tp)\n",
    "    return export_trimRn"
   ]
  },
  {
   "cell_type": "code",
   "execution_count": 34,
   "metadata": {
    "collapsed": true
   },
   "outputs": [],
   "source": [
    "test = kegg_link(\"rn\",\"C00719\").read()"
   ]
  },
  {
   "cell_type": "code",
   "execution_count": 59,
   "metadata": {
    "collapsed": false
   },
   "outputs": [],
   "source": [
    "pmtGenes = trimGenes(kegg_link(\"ko\",\"pmt\").read())"
   ]
  },
  {
   "cell_type": "code",
   "execution_count": 63,
   "metadata": {
    "collapsed": false
   },
   "outputs": [
    {
     "data": {
      "text/plain": [
       "list"
      ]
     },
     "execution_count": 63,
     "metadata": {},
     "output_type": "execute_result"
    }
   ],
   "source": [
    "type(pmtGenes)"
   ]
  },
  {
   "cell_type": "code",
   "execution_count": 35,
   "metadata": {
    "collapsed": false
   },
   "outputs": [
    {
     "data": {
      "text/plain": [
       "['R02565',\n",
       " 'R02566',\n",
       " 'R02821',\n",
       " 'R07228',\n",
       " 'R07244',\n",
       " 'R08211',\n",
       " 'R08212',\n",
       " 'R10061',\n",
       " 'R10062']"
      ]
     },
     "execution_count": 35,
     "metadata": {},
     "output_type": "execute_result"
    }
   ],
   "source": [
    "trimReactions(test)"
   ]
  },
  {
   "cell_type": "code",
   "execution_count": 36,
   "metadata": {
    "collapsed": true
   },
   "outputs": [],
   "source": [
    "#have list of reactions....go find the genes"
   ]
  },
  {
   "cell_type": "code",
   "execution_count": 75,
   "metadata": {
    "collapsed": false
   },
   "outputs": [
    {
     "data": {
      "text/plain": [
       "['K13042']"
      ]
     },
     "execution_count": 75,
     "metadata": {},
     "output_type": "execute_result"
    }
   ],
   "source": [
    "trimGenes(kegg_link(\"ko\",\"R07244\").read())"
   ]
  },
  {
   "cell_type": "code",
   "execution_count": 79,
   "metadata": {
    "collapsed": false
   },
   "outputs": [
    {
     "data": {
      "text/plain": [
       "True"
      ]
     },
     "execution_count": 79,
     "metadata": {},
     "output_type": "execute_result"
    }
   ],
   "source": [
    "\"K13042\" in pmtGenes"
   ]
  },
  {
   "cell_type": "code",
   "execution_count": 80,
   "metadata": {
    "collapsed": false
   },
   "outputs": [
    {
     "data": {
      "text/plain": [
       "False"
      ]
     },
     "execution_count": 80,
     "metadata": {},
     "output_type": "execute_result"
    }
   ],
   "source": [
    "\"K13042\" in prmGenes"
   ]
  },
  {
   "cell_type": "code",
   "execution_count": 72,
   "metadata": {
    "collapsed": true
   },
   "outputs": [],
   "source": [
    "#now see if those genes are in any of the Pro strains"
   ]
  },
  {
   "cell_type": "code",
   "execution_count": null,
   "metadata": {
    "collapsed": true
   },
   "outputs": [],
   "source": []
  },
  {
   "cell_type": "code",
   "execution_count": null,
   "metadata": {
    "collapsed": true
   },
   "outputs": [],
   "source": []
  },
  {
   "cell_type": "code",
   "execution_count": 77,
   "metadata": {
    "collapsed": false
   },
   "outputs": [],
   "source": [
    "#pull the full set of compounds for each strain...\n",
    "#have to loop through the genes because the KEGG / REST code will not do this \n",
    "#pull the full set of genes for each strain...\n",
    "pmtGenes = trimGenes(kegg_link(\"ko\",\"pmt\").read())\n",
    "pmgGenes = trimGenes(kegg_link(\"ko\",\"pmg\").read())\n",
    "prmGenes = trimGenes(kegg_link(\"ko\",\"prm\").read())"
   ]
  },
  {
   "cell_type": "code",
   "execution_count": null,
   "metadata": {
    "collapsed": false
   },
   "outputs": [],
   "source": []
  },
  {
   "cell_type": "code",
   "execution_count": null,
   "metadata": {
    "collapsed": true
   },
   "outputs": [],
   "source": [
    "#these next cells are time consuming and are now (in 5/2019) timing out..."
   ]
  },
  {
   "cell_type": "code",
   "execution_count": 29,
   "metadata": {
    "collapsed": false
   },
   "outputs": [],
   "source": [
    "#setup the strings to match first\n",
    "rnString = re.compile('(?:[rn:R])(\\d+)$') #will return R00190\n",
    "cpdString = re.compile('(?:[cpd:C])(\\d+)$') #will return C00190\n",
    "\n",
    "pmg_countCpd = []\n",
    "pmg_countGene = []\n",
    "pmg_countRxn = []\n",
    "        \n",
    "for gen in pmgGenes: #go through each gene...one at a time\n",
    "    rnList = kegg_link('reaction',gen).read() #get the list of reactions for that gene\n",
    "    #can have cases where there is a gene and no reaction (K02906 for example). This returns rnList = '\\n'\n",
    "    #since this is not actually empty...need a few way to filter those out\n",
    "    test = '\\n'\n",
    "    if test != rnList:\n",
    "        for line in rnList.rstrip().split('\\n'):\n",
    "            m = rnString.search(line) #get the reaction number\n",
    "            pmg_countRxn.append(m.group(0))\n",
    "            cpdList = kegg_link('cpd',m.group(0)).read() #now go get the compounds for that reaction\n",
    "            del m #have to do this so I can pickle the whole thing later...\n",
    "            #can have no compounds in a reaction (only glycans, begin with G, nothing I have matched)\n",
    "            if len(cpdList) > 1: #will be true if cpdList includes compounds\n",
    "                for line2 in cpdList.rstrip().split('\\n'):\n",
    "                    m2 = cpdString.search(line2).group(0)\n",
    "                    pmg_countCpd.append(m2) \n",
    "                    pmg_countGene.append(gen)"
   ]
  },
  {
   "cell_type": "code",
   "execution_count": 30,
   "metadata": {
    "collapsed": false
   },
   "outputs": [],
   "source": [
    "pmt_countCpd = []\n",
    "pmt_countGene = []\n",
    "pmt_countRxn = []\n",
    "\n",
    "for gen in pmtGenes: #go through each gene...one at a time\n",
    "    rnList = kegg_link('reaction',gen).read() #get the list of reactions for that gene\n",
    "    #can have cases where there is a gene and no reaction (K02906 for example). This returns rnList = '\\n'\n",
    "    #since this is not actually empty...need a few way to filter those out\n",
    "    test = '\\n'\n",
    "    if test != rnList:\n",
    "        for line in rnList.rstrip().split('\\n'):\n",
    "            m = rnString.search(line) #get the reaction number\n",
    "            pmt_countRxn.append(m.group(0))\n",
    "            cpdList = kegg_link('cpd',m.group(0)).read() #now go get the compounds for that reaction\n",
    "            del m #have to do this so I can pickle the whole thing later...\n",
    "            #can have no compounds in a reaction (only glycans, begin with G, nothing I have matched)\n",
    "            if len(cpdList) > 1: #will be true if cpdList includes compounds\n",
    "                for line2 in cpdList.rstrip().split('\\n'):\n",
    "                    m2 = cpdString.search(line2).group(0)\n",
    "                    pmt_countCpd.append(m2) \n",
    "                    pmt_countGene.append(gen)"
   ]
  },
  {
   "cell_type": "code",
   "execution_count": 31,
   "metadata": {
    "collapsed": false
   },
   "outputs": [],
   "source": [
    "prm_countCpd = []\n",
    "prm_countGene = []\n",
    "prm_countRxn = []\n",
    "\n",
    "for gen in prmGenes: #go through each gene...one at a time\n",
    "    rnList = kegg_link('reaction',gen).read() #get the list of reactions for that gene\n",
    "    #can have cases where there is a gene and no reaction (K02906 for example). This returns rnList = '\\n'\n",
    "    #since this is not actually empty...need a few way to filter those out\n",
    "    test = '\\n'\n",
    "    if test != rnList:\n",
    "        for line in rnList.rstrip().split('\\n'):\n",
    "            m = rnString.search(line) #get the reaction number\n",
    "            prm_countRxn.append(m.group(0))\n",
    "            cpdList = kegg_link('cpd',m.group(0)).read() #now go get the compounds for that reaction\n",
    "            del m #have to do this so I can pickle the whole thing later...\n",
    "            #can have no compounds in a reaction (only glycans, begin with G, nothing I have matched)\n",
    "            if len(cpdList) > 1: #will be true if cpdList includes compounds\n",
    "                for line2 in cpdList.rstrip().split('\\n'):\n",
    "                    m2 = cpdString.search(line2).group(0)\n",
    "                    prm_countCpd.append(m2) \n",
    "                    prm_countGene.append(gen)"
   ]
  },
  {
   "cell_type": "markdown",
   "metadata": {
    "collapsed": true
   },
   "source": [
    "Consider the overlap in compounds among the three strains\n",
    "---"
   ]
  },
  {
   "cell_type": "code",
   "execution_count": 32,
   "metadata": {
    "collapsed": false
   },
   "outputs": [
    {
     "data": {
      "text/plain": [
       "<matplotlib.text.Text at 0xde96ba8>"
      ]
     },
     "execution_count": 32,
     "metadata": {},
     "output_type": "execute_result"
    },
    {
     "data": {
      "image/png": "[encoded data removed]",
      "text/plain": [
       "<matplotlib.figure.Figure at 0xe1d41d0>"
      ]
     },
     "metadata": {},
     "output_type": "display_data"
    }
   ],
   "source": [
    "v = venn3_unweighted(subsets = (set(pmg_countGene),set(prm_countGene),set(pmt_countGene)),set_labels = \n",
    "                 ('pmg/9301/HLII','prm/0801/LLI','pmt/9313/LLIV'))\n",
    "plt.title('KEGG: set of genes for the three strains')\n",
    "#plt.savefig('Pro_genes.png')"
   ]
  },
  {
   "cell_type": "code",
   "execution_count": 33,
   "metadata": {
    "collapsed": false
   },
   "outputs": [
    {
     "data": {
      "text/plain": [
       "<matplotlib.text.Text at 0xbef7e48>"
      ]
     },
     "execution_count": 33,
     "metadata": {},
     "output_type": "execute_result"
    },
    {
     "data": {
      "image/png": "[encoded data removed]",
      "text/plain": [
       "<matplotlib.figure.Figure at 0xbf0df98>"
      ]
     },
     "metadata": {},
     "output_type": "display_data"
    }
   ],
   "source": [
    "v = venn3_unweighted(subsets = (set(pmg_countRxn),set(prm_countRxn),set(pmt_countRxn)),set_labels = \n",
    "                 ('pmg/9301/HLII','prm/0801/LLI','pmt/9313/LLIV'))\n",
    "plt.title('KEGG: set of reactions for the three strains')\n",
    "#plt.show() #don't do this...this creates a new figure\n",
    "#plt.savefig('Pro_reactions.png')"
   ]
  },
  {
   "cell_type": "code",
   "execution_count": 34,
   "metadata": {
    "collapsed": false
   },
   "outputs": [
    {
     "data": {
      "image/png": "[encoded data removed]",
      "text/plain": [
       "<matplotlib.figure.Figure at 0xbef6128>"
      ]
     },
     "metadata": {},
     "output_type": "display_data"
    }
   ],
   "source": [
    "venn3_unweighted(subsets = (set(pmg_countCpd),set(prm_countCpd),set(pmt_countCpd)),set_labels = \n",
    "                 ('pmg/9301/HLII','prm/0801/LLI','pmt/9313/LLIV'))\n",
    "plt.title('KEGG: set of compounds for the three strains')\n",
    "plt.savefig('Pro_cpds.png')"
   ]
  },
  {
   "cell_type": "code",
   "execution_count": 35,
   "metadata": {
    "collapsed": false
   },
   "outputs": [
    {
     "data": {
      "text/plain": [
       "'R00956'"
      ]
     },
     "execution_count": 35,
     "metadata": {},
     "output_type": "execute_result"
    }
   ],
   "source": [
    "#what are the differences?\n",
    "rxnString = set(prm_countRxn) - (set(pmg_countRxn)| set(pmt_countRxn))\n",
    "#rxnString = set(pmg_countRxn) - (set(prm_countRxn)| set(pmt_countRxn))\n",
    "#rxnString = set(pmt_countRxn) - (set(prm_countRxn)| set(pmg_countRxn))\n",
    "#set(pmg_countGene) & set(prm_countGene)- set(pmt_countGene)\n",
    "rxnString.pop()"
   ]
  },
  {
   "cell_type": "code",
   "execution_count": 36,
   "metadata": {
    "collapsed": false
   },
   "outputs": [
    {
     "data": {
      "text/plain": [
       "'ENTRY       R00956                      Reaction\\nNAME        CTP:alpha-D-glucose-1-phosphate cytidylyltransferase\\nDEFINITION  CTP + D-Glucose 1-phosphate <=> Diphosphate + CDP-glucose\\nEQUATION    C00063 + C00103 <=> C00013 + C00501\\nRCLASS      RC00002  C00103_C00501\\nENZYME      2.7.7.33\\nPATHWAY     rn00500  Starch and sucrose metabolism\\n            rn00520  Amino sugar and nucleotide sugar metabolism\\n            rn01100  Metabolic pathways\\nORTHOLOGY   K00978  glucose-1-phosphate cytidylyltransferase [EC:2.7.7.33]\\nDBLINKS     RHEA: 18216\\n///\\n'"
      ]
     },
     "execution_count": 36,
     "metadata": {},
     "output_type": "execute_result"
    }
   ],
   "source": [
    "kegg_get('R00956').read() #get information about a reaction"
   ]
  },
  {
   "cell_type": "code",
   "execution_count": 37,
   "metadata": {
    "collapsed": false
   },
   "outputs": [
    {
     "name": "stdout",
     "output_type": "stream",
     "text": [
      "cpd:C04712\t(7R)-7-(5-Carboxy-5-oxopentanoyl)aminocephalosporinate\n",
      "\n",
      "cpd:C01146\t2-Hydroxy-3-oxopropanoate; Tartronate semialdehyde\n",
      "\n",
      "cpd:C03440\tcis-4-Hydroxy-D-proline\n",
      "\n",
      "cpd:C03564\t1-Pyrroline-2-carboxylate; 1-Pyrroline-2-carboxylic acid; Delta1-Pyrroline 2-carboxylate; 1-Pyrroline 2-carboxylate\n",
      "\n",
      "cpd:C03771\t5-Guanidino-2-oxopentanoate; 5-Guanidino-2-oxo-pentanoate; 2-Oxo-5-guanidinopentanoate; 2-Oxo-5-guanidino-pentanoate; 2-Oxoarginine\n",
      "\n",
      "cpd:C00511\tAcrylic acid; Propenoate; Acrylate; 2-Propenoic acid; Vinylformic acid\n",
      "\n",
      "cpd:C05678\t(2-Amino-1-hydroxyethyl)phosphonate; 1-Hydroxy-2-aminoethylphosphonate\n",
      "\n",
      "cpd:C20267\t4-Amino-5-aminomethyl-2-methylpyrimidine\n",
      "\n",
      "cpd:C04282\t1-Pyrroline-4-hydroxy-2-carboxylate\n",
      "\n",
      "cpd:C01110\t5-Amino-2-oxopentanoic acid; 5-Amino-2-oxopentanoate; 2-Oxo-5-amino-pentanoate; 2-Oxo-5-aminopentanoate; alpha-Keto-delta-aminopentanoate; 2-Oxo-5-aminovalerate\n",
      "\n",
      "cpd:C01401\tAlanine; 2-Aminopropionic acid; 2-Aminopropanoic acid\n",
      "\n",
      "cpd:C04294\t5-(2-Hydroxyethyl)-4-methylthiazole; 4-Methyl-5-(2'-hydroxyethyl)-thiazole; 4-Methyl-5-(2-hydroxyethyl)-thiazole\n",
      "\n",
      "cpd:C05715\tgamma-Amino-gamma-cyanobutanoate; 4-Amino-4-cyanobutanoic acid\n",
      "\n",
      "cpd:C00325\tGDP-L-fucose; GDP-beta-L-fucose\n",
      "\n",
      "cpd:C01998\tAcrylonitrile; Propenenitrile; Vinyl cyanide\n",
      "\n",
      "cpd:C00763\tD-Proline\n",
      "\n",
      "cpd:C03921\t2-Dehydro-3-deoxy-D-glucarate\n",
      "\n",
      "cpd:C00270\tN-Acetylneuraminate; N-Acetylneuraminic acid; 5-Acetamido-3,5-dideoxy-D-glycero-D-galacto-2-nonulosonic acid; Neu5Ac\n",
      "\n",
      "cpd:C00515\tD-Ornithine\n",
      "\n",
      "cpd:C01279\t4-Amino-5-hydroxymethyl-2-methylpyrimidine; Toxopyrimidine; 4-Amino-2-methyl-5-pyrimidinemethanol\n",
      "\n",
      "cpd:C03410\tN-Glycoloyl-neuraminate; N-Glycolylneuraminate; Neu5Gc\n",
      "\n",
      "cpd:C19882\tD-glycero-D-manno-Heptose 7-phosphate\n",
      "\n",
      "cpd:C00060\tCarboxylate; R-COOH; Monocarboxylate; Carboxylic acid\n",
      "\n",
      "cpd:C00128\tCMP-N-acetylneuraminate; CMP-N-acetyl-beta-neuraminate\n",
      "\n",
      "cpd:C16074\tPhenylacetonitrile; Benzyl cyanide\n",
      "\n",
      "cpd:C03691\tCMP-N-glycoloylneuraminate; CMP-N-glycolylneuraminate; CMP-Neu5Gc\n",
      "\n",
      "cpd:C03089\t5-Methylthio-D-ribose; S-Methyl-5-thio-D-ribose\n",
      "\n",
      "cpd:C06241\tN-Acetylneuraminate 9-phosphate\n",
      "\n",
      "cpd:C09814\tBenzonitrile; Phenyl cyanide; Cyanobenzene\n",
      "\n",
      "cpd:C00792\tD-Arginine; D-2-Amino-5-guanidinovaleric acid\n",
      "\n",
      "cpd:C05714\talpha-Aminopropiononitrile\n",
      "\n",
      "cpd:C03557\t2-Aminoethylphosphonate; (2-Aminoethyl)phosphonate; Ciliatine\n",
      "\n",
      "cpd:C00679\t5-Dehydro-4-deoxy-D-glucarate; (2R,3S)-2,3-Dihydroxy-5-oxohexanedioate\n",
      "\n",
      "cpd:C00726\tNitrile; R-CN\n",
      "\n",
      "cpd:C00180\tBenzoate; Benzoic acid; Benzenecarboxylic acid; Phenylformic acid; Dracylic acid\n",
      "\n",
      "cpd:C00645\tN-Acetyl-D-mannosamine; 2-Acetamido-2-deoxy-D-mannose\n",
      "\n",
      "cpd:C02938\t3-Indoleacetonitrile; Indol-3-ylacetonitrile; Indole-3-acetonitrile; (Indol-3-yl)acetonitrile\n",
      "\n",
      "cpd:C07086\tPhenylacetic acid; Benzylformic acid; Phenylacetate; Benzeneacetic acid\n",
      "\n",
      "cpd:C00282\tHydrogen; H2\n",
      "\n",
      "cpd:C00916\tCephalosporin C\n",
      "\n",
      "cpd:C19878\tD-glycero-alpha-D-manno-Heptose 7-phosphate\n",
      "\n",
      "cpd:C07836\tD-glycero-beta-D-manno-Heptose 7-phosphate\n",
      "\n",
      "cpd:C03539\tS-Ribosyl-L-homocysteine; S-D-Ribosyl-L-homocysteine; Ribose-5-S-homocysteine; S-Ribosylhomocysteine; S-(5-Deoxy-D-ribos-5-yl)-L-homocysteine\n",
      "\n"
     ]
    }
   ],
   "source": [
    "# cpdString = set(pmg_countCpd) & set(prm_countCpd)& set(pmt_countCpd) #in all three.\n",
    "#what are the compounds unique to each strain? Change the logic as needed.\n",
    "cpdString = set(pmg_countCpd) - (set(prm_countCpd)| set(pmt_countCpd))\n",
    "for item in cpdString:\n",
    "    print(kegg_list(item).read())"
   ]
  },
  {
   "cell_type": "code",
   "execution_count": 38,
   "metadata": {
    "collapsed": false
   },
   "outputs": [
    {
     "name": "stdout",
     "output_type": "stream",
     "text": [
      "cpd:C00534\tPyridoxamine; PM\n",
      "\n",
      "cpd:C00575\t3',5'-Cyclic AMP; Cyclic adenylic acid; Cyclic AMP; Adenosine 3',5'-phosphate; Adenosine 3',5'-cyclic phosphate; cAMP\n",
      "\n",
      "cpd:C08276\t3-(Methylthio)propanoate; 3-(Methylthio)propionic acid; 3-Methylthiopropionate\n",
      "\n",
      "cpd:C00245\tTaurine; 2-Aminoethanesulfonic acid; Aminoethylsulfonic acid\n",
      "\n",
      "cpd:C01180\t4-Methylthio-2-oxobutanoic acid; 4-Methylthio-2-oxobutanoate; 2-Keto-4-methylthiobutyric acid; 2-Oxo-4-methylthiobutanoate; 2-Oxo-4-methylthiobutanoic acid\n",
      "\n",
      "cpd:C04582\tS-Methyl-5-thio-D-ribulose 1-phosphate\n",
      "\n",
      "cpd:C00942\t3',5'-Cyclic GMP; Guanosine 3',5'-cyclic monophosphate; Guanosine 3',5'-cyclic phosphate; Cyclic GMP; cGMP\n",
      "\n",
      "cpd:C00468\tEstrone; 3-Hydroxy-1,3,5(10)-estratrien-17-one\n",
      "\n",
      "cpd:C00721\tDextrin\n",
      "\n",
      "cpd:C00519\tHypotaurine; 2-Aminoethanesulfinic acid\n",
      "\n",
      "cpd:C00647\tPyridoxamine phosphate; Pyridoxamine 5-phosphate; Pyridoxamine 5'-phosphate\n",
      "\n",
      "cpd:C01170\tUDP-N-acetyl-D-mannosamine; UDP-N-acetyl-alpha-D-mannosamine\n",
      "\n",
      "cpd:C06125\tSulfatide; Galactosylceramide sulfate; Cerebroside 3-sulfate\n",
      "\n",
      "cpd:C04478\t3-Deoxy-D-manno-octulosonate 8-phosphate; 2-Dehydro-3-deoxy-D-octonate 8-phosphate\n",
      "\n",
      "cpd:C01112\tD-Arabinose 5-phosphate\n",
      "\n",
      "cpd:C01879\tPidolic acid; 5-Oxoproline; Pyroglutamic acid; 5-Pyrrolidone-2-carboxylic acid; Pyroglutamate; 5-Oxo-L-proline; L-Pyroglutamic acid; L-5-Pyrrolidone-2-carboxylic acid\n",
      "\n",
      "cpd:C00719\tBetaine; Trimethylaminoacetate; Glycine betaine; N,N,N-Trimethylglycine; Trimethylammonioacetate\n",
      "\n",
      "cpd:C01026\tN,N-Dimethylglycine; Dimethylglycine\n",
      "\n",
      "cpd:C00018\tPyridoxal phosphate; Pyridoxal 5-phosphate; Pyridoxal 5'-phosphate; PLP\n",
      "\n",
      "cpd:C00195\tN-Acylsphingosine; Ceramide; N-Acylsphing-4-enine; (4E)-Sphing-4-enine ceramide\n",
      "\n",
      "cpd:C02686\tGalactosylceramide; Galactocerebroside; D-Galactosyl-N-acylsphingosine; Cerebroside; D-Galactosylceramide\n",
      "\n",
      "cpd:C02538\tEstrone 3-sulfate\n",
      "\n",
      "cpd:C15606\t1,2-Dihydroxy-5-(methylthio)pent-1-en-3-one\n",
      "\n",
      "cpd:C15650\t2,3-Diketo-5-methylthiopentyl-1-phosphate; 5-(Methylthio)-2,3-dioxopentyl phosphate\n",
      "\n",
      "cpd:C00973\tCyclomaltodextrin; Cyclodextrin\n",
      "\n",
      "cpd:C01190\tbeta-D-Glucosyl-(1<->1)-ceramide; Glucosylceramide; Glucocerebroside; D-Glucosyl-N-acylsphingosine\n",
      "\n"
     ]
    }
   ],
   "source": [
    "# cpdString = set(pmg_countCpd) & set(prm_countCpd)& set(pmt_countCpd) #in all three.\n",
    "#what are the compounds unique to each strain? Change the logic as needed.\n",
    "cpdString = set(pmt_countCpd) - (set(prm_countCpd)| set(pmg_countCpd))\n",
    "for item in cpdString:\n",
    "    print(kegg_list(item).read())"
   ]
  },
  {
   "cell_type": "code",
   "execution_count": 17,
   "metadata": {
    "collapsed": false
   },
   "outputs": [],
   "source": [
    "#Do the simplest count first, is a compound in anything from each strain?\n",
    "#match this to the figure from KEGG for the IMBER poster\n",
    "\n",
    "#slight hack\n",
    "set_9301 = set()\n",
    "st = 's9301'\n",
    "for oneCpd in useCO:\n",
    "    df2 = mtabPruned.loc[oneCpd].filter(regex = (st))\n",
    "    r = df2[df2.gt(0)]\n",
    "    if not r.empty:\n",
    "        set_9301.add(oneCpd)\n",
    "        \n",
    "        \n",
    "set_0801 = set()\n",
    "st = 's0801'\n",
    "for oneCpd in useCO:\n",
    "    df2 = mtabPruned.loc[oneCpd].filter(regex = (st))\n",
    "    r = df2[df2.gt(0)]\n",
    "    if not r.empty:\n",
    "        set_0801.add(oneCpd)\n",
    "        \n",
    "set_9313 = set()\n",
    "st = 's9313'\n",
    "for oneCpd in useCO:\n",
    "    df2 = mtabPruned.loc[oneCpd].filter(regex = (st))\n",
    "    r = df2[df2.gt(0)]\n",
    "    if not r.empty:\n",
    "        set_9313.add(oneCpd)\n"
   ]
  },
  {
   "cell_type": "code",
   "execution_count": 18,
   "metadata": {
    "collapsed": true
   },
   "outputs": [],
   "source": [
    "# venn3_unweighted(subsets = (set(pmg_countCpd),set(prm_countCpd),set(pmt_countCpd)),set_labels = \n",
    "#                  ('pmg/9301/HLII','prm/0801/LLI','pmt/9313/LLIV'))\n",
    "# plt.title('KEGG: set of compounds for the three strains')\n",
    "# plt.savefig('Pro_cpds.png')"
   ]
  },
  {
   "cell_type": "code",
   "execution_count": 19,
   "metadata": {
    "collapsed": false
   },
   "outputs": [
    {
     "data": {
      "image/png": "[encoded data removed]",
      "text/plain": [
       "<matplotlib.figure.Figure at 0x75a9c88>"
      ]
     },
     "metadata": {},
     "output_type": "display_data"
    }
   ],
   "source": [
    "venn3([set_9301,set_0801,set_9313],set_labels = ('pmg/9301/HLII','prm/0801/LLI','pmt/9313/LLIV'))\n",
    "plt.title('TSQ compounds, measured, for the three strains')\n",
    "plt.savefig('Pro_TSQmeasured_cpds.png')"
   ]
  },
  {
   "cell_type": "code",
   "execution_count": null,
   "metadata": {
    "collapsed": true
   },
   "outputs": [],
   "source": [
    "#hack, but Liz doesn't like the Venn diagram and wants a list of compounds...export the compounds as \n",
    "#KEGG numbers. Because I don't feel up to it, I will manually make this into a list of metabolite names\n",
    "#4/19/2019"
   ]
  },
  {
   "cell_type": "code",
   "execution_count": 56,
   "metadata": {
    "collapsed": false
   },
   "outputs": [],
   "source": [
    "#did this multiple times and opened up next.csv in Excel after each time\n",
    "import csv\n",
    "\n",
    "all3 = (set(set_9313) & set(set_0801)) -  set(set_9301)\n",
    "\n",
    "keep = []\n",
    "for item in all3:\n",
    "    if item in useCO:\n",
    "        keep.append(item)\n",
    "        \n",
    "csvfile = \"next.csv\"\n",
    "\n",
    "#Assuming res is a flat list\n",
    "with open(csvfile, \"w\") as output:\n",
    "    writer = csv.writer(output, lineterminator='\\n')\n",
    "    for val in keep:\n",
    "        writer.writerow([val])  "
   ]
  },
  {
   "cell_type": "code",
   "execution_count": 39,
   "metadata": {
    "collapsed": false
   },
   "outputs": [],
   "source": [
    "#remember - this is the theoretical overlap based on KEGG\n",
    "all3 = set(pmg_countCpd) & set(prm_countCpd)& set(pmt_countCpd)\n",
    "\n",
    "keep = []\n",
    "for item in all3:\n",
    "    if item in useCO:\n",
    "        keep.append(item)\n",
    "        #print(kegg_list(item).read())"
   ]
  },
  {
   "cell_type": "code",
   "execution_count": 44,
   "metadata": {
    "collapsed": false
   },
   "outputs": [
    {
     "name": "stdout",
     "output_type": "stream",
     "text": [
      "cpd:C00719\tBetaine; Trimethylaminoacetate; Glycine betaine; N,N,N-Trimethylglycine; Trimethylammonioacetate\n",
      "\n",
      "cpd:C06767\tHemine; Hemin\n",
      "\n"
     ]
    }
   ],
   "source": [
    "for item in cpd_inNstrains.index:\n",
    "    #first, is it even in this strain?\n",
    "    if math.isnan(cpd_inNstrains.loc[item,'s9301']):\n",
    "        pass\n",
    "    else:\n",
    "        #is in the list for strain?\n",
    "        if item in pmg_countCpd:\n",
    "            pass\n",
    "        else:\n",
    "            print(kegg_list(item).read())"
   ]
  },
  {
   "cell_type": "code",
   "execution_count": 45,
   "metadata": {
    "collapsed": false
   },
   "outputs": [
    {
     "name": "stdout",
     "output_type": "stream",
     "text": [
      "cpd:C01674\tChitobiose; Diacetylchitobiose; N,N'-Diacetylchitobiose\n",
      "\n",
      "cpd:C06767\tHemine; Hemin\n",
      "\n",
      "cpd:C00315\tSpermidine; N-(3-Aminopropyl)-1,4-butane-diamine\n",
      "\n"
     ]
    }
   ],
   "source": [
    "for item in cpd_inNstrains.index:\n",
    "    #first, is it even in this strain?\n",
    "    if math.isnan(cpd_inNstrains.loc[item,'s9313']):\n",
    "        pass\n",
    "    else:\n",
    "        #is in the list for strain?\n",
    "        if item in pmt_countCpd:\n",
    "            pass\n",
    "        else:\n",
    "            print(kegg_list(item).read())"
   ]
  },
  {
   "cell_type": "code",
   "execution_count": 48,
   "metadata": {
    "collapsed": false
   },
   "outputs": [
    {
     "name": "stdout",
     "output_type": "stream",
     "text": [
      "cpd:C00568\t4-Aminobenzoate; ABEE; 4-Aminobenzoic acid; p-Aminobenzoate\n",
      "\n"
     ]
    }
   ],
   "source": [
    "for item in gI:\n",
    "    if fi1.loc[item,'s0801']==1:\n",
    "        print(kegg_list(item).read())"
   ]
  },
  {
   "cell_type": "code",
   "execution_count": 49,
   "metadata": {
    "collapsed": false
   },
   "outputs": [
    {
     "name": "stdout",
     "output_type": "stream",
     "text": [
      "cpd:C01674\tChitobiose; Diacetylchitobiose; N,N'-Diacetylchitobiose\n",
      "\n",
      "cpd:C00092\tD-Glucose 6-phosphate; Glucose 6-phosphate; Robison ester\n",
      "\n",
      "cpd:C00123\tL-Leucine; 2-Amino-4-methylvaleric acid; (2S)-alpha-2-Amino-4-methylvaleric acid; (2S)-alpha-Leucine\n",
      "\n",
      "cpd:C00864\tPantothenate; Pantothenic acid; (R)-Pantothenate\n",
      "\n",
      "cpd:C00106\tUracil\n",
      "\n"
     ]
    }
   ],
   "source": [
    "for item in gI:\n",
    "    if fi1.loc[item,'s9313']==1:\n",
    "        print(kegg_list(item).read())"
   ]
  },
  {
   "cell_type": "code",
   "execution_count": 56,
   "metadata": {
    "collapsed": false
   },
   "outputs": [
    {
     "name": "stdout",
     "output_type": "stream",
     "text": [
      "cpd:C19675\t(R)-2,3-Dihydroxypropane-1-sulfonate\n",
      "\n",
      "cpd:C00328\tL-Kynurenine; 3-Anthraniloyl-L-alanine\n",
      "\n",
      "cpd:C00385\tXanthine\n",
      "\n"
     ]
    }
   ],
   "source": [
    "for item in released_inNstrains.index:\n",
    "    #first, is it even in this strain?\n",
    "    if math.isnan(released_inNstrains.loc[item,'s0801']):\n",
    "        pass\n",
    "    else:\n",
    "        #is in the list for strain?\n",
    "        if item in prm_countCpd:\n",
    "            pass\n",
    "        else:\n",
    "            print(kegg_list(item).read())"
   ]
  },
  {
   "cell_type": "code",
   "execution_count": 57,
   "metadata": {
    "collapsed": false
   },
   "outputs": [
    {
     "name": "stdout",
     "output_type": "stream",
     "text": [
      "cpd:C19675\t(R)-2,3-Dihydroxypropane-1-sulfonate\n",
      "\n"
     ]
    }
   ],
   "source": [
    "for item in released_inNstrains.index:\n",
    "    #first, is it even in this strain?\n",
    "    if math.isnan(released_inNstrains.loc[item,'s9301']):\n",
    "        pass\n",
    "    else:\n",
    "        #is in the list for strain?\n",
    "        if item in pmg_countCpd:\n",
    "            pass\n",
    "        else:\n",
    "            print(kegg_list(item).read())"
   ]
  },
  {
   "cell_type": "code",
   "execution_count": 58,
   "metadata": {
    "collapsed": false
   },
   "outputs": [
    {
     "name": "stdout",
     "output_type": "stream",
     "text": [
      "cpd:C00328\tL-Kynurenine; 3-Anthraniloyl-L-alanine\n",
      "\n",
      "cpd:C00385\tXanthine\n",
      "\n"
     ]
    }
   ],
   "source": [
    "for item in released_inNstrains.index:\n",
    "    #first, is it even in this strain?\n",
    "    if math.isnan(released_inNstrains.loc[item,'s9313']):\n",
    "        pass\n",
    "    else:\n",
    "        #is in the list for strain?\n",
    "        if item in pmt_countCpd:\n",
    "            pass\n",
    "        else:\n",
    "            print(kegg_list(item).read())"
   ]
  },
  {
   "cell_type": "code",
   "execution_count": 59,
   "metadata": {
    "collapsed": false
   },
   "outputs": [
    {
     "name": "stdout",
     "output_type": "stream",
     "text": [
      "path:map00380\tTryptophan metabolism\n",
      "\n",
      "path:map01070\tBiosynthesis of plant hormones\n",
      "\n",
      "path:map01100\tMetabolic pathways\n",
      "\n",
      "path:map04075\tPlant hormone signal transduction\n",
      "\n"
     ]
    }
   ],
   "source": [
    "oneCpd='C00954'\n",
    "r = kegg_link('pathway',oneCpd).read()\n",
    "m = trimMap(r)\n",
    "\n",
    "for item in m:\n",
    "    print(kegg_list(item).read())"
   ]
  },
  {
   "cell_type": "code",
   "execution_count": null,
   "metadata": {
    "collapsed": true
   },
   "outputs": [],
   "source": []
  },
  {
   "cell_type": "code",
   "execution_count": null,
   "metadata": {
    "collapsed": true
   },
   "outputs": [],
   "source": []
  },
  {
   "cell_type": "code",
   "execution_count": 93,
   "metadata": {
    "collapsed": false
   },
   "outputs": [],
   "source": [
    "import dill\n",
    "# and to load the session again:\n",
    "dill.load_session('globalsave.pkl')"
   ]
  },
  {
   "cell_type": "code",
   "execution_count": null,
   "metadata": {
    "collapsed": true
   },
   "outputs": [],
   "source": []
  },
  {
   "cell_type": "code",
   "execution_count": null,
   "metadata": {
    "collapsed": true
   },
   "outputs": [],
   "source": []
  },
  {
   "cell_type": "code",
   "execution_count": 94,
   "metadata": {
    "collapsed": false
   },
   "outputs": [
    {
     "ename": "RuntimeError",
     "evalue": "No active exception to reraise",
     "output_type": "error",
     "traceback": [
      "\u001b[0;31m---------------------------------------------------------------------------\u001b[0m",
      "\u001b[0;31mRuntimeError\u001b[0m                              Traceback (most recent call last)",
      "\u001b[0;32m<ipython-input-94-d38dd71d448a>\u001b[0m in \u001b[0;36m<module>\u001b[0;34m()\u001b[0m\n\u001b[1;32m      2\u001b[0m \u001b[1;31m# command in the next cell to keep me from running cells\u001b[0m\u001b[1;33m\u001b[0m\u001b[1;33m\u001b[0m\u001b[0m\n\u001b[1;32m      3\u001b[0m \u001b[1;31m# of code that are not meant to be connected\u001b[0m\u001b[1;33m\u001b[0m\u001b[1;33m\u001b[0m\u001b[0m\n\u001b[0;32m----> 4\u001b[0;31m \u001b[1;32mraise\u001b[0m\u001b[1;33m\u001b[0m\u001b[0m\n\u001b[0m",
      "\u001b[0;31mRuntimeError\u001b[0m: No active exception to reraise"
     ]
    }
   ],
   "source": [
    "# leave debris below here for now, notebook will stop at the 'raise' \n",
    "# command here that will keep me from running cells \n",
    "# of code that are not meant to be connected\n",
    "raise"
   ]
  },
  {
   "cell_type": "code",
   "execution_count": null,
   "metadata": {
    "collapsed": true
   },
   "outputs": [],
   "source": []
  }
 ],
 "metadata": {
  "anaconda-cloud": {},
  "kernelspec": {
   "display_name": "Python [default]",
   "language": "python",
   "name": "python3"
  },
  "language_info": {
   "codemirror_mode": {
    "name": "ipython",
    "version": 3
   },
   "file_extension": ".py",
   "mimetype": "text/x-python",
   "name": "python",
   "nbconvert_exporter": "python",
   "pygments_lexer": "ipython3",
   "version": "3.5.2"
  }
 },
 "nbformat": 4,
 "nbformat_minor": 1
}
