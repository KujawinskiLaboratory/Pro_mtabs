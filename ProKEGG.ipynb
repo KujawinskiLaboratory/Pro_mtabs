{
 "cells": [
  {
   "cell_type": "markdown",
   "metadata": {},
   "source": [
    "#Chisholm / Prochlorococcus project\n",
    "##Use Python and its various libraries to link the KEGG compound information with pathways\n",
    "###KLongnecker, 4/17/2017"
   ]
  },
  {
   "cell_type": "code",
   "execution_count": 435,
   "metadata": {
    "collapsed": false
   },
   "outputs": [
    {
     "name": "stdout",
     "output_type": "stream",
     "text": [
      "Once deleted, variables cannot be recovered. Proceed (y/[n])? y\n"
     ]
    }
   ],
   "source": [
    "%reset"
   ]
  },
  {
   "cell_type": "code",
   "execution_count": 436,
   "metadata": {
    "collapsed": false
   },
   "outputs": [],
   "source": [
    "import pandas as pd\n",
    "import numpy as np\n",
    "import re\n",
    "import os\n",
    "import glob\n",
    "import math\n",
    "from imp import reload\n",
    "\n",
    "import palettable as pal\n",
    "import matplotlib.pyplot as plt\n",
    "import matplotlib as mpl \n",
    "mpl.rcParams['pdf.fonttype'] = 42\n",
    "\n",
    "from Bio import SeqIO\n",
    "from Bio.KEGG.REST import *\n",
    "from Bio.KEGG.KGML import KGML_parser\n",
    "from Bio.Graphics.KGML_vis import KGMLCanvas\n",
    "from IPython.display import Image, HTML\n",
    "\n",
    "#used this to step into the function and debug it, also need line with Tracer()() \n",
    "from IPython.core.debugger import Tracer \n",
    "#os._exit(1) #this should get me out of the debugging...\n",
    "\n",
    "%matplotlib inline"
   ]
  },
  {
   "cell_type": "code",
   "execution_count": 437,
   "metadata": {
    "collapsed": false
   },
   "outputs": [
    {
     "data": {
      "text/html": [
       "<div>\n",
       "<table border=\"1\" class=\"dataframe\">\n",
       "  <thead>\n",
       "    <tr style=\"text-align: right;\">\n",
       "      <th></th>\n",
       "      <th>Plimited_extracellular_s9301ax_50</th>\n",
       "      <th>Plimited_filter_s9301ax_50</th>\n",
       "      <th>replete_extracellular_s9301ax_10</th>\n",
       "      <th>replete_extracellular_s9301ax_50</th>\n",
       "      <th>replete_extracellular_s0801ax_10</th>\n",
       "      <th>replete_extracellular_s9313ax_5</th>\n",
       "      <th>replete_extracellular_s9313ax_10</th>\n",
       "      <th>replete_filter_s9301ax_10</th>\n",
       "      <th>replete_filter_s9301ax_50</th>\n",
       "      <th>replete_filter_s0801ax_10</th>\n",
       "      <th>replete_filter_s9313ax_5</th>\n",
       "      <th>replete_filter_s9313ax_10</th>\n",
       "    </tr>\n",
       "    <tr>\n",
       "      <th>KEGG</th>\n",
       "      <th></th>\n",
       "      <th></th>\n",
       "      <th></th>\n",
       "      <th></th>\n",
       "      <th></th>\n",
       "      <th></th>\n",
       "      <th></th>\n",
       "      <th></th>\n",
       "      <th></th>\n",
       "      <th></th>\n",
       "      <th></th>\n",
       "      <th></th>\n",
       "    </tr>\n",
       "  </thead>\n",
       "  <tbody>\n",
       "    <tr>\n",
       "      <th>C00196</th>\n",
       "      <td>0.000000e+00</td>\n",
       "      <td>0.0</td>\n",
       "      <td>0.000000e+00</td>\n",
       "      <td>0.000000e+00</td>\n",
       "      <td>0.000000e+00</td>\n",
       "      <td>0.000000e+00</td>\n",
       "      <td>0.000000e+00</td>\n",
       "      <td>0.000000e+00</td>\n",
       "      <td>0.000000e+00</td>\n",
       "      <td>0.000000e+00</td>\n",
       "      <td>0.000000e+00</td>\n",
       "      <td>0.000000e+00</td>\n",
       "    </tr>\n",
       "    <tr>\n",
       "      <th>C19675</th>\n",
       "      <td>1.502503e-09</td>\n",
       "      <td>0.0</td>\n",
       "      <td>7.559786e-09</td>\n",
       "      <td>0.000000e+00</td>\n",
       "      <td>8.830372e-09</td>\n",
       "      <td>0.000000e+00</td>\n",
       "      <td>0.000000e+00</td>\n",
       "      <td>0.000000e+00</td>\n",
       "      <td>0.000000e+00</td>\n",
       "      <td>0.000000e+00</td>\n",
       "      <td>0.000000e+00</td>\n",
       "      <td>0.000000e+00</td>\n",
       "    </tr>\n",
       "    <tr>\n",
       "      <th>C08276</th>\n",
       "      <td>0.000000e+00</td>\n",
       "      <td>0.0</td>\n",
       "      <td>0.000000e+00</td>\n",
       "      <td>0.000000e+00</td>\n",
       "      <td>0.000000e+00</td>\n",
       "      <td>0.000000e+00</td>\n",
       "      <td>0.000000e+00</td>\n",
       "      <td>0.000000e+00</td>\n",
       "      <td>0.000000e+00</td>\n",
       "      <td>0.000000e+00</td>\n",
       "      <td>0.000000e+00</td>\n",
       "      <td>0.000000e+00</td>\n",
       "    </tr>\n",
       "    <tr>\n",
       "      <th>C00141</th>\n",
       "      <td>1.501737e-07</td>\n",
       "      <td>0.0</td>\n",
       "      <td>1.269247e-07</td>\n",
       "      <td>1.719122e-07</td>\n",
       "      <td>3.699587e-09</td>\n",
       "      <td>1.385979e-06</td>\n",
       "      <td>1.185440e-06</td>\n",
       "      <td>0.000000e+00</td>\n",
       "      <td>0.000000e+00</td>\n",
       "      <td>0.000000e+00</td>\n",
       "      <td>0.000000e+00</td>\n",
       "      <td>0.000000e+00</td>\n",
       "    </tr>\n",
       "    <tr>\n",
       "      <th>C00671</th>\n",
       "      <td>0.000000e+00</td>\n",
       "      <td>0.0</td>\n",
       "      <td>5.760611e-08</td>\n",
       "      <td>1.074612e-07</td>\n",
       "      <td>0.000000e+00</td>\n",
       "      <td>3.044114e-07</td>\n",
       "      <td>3.038489e-07</td>\n",
       "      <td>1.499082e-09</td>\n",
       "      <td>1.232101e-09</td>\n",
       "      <td>2.171711e-09</td>\n",
       "      <td>1.414847e-10</td>\n",
       "      <td>2.189543e-09</td>\n",
       "    </tr>\n",
       "  </tbody>\n",
       "</table>\n",
       "</div>"
      ],
      "text/plain": [
       "        Plimited_extracellular_s9301ax_50  Plimited_filter_s9301ax_50  \\\n",
       "KEGG                                                                    \n",
       "C00196                       0.000000e+00                         0.0   \n",
       "C19675                       1.502503e-09                         0.0   \n",
       "C08276                       0.000000e+00                         0.0   \n",
       "C00141                       1.501737e-07                         0.0   \n",
       "C00671                       0.000000e+00                         0.0   \n",
       "\n",
       "        replete_extracellular_s9301ax_10  replete_extracellular_s9301ax_50  \\\n",
       "KEGG                                                                         \n",
       "C00196                      0.000000e+00                      0.000000e+00   \n",
       "C19675                      7.559786e-09                      0.000000e+00   \n",
       "C08276                      0.000000e+00                      0.000000e+00   \n",
       "C00141                      1.269247e-07                      1.719122e-07   \n",
       "C00671                      5.760611e-08                      1.074612e-07   \n",
       "\n",
       "        replete_extracellular_s0801ax_10  replete_extracellular_s9313ax_5  \\\n",
       "KEGG                                                                        \n",
       "C00196                      0.000000e+00                     0.000000e+00   \n",
       "C19675                      8.830372e-09                     0.000000e+00   \n",
       "C08276                      0.000000e+00                     0.000000e+00   \n",
       "C00141                      3.699587e-09                     1.385979e-06   \n",
       "C00671                      0.000000e+00                     3.044114e-07   \n",
       "\n",
       "        replete_extracellular_s9313ax_10  replete_filter_s9301ax_10  \\\n",
       "KEGG                                                                  \n",
       "C00196                      0.000000e+00               0.000000e+00   \n",
       "C19675                      0.000000e+00               0.000000e+00   \n",
       "C08276                      0.000000e+00               0.000000e+00   \n",
       "C00141                      1.185440e-06               0.000000e+00   \n",
       "C00671                      3.038489e-07               1.499082e-09   \n",
       "\n",
       "        replete_filter_s9301ax_50  replete_filter_s0801ax_10  \\\n",
       "KEGG                                                           \n",
       "C00196               0.000000e+00               0.000000e+00   \n",
       "C19675               0.000000e+00               0.000000e+00   \n",
       "C08276               0.000000e+00               0.000000e+00   \n",
       "C00141               0.000000e+00               0.000000e+00   \n",
       "C00671               1.232101e-09               2.171711e-09   \n",
       "\n",
       "        replete_filter_s9313ax_5  replete_filter_s9313ax_10  \n",
       "KEGG                                                         \n",
       "C00196              0.000000e+00               0.000000e+00  \n",
       "C19675              0.000000e+00               0.000000e+00  \n",
       "C08276              0.000000e+00               0.000000e+00  \n",
       "C00141              0.000000e+00               0.000000e+00  \n",
       "C00671              1.414847e-10               2.189543e-09  "
      ]
     },
     "execution_count": 437,
     "metadata": {},
     "output_type": "execute_result"
    }
   ],
   "source": [
    "mtabFile = 'ChisholmPro_cellSpecific_KEGGexport.2017.04.18.csv' #first column is KEGG C number\n",
    "mtabData=pd.read_csv(mtabFile, index_col='KEGG')\n",
    "mtabData.head()"
   ]
  },
  {
   "cell_type": "code",
   "execution_count": 438,
   "metadata": {
    "collapsed": false
   },
   "outputs": [],
   "source": [
    "if False: \n",
    "    #this will be useful later...but is apples and oranges right now...\n",
    "    ancillaryFile = 'ChisholmPro_ancillaryData.2017.04.18.csv'\n",
    "    ancillaryData = pd.read_csv(ancillaryFile, index_col = None)"
   ]
  },
  {
   "cell_type": "code",
   "execution_count": 439,
   "metadata": {
    "collapsed": false
   },
   "outputs": [
    {
     "data": {
      "text/plain": [
       "99"
      ]
     },
     "execution_count": 439,
     "metadata": {},
     "output_type": "execute_result"
    }
   ],
   "source": [
    "#allPathways = kegg_list(\"pathway\").read() #all organisms\n",
    "allPathways = kegg_list(\"pathway\",\"pmg\").read() #pmg i 9301, HLII\n",
    "len(allPathways.split('\\n'))"
   ]
  },
  {
   "cell_type": "code",
   "execution_count": 440,
   "metadata": {
    "collapsed": true
   },
   "outputs": [],
   "source": [
    "trimPath = []\n",
    "current_section = None\n",
    "for line in allPathways.rstrip().split(\"\\n\"):\n",
    "    tp = line[5:13]\n",
    "    trimPath.append(tp)"
   ]
  },
  {
   "cell_type": "code",
   "execution_count": 441,
   "metadata": {
    "collapsed": true
   },
   "outputs": [],
   "source": [
    "#set up a function to get the list of compounds for a given pathway (must be defined as ko00140 NOT map00140)\n",
    "def getCfrom_ko(ko_id):\n",
    "    pathway_file = kegg_get(ko_id).read()  # query and read the pathway\n",
    "    compound_list = []\n",
    "\n",
    "    current_section = None\n",
    "    for line in pathway_file.rstrip().split(\"\\n\"):\n",
    "        section = line[:12].strip()  # section names are within 12 columns\n",
    "        if not section == \"\":\n",
    "            current_section = section\n",
    "        if current_section == \"COMPOUND\":\n",
    "            compound_identifiers = line[12:].split(\"; \")\n",
    "            t = compound_identifiers[0]\n",
    "            compound_id = t[0:6]\n",
    "\n",
    "            if not compound_id in compound_list:\n",
    "                compound_list.append(compound_id)\n",
    "    return compound_list"
   ]
  },
  {
   "cell_type": "code",
   "execution_count": 442,
   "metadata": {
    "collapsed": true
   },
   "outputs": [],
   "source": [
    "#set up a function to get the list of K orthologues for a given pathway (must be defined as ko00140 NOT map00140)\n",
    "#for this project: can use the three digit code for the different Prochlorococcus strains\n",
    "def getKfrom_ko(ko_id):\n",
    "    pathway_file = kegg_get(ko_id).read()  # query and read the pathway\n",
    "    K_list = []\n",
    "\n",
    "    current_section = None\n",
    "    for line in pathway_file.rstrip().split(\"\\n\"):\n",
    "        section = line[:12].strip()  # section names are within 12 columns\n",
    "        if not section == \"\":\n",
    "            current_section = section\n",
    "        if current_section == \"ORTHOLOGY\":\n",
    "            K_identifiers = line[12:].split(\"; \")\n",
    "            t = K_identifiers[0]\n",
    "            K_id = t[0:6]\n",
    "\n",
    "            if not K_id in K_list:\n",
    "                K_list.append(K_id)\n",
    "    return K_list"
   ]
  },
  {
   "cell_type": "code",
   "execution_count": 443,
   "metadata": {
    "collapsed": false
   },
   "outputs": [],
   "source": [
    "# A bit of code that will help us display the PDF output\n",
    "def PDF(filename):\n",
    "    return HTML('<iframe src=%s width=700 height=350></iframe>' % filename)"
   ]
  },
  {
   "cell_type": "code",
   "execution_count": 444,
   "metadata": {
    "collapsed": false
   },
   "outputs": [],
   "source": [
    "import fxn_plotPathway\n",
    "##if I make a change, have to reload the function:\n",
    "# reload(fxn_plotPathway)"
   ]
  },
  {
   "cell_type": "code",
   "execution_count": 445,
   "metadata": {
    "collapsed": false
   },
   "outputs": [
    {
     "data": {
      "text/plain": [
       "Index(['C00196', 'C19675', 'C08276', 'C00141', 'C00671', 'C00568', 'C00156',\n",
       "       'C00233', 'C00170', '0', 'C00352', 'C04022', 'C00334', 'C01279',\n",
       "       'C00004', 'C00134', '0', 'C00147', 'C00212', 'C00020', 'C00026',\n",
       "       'C00062', 'C00049', 'C00719', 'C00120', 'C07481', 'C01674', '0',\n",
       "       'C00114', 'C03557', 'C00158', 'C00327', 'C08230', 'C00380', 'C01909',\n",
       "       'C00111', 'C06231', 'C00504', 'C06454', 'C00122', 'C00092', 'C00025',\n",
       "       'C00064', 'C01705', 'C00242', 'C00387', '0', 'C00954', 'C00294',\n",
       "       'C00130', 'C00407', 'C00097', 'C00051', 'C00328', 'C00123', '0',\n",
       "       'C00149', 'C00073', 'C06470', 'C00140', 'C00624', 'C02713', 'C00077',\n",
       "       'C00295', 'C00864', 'C00079', 'C00074', 'C05786', 'C00148', 'C00314',\n",
       "       'C00255', '0', 'C00021', 'C00019', 'C00213', 'C00065', 'C00093',\n",
       "       'C05122', '0', 'C00042', 'C10833', 'C00245', 'C00378', 'C01081',\n",
       "       'C00188', 'C00214', 'C00398', 'C00078', 'C00106', 'C00105', 'C00183',\n",
       "       'C00385', 'C01762'],\n",
       "      dtype='object', name='KEGG')"
      ]
     },
     "execution_count": 445,
     "metadata": {},
     "output_type": "execute_result"
    }
   ],
   "source": [
    "mtabData.index"
   ]
  },
  {
   "cell_type": "code",
   "execution_count": 446,
   "metadata": {
    "collapsed": true
   },
   "outputs": [],
   "source": [
    "#need to delete the zeros for now...\n",
    "mtabPruned = mtabData.drop(['0'])"
   ]
  },
  {
   "cell_type": "code",
   "execution_count": 447,
   "metadata": {
    "collapsed": false
   },
   "outputs": [
    {
     "data": {
      "text/plain": [
       "Index(['C00196', 'C19675', 'C08276', 'C00141', 'C00671', 'C00568', 'C00156',\n",
       "       'C00233', 'C00170', 'C00352', 'C04022', 'C00334', 'C01279', 'C00004',\n",
       "       'C00134', 'C00147', 'C00212', 'C00020', 'C00026', 'C00062', 'C00049',\n",
       "       'C00719', 'C00120', 'C07481', 'C01674', 'C00114', 'C03557', 'C00158',\n",
       "       'C00327', 'C08230', 'C00380', 'C01909', 'C00111', 'C06231', 'C00504',\n",
       "       'C06454', 'C00122', 'C00092', 'C00025', 'C00064', 'C01705', 'C00242',\n",
       "       'C00387', 'C00954', 'C00294', 'C00130', 'C00407', 'C00097', 'C00051',\n",
       "       'C00328', 'C00123', 'C00149', 'C00073', 'C06470', 'C00140', 'C00624',\n",
       "       'C02713', 'C00077', 'C00295', 'C00864', 'C00079', 'C00074', 'C05786',\n",
       "       'C00148', 'C00314', 'C00255', 'C00021', 'C00019', 'C00213', 'C00065',\n",
       "       'C00093', 'C05122', 'C00042', 'C10833', 'C00245', 'C00378', 'C01081',\n",
       "       'C00188', 'C00214', 'C00398', 'C00078', 'C00106', 'C00105', 'C00183',\n",
       "       'C00385', 'C01762'],\n",
       "      dtype='object', name='KEGG')"
      ]
     },
     "execution_count": 447,
     "metadata": {},
     "output_type": "execute_result"
    }
   ],
   "source": [
    "mtabPruned.index"
   ]
  },
  {
   "cell_type": "code",
   "execution_count": 448,
   "metadata": {
    "collapsed": false
   },
   "outputs": [],
   "source": [
    "if False:\n",
    "    #do all pathways\n",
    "    for item in trimPath:\n",
    "        fxn_plotPathway.gatherDetails(item,useFolder,useCO,CO_values)"
   ]
  },
  {
   "cell_type": "code",
   "execution_count": 449,
   "metadata": {
    "collapsed": true
   },
   "outputs": [],
   "source": [
    "##next up...count mtabs by pathway (and/or metabolism). \n",
    "#This is where the BRITE pathway comes into play"
   ]
  },
  {
   "cell_type": "code",
   "execution_count": 450,
   "metadata": {
    "collapsed": false
   },
   "outputs": [],
   "source": [
    "#organize pathways into the groups defined in the BRITE file\n",
    "def ReadBRITEfile(briteFile):\n",
    "    forBrite = pd.DataFrame(columns = ['map','A','B','C','wholeThing'])\n",
    "    # set up the expressions to match each level in the BRITE hierarchy\n",
    "    \n",
    "    textA = re.compile(r'(^A<b>)(.+)(</b>)\\s*(.*)$')\n",
    "    textB = re.compile(r'(^B)\\s*(.*)$')\n",
    "    textC = re.compile(r'(\\d+)\\s*(.*)$')\n",
    "    #this relies on the fact that the rows are in order: A, with B subheadings, then C subheadings\n",
    "    setA = []\n",
    "    idxA = []\n",
    "\n",
    "    setB = []\n",
    "    setC = []\n",
    "\n",
    "    with open(briteFile) as f:\n",
    "        for idx,line in enumerate(f):\n",
    "            if line[0] is not '#': #skip over the comments\n",
    "                mA = textA.search(line) \n",
    "                mB = textB.search(line) \n",
    "                mC = textC.search(line) \n",
    "                if mA:\n",
    "                    setA = mA.group(2)\n",
    "                    #house cleaning (probably c)\n",
    "                    idxA = idx\n",
    "                    forBrite.loc[idx,'A'] = setA\n",
    "                    forBrite.loc[idx,'wholeThing'] = line #using this as a double check for now\n",
    "                    #forBrite.loc[idx,'map'] = mC.group(1)\n",
    "                elif mB:\n",
    "                    setB = mB.group(2)\n",
    "                    forBrite.loc[idx,'A'] = setA\n",
    "                    forBrite.loc[idx,'B'] = setB\n",
    "                    forBrite.loc[idx,'wholeThing'] = line\n",
    "                    #forBrite.loc[idx,'map'] = mC.group(1)\n",
    "                elif mC:\n",
    "                    #Tracer()()\n",
    "                    setC = mC.group(2)\n",
    "                    forBrite.loc[idx,'A'] = setA\n",
    "                    forBrite.loc[idx,'B'] = setB\n",
    "                    forBrite.loc[idx,'C'] = setC\n",
    "                    forBrite.loc[idx,'wholeThing'] = line\n",
    "                    forBrite.loc[idx,'map'] = mC.group(1)\n",
    "\n",
    "    return forBrite"
   ]
  },
  {
   "cell_type": "code",
   "execution_count": 451,
   "metadata": {
    "collapsed": true
   },
   "outputs": [],
   "source": [
    "#go read in the file from KEGG\n",
    "D = glob.glob('br08901.keg') #from http://www.genome.jp/kegg-bin/get_htext?br08901.keg; 4/18/2017\n",
    "allBRITE=[]\n",
    "for idx,nof in enumerate(D):\n",
    "    allBRITE = ReadBRITEfile(nof)"
   ]
  },
  {
   "cell_type": "code",
   "execution_count": 452,
   "metadata": {
    "collapsed": false
   },
   "outputs": [
    {
     "data": {
      "text/html": [
       "<div>\n",
       "<table border=\"1\" class=\"dataframe\">\n",
       "  <thead>\n",
       "    <tr style=\"text-align: right;\">\n",
       "      <th></th>\n",
       "      <th>map</th>\n",
       "      <th>A</th>\n",
       "      <th>B</th>\n",
       "      <th>C</th>\n",
       "      <th>wholeThing</th>\n",
       "    </tr>\n",
       "  </thead>\n",
       "  <tbody>\n",
       "    <tr>\n",
       "      <th>8</th>\n",
       "      <td>NaN</td>\n",
       "      <td>Metabolism</td>\n",
       "      <td>NaN</td>\n",
       "      <td>NaN</td>\n",
       "      <td>A&lt;b&gt;Metabolism&lt;/b&gt;\\n</td>\n",
       "    </tr>\n",
       "    <tr>\n",
       "      <th>9</th>\n",
       "      <td>NaN</td>\n",
       "      <td>Metabolism</td>\n",
       "      <td>Global and overview maps</td>\n",
       "      <td>NaN</td>\n",
       "      <td>B  Global and overview maps\\n</td>\n",
       "    </tr>\n",
       "    <tr>\n",
       "      <th>10</th>\n",
       "      <td>01100</td>\n",
       "      <td>Metabolism</td>\n",
       "      <td>Global and overview maps</td>\n",
       "      <td>Metabolic pathways</td>\n",
       "      <td>C    01100  Metabolic pathways\\n</td>\n",
       "    </tr>\n",
       "    <tr>\n",
       "      <th>11</th>\n",
       "      <td>01110</td>\n",
       "      <td>Metabolism</td>\n",
       "      <td>Global and overview maps</td>\n",
       "      <td>Biosynthesis of secondary metabolites</td>\n",
       "      <td>C    01110  Biosynthesis of secondary metaboli...</td>\n",
       "    </tr>\n",
       "    <tr>\n",
       "      <th>12</th>\n",
       "      <td>01120</td>\n",
       "      <td>Metabolism</td>\n",
       "      <td>Global and overview maps</td>\n",
       "      <td>Microbial metabolism in diverse environments</td>\n",
       "      <td>C    01120  Microbial metabolism in diverse en...</td>\n",
       "    </tr>\n",
       "  </tbody>\n",
       "</table>\n",
       "</div>"
      ],
      "text/plain": [
       "      map           A                         B  \\\n",
       "8     NaN  Metabolism                       NaN   \n",
       "9     NaN  Metabolism  Global and overview maps   \n",
       "10  01100  Metabolism  Global and overview maps   \n",
       "11  01110  Metabolism  Global and overview maps   \n",
       "12  01120  Metabolism  Global and overview maps   \n",
       "\n",
       "                                               C  \\\n",
       "8                                            NaN   \n",
       "9                                            NaN   \n",
       "10                            Metabolic pathways   \n",
       "11         Biosynthesis of secondary metabolites   \n",
       "12  Microbial metabolism in diverse environments   \n",
       "\n",
       "                                           wholeThing  \n",
       "8                                A<b>Metabolism</b>\\n  \n",
       "9                       B  Global and overview maps\\n  \n",
       "10                   C    01100  Metabolic pathways\\n  \n",
       "11  C    01110  Biosynthesis of secondary metaboli...  \n",
       "12  C    01120  Microbial metabolism in diverse en...  "
      ]
     },
     "execution_count": 452,
     "metadata": {},
     "output_type": "execute_result"
    }
   ],
   "source": [
    "allBRITE.head()"
   ]
  },
  {
   "cell_type": "code",
   "execution_count": 453,
   "metadata": {
    "collapsed": false
   },
   "outputs": [],
   "source": [
    "prunedBRITE = allBRITE.dropna()"
   ]
  },
  {
   "cell_type": "code",
   "execution_count": 454,
   "metadata": {
    "collapsed": false
   },
   "outputs": [
    {
     "data": {
      "text/html": [
       "<div>\n",
       "<table border=\"1\" class=\"dataframe\">\n",
       "  <thead>\n",
       "    <tr style=\"text-align: right;\">\n",
       "      <th></th>\n",
       "      <th>map</th>\n",
       "      <th>A</th>\n",
       "      <th>B</th>\n",
       "      <th>C</th>\n",
       "      <th>wholeThing</th>\n",
       "    </tr>\n",
       "  </thead>\n",
       "  <tbody>\n",
       "    <tr>\n",
       "      <th>10</th>\n",
       "      <td>01100</td>\n",
       "      <td>Metabolism</td>\n",
       "      <td>Global and overview maps</td>\n",
       "      <td>Metabolic pathways</td>\n",
       "      <td>C    01100  Metabolic pathways\\n</td>\n",
       "    </tr>\n",
       "    <tr>\n",
       "      <th>11</th>\n",
       "      <td>01110</td>\n",
       "      <td>Metabolism</td>\n",
       "      <td>Global and overview maps</td>\n",
       "      <td>Biosynthesis of secondary metabolites</td>\n",
       "      <td>C    01110  Biosynthesis of secondary metaboli...</td>\n",
       "    </tr>\n",
       "    <tr>\n",
       "      <th>12</th>\n",
       "      <td>01120</td>\n",
       "      <td>Metabolism</td>\n",
       "      <td>Global and overview maps</td>\n",
       "      <td>Microbial metabolism in diverse environments</td>\n",
       "      <td>C    01120  Microbial metabolism in diverse en...</td>\n",
       "    </tr>\n",
       "    <tr>\n",
       "      <th>13</th>\n",
       "      <td>01130</td>\n",
       "      <td>Metabolism</td>\n",
       "      <td>Global and overview maps</td>\n",
       "      <td>Biosynthesis of antibiotics</td>\n",
       "      <td>C    01130  Biosynthesis of antibiotics\\n</td>\n",
       "    </tr>\n",
       "    <tr>\n",
       "      <th>14</th>\n",
       "      <td>01200</td>\n",
       "      <td>Metabolism</td>\n",
       "      <td>Global and overview maps</td>\n",
       "      <td>Carbon metabolism</td>\n",
       "      <td>C    01200  Carbon metabolism\\n</td>\n",
       "    </tr>\n",
       "  </tbody>\n",
       "</table>\n",
       "</div>"
      ],
      "text/plain": [
       "      map           A                         B  \\\n",
       "10  01100  Metabolism  Global and overview maps   \n",
       "11  01110  Metabolism  Global and overview maps   \n",
       "12  01120  Metabolism  Global and overview maps   \n",
       "13  01130  Metabolism  Global and overview maps   \n",
       "14  01200  Metabolism  Global and overview maps   \n",
       "\n",
       "                                               C  \\\n",
       "10                            Metabolic pathways   \n",
       "11         Biosynthesis of secondary metabolites   \n",
       "12  Microbial metabolism in diverse environments   \n",
       "13                   Biosynthesis of antibiotics   \n",
       "14                             Carbon metabolism   \n",
       "\n",
       "                                           wholeThing  \n",
       "10                   C    01100  Metabolic pathways\\n  \n",
       "11  C    01110  Biosynthesis of secondary metaboli...  \n",
       "12  C    01120  Microbial metabolism in diverse en...  \n",
       "13          C    01130  Biosynthesis of antibiotics\\n  \n",
       "14                    C    01200  Carbon metabolism\\n  "
      ]
     },
     "execution_count": 454,
     "metadata": {},
     "output_type": "execute_result"
    }
   ],
   "source": [
    "prunedBRITE.head()"
   ]
  },
  {
   "cell_type": "code",
   "execution_count": 455,
   "metadata": {
    "collapsed": false
   },
   "outputs": [],
   "source": [
    "#probably a way to do this in one step:\n",
    "findM = prunedBRITE.loc[(prunedBRITE['A'] == 'Metabolism')]\n",
    "findU = findM.loc[:,'B']"
   ]
  },
  {
   "cell_type": "code",
   "execution_count": 456,
   "metadata": {
    "collapsed": false,
    "scrolled": true
   },
   "outputs": [
    {
     "data": {
      "text/plain": [
       "array(['Global and overview maps', 'Carbohydrate metabolism',\n",
       "       'Energy metabolism', 'Lipid metabolism', 'Nucleotide metabolism',\n",
       "       'Amino acid metabolism', 'Metabolism of other amino acids',\n",
       "       'Glycan biosynthesis and metabolism',\n",
       "       'Metabolism of cofactors and vitamins',\n",
       "       'Metabolism of terpenoids and polyketides',\n",
       "       'Biosynthesis of other secondary metabolites',\n",
       "       'Xenobiotics biodegradation and metabolism',\n",
       "       'Chemical structure transformation maps'], dtype=object)"
      ]
     },
     "execution_count": 456,
     "metadata": {},
     "output_type": "execute_result"
    }
   ],
   "source": [
    "#really not that many pathway groups\n",
    "findU.unique()"
   ]
  },
  {
   "cell_type": "code",
   "execution_count": 521,
   "metadata": {
    "collapsed": false
   },
   "outputs": [],
   "source": [
    "unMetabolismGroups = findU.unique()\n",
    "#skip over the global and overview maps\n",
    "unMetabolismGroups = np.delete(unMetabolismGroups,(0),axis=0)"
   ]
  },
  {
   "cell_type": "code",
   "execution_count": 522,
   "metadata": {
    "collapsed": false
   },
   "outputs": [
    {
     "data": {
      "text/plain": [
       "array(['Carbohydrate metabolism', 'Energy metabolism', 'Lipid metabolism',\n",
       "       'Nucleotide metabolism', 'Amino acid metabolism',\n",
       "       'Metabolism of other amino acids',\n",
       "       'Glycan biosynthesis and metabolism',\n",
       "       'Metabolism of cofactors and vitamins',\n",
       "       'Metabolism of terpenoids and polyketides',\n",
       "       'Biosynthesis of other secondary metabolites',\n",
       "       'Xenobiotics biodegradation and metabolism',\n",
       "       'Chemical structure transformation maps'], dtype=object)"
      ]
     },
     "execution_count": 522,
     "metadata": {},
     "output_type": "execute_result"
    }
   ],
   "source": [
    "unMetabolismGroups"
   ]
  },
  {
   "cell_type": "code",
   "execution_count": 523,
   "metadata": {
    "collapsed": false
   },
   "outputs": [
    {
     "data": {
      "text/plain": [
       "['Plimited_extracellular_s9301ax_50',\n",
       " 'Plimited_filter_s9301ax_50',\n",
       " 'replete_extracellular_s9301ax_10',\n",
       " 'replete_extracellular_s9301ax_50',\n",
       " 'replete_extracellular_s0801ax_10',\n",
       " 'replete_extracellular_s9313ax_5',\n",
       " 'replete_extracellular_s9313ax_10',\n",
       " 'replete_filter_s9301ax_10',\n",
       " 'replete_filter_s9301ax_50',\n",
       " 'replete_filter_s0801ax_10',\n",
       " 'replete_filter_s9313ax_5',\n",
       " 'replete_filter_s9313ax_10']"
      ]
     },
     "execution_count": 523,
     "metadata": {},
     "output_type": "execute_result"
    }
   ],
   "source": [
    "#now that I have the colors all set...let's think about what we actually want to plot...\n",
    "list(mtabPruned)"
   ]
  },
  {
   "cell_type": "code",
   "execution_count": 618,
   "metadata": {
    "collapsed": false
   },
   "outputs": [
    {
     "name": "stdout",
     "output_type": "stream",
     "text": [
      "problem with this pathway pmg00351\n",
      "problem with this pathway pmg01010\n",
      "problem with this pathway pmg01060\n",
      "problem with this pathway pmg01061\n",
      "problem with this pathway pmg01062\n",
      "problem with this pathway pmg01063\n",
      "problem with this pathway pmg01064\n",
      "problem with this pathway pmg01065\n",
      "problem with this pathway pmg01066\n",
      "problem with this pathway pmg01070\n"
     ]
    }
   ],
   "source": [
    "#run for one strain (options are 'pmg','pmt','prm')\n",
    "oneStrain = 'pmg'\n",
    "useCO = mtabPruned.index\n",
    "CO_values = mtabPruned.loc[:,'Plimited_filter_s9301ax_50']/mtabPruned.loc[:,'replete_filter_s9301ax_50']  \n",
    "\n",
    "for item in unMetabolismGroups:\n",
    "    oneGroup = item\n",
    "    shortList = prunedBRITE.loc[(prunedBRITE['B']==oneGroup)] \n",
    "    onePath = shortList.loc[:,'map']\n",
    "    onePath_ann = []\n",
    "    for item in onePath:\n",
    "        onePath_ann.append(oneStrain + item)\n",
    "    #do some pathways, divide by group, but...can have pathways not annotated for this Pro strain\n",
    "    for item in onePath_ann:    \n",
    "        try:\n",
    "        #print(item)\n",
    "            fxn_plotPathway.gatherDetails(item,oneGroup,useCO,CO_values)\n",
    "        except:\n",
    "            print('problem with this pathway ' + item)"
   ]
  },
  {
   "cell_type": "code",
   "execution_count": null,
   "metadata": {
    "collapsed": true
   },
   "outputs": [],
   "source": []
  },
  {
   "cell_type": "code",
   "execution_count": 614,
   "metadata": {
    "collapsed": false
   },
   "outputs": [],
   "source": [
    "if True:\n",
    "    #do one pathway, best for testing\n",
    "    useFolder = 'testingFolder'\n",
    "    usePathway = 'pmg00908'\n",
    "    useCO = mtabPruned.index\n",
    "    #drat...ratios will cause problems bc inf (changed function: 0/inf will be top and bottom of color scale)\n",
    "    CO_values = mtabPruned.loc[:,'Plimited_filter_s9301ax_50']/mtabPruned.loc[:,'replete_filter_s9301ax_50']  \n",
    "    #CO_values = mtabPruned.loc[:,'Plimited_filter_s9301ax_50']\n",
    "    fxn_plotPathway.gatherDetails(usePathway,useFolder,useCO,CO_values)"
   ]
  },
  {
   "cell_type": "code",
   "execution_count": null,
   "metadata": {
    "collapsed": true
   },
   "outputs": [],
   "source": []
  },
  {
   "cell_type": "code",
   "execution_count": null,
   "metadata": {
    "collapsed": true
   },
   "outputs": [],
   "source": [
    "#leave debris below here for now"
   ]
  },
  {
   "cell_type": "code",
   "execution_count": null,
   "metadata": {
    "collapsed": true
   },
   "outputs": [],
   "source": []
  },
  {
   "cell_type": "code",
   "execution_count": 617,
   "metadata": {
    "collapsed": false
   },
   "outputs": [
    {
     "data": {
      "text/plain": [
       "<module 'fxn_plotPathway' from 'C:\\\\Users\\\\krista\\\\Documents\\\\GitHub\\\\Pro_mtabs\\\\fxn_plotPathway.py'>"
      ]
     },
     "execution_count": 617,
     "metadata": {},
     "output_type": "execute_result"
    }
   ],
   "source": [
    "#only need to reload if I change the *py file\n",
    "reload(fxn_plotPathway)"
   ]
  },
  {
   "cell_type": "code",
   "execution_count": null,
   "metadata": {
    "collapsed": true
   },
   "outputs": [],
   "source": []
  },
  {
   "cell_type": "code",
   "execution_count": null,
   "metadata": {
    "collapsed": true
   },
   "outputs": [],
   "source": []
  }
 ],
 "metadata": {
  "anaconda-cloud": {},
  "kernelspec": {
   "display_name": "Python [default]",
   "language": "python",
   "name": "python3"
  },
  "language_info": {
   "codemirror_mode": {
    "name": "ipython",
    "version": 3
   },
   "file_extension": ".py",
   "mimetype": "text/x-python",
   "name": "python",
   "nbconvert_exporter": "python",
   "pygments_lexer": "ipython3",
   "version": "3.5.2"
  }
 },
 "nbformat": 4,
 "nbformat_minor": 1
}
