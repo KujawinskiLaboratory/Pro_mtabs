{
 "cells": [
  {
   "cell_type": "markdown",
   "metadata": {},
   "source": [
    "#Chisholm / Prochlorococcus project\n",
    "##Use Python and its various libraries to link the KEGG compound information with pathways\n",
    "###KLongnecker, 4/17/2017"
   ]
  },
  {
   "cell_type": "code",
   "execution_count": 5,
   "metadata": {
    "collapsed": false
   },
   "outputs": [],
   "source": [
    "import pandas as pd\n",
    "import numpy as np\n",
    "import re\n",
    "import os\n",
    "import glob\n",
    "\n",
    "import palettable as pal\n",
    "import matplotlib.pyplot as plt\n",
    "import matplotlib as mpl \n",
    "mpl.rcParams['pdf.fonttype'] = 42\n",
    "\n",
    "from Bio import SeqIO\n",
    "from Bio.KEGG.REST import *\n",
    "from Bio.KEGG.KGML import KGML_parser\n",
    "from Bio.Graphics.KGML_vis import KGMLCanvas\n",
    "from IPython.display import Image, HTML\n",
    "\n",
    "#used this to step into the function and debug it, also need line with Tracer()() \n",
    "from IPython.core.debugger import Tracer \n",
    "#os._exit(1) #this should get me out of the debugging...\n",
    "\n",
    "%matplotlib inline"
   ]
  },
  {
   "cell_type": "code",
   "execution_count": 6,
   "metadata": {
    "collapsed": true
   },
   "outputs": [],
   "source": [
    "mtabFile = 'ChisholmPro_KEGGexport.2017.04.17.csv' #first column is KEGG C number"
   ]
  },
  {
   "cell_type": "code",
   "execution_count": 7,
   "metadata": {
    "collapsed": false
   },
   "outputs": [],
   "source": [
    "mtabData=pd.read_csv(mtabFile, index_col='KEGG')"
   ]
  },
  {
   "cell_type": "code",
   "execution_count": 8,
   "metadata": {
    "collapsed": false
   },
   "outputs": [
    {
     "data": {
      "text/html": [
       "<div>\n",
       "<table border=\"1\" class=\"dataframe\">\n",
       "  <thead>\n",
       "    <tr style=\"text-align: right;\">\n",
       "      <th></th>\n",
       "      <th>Plimited_extracellular_s9301ax_50</th>\n",
       "      <th>Plimited_filter_s9301ax_50</th>\n",
       "      <th>replete_extracellular_s9301ax_10</th>\n",
       "      <th>replete_extracellular_s9301ax_50</th>\n",
       "      <th>replete_extracellular_s0801ax_10</th>\n",
       "      <th>replete_extracellular_s9313ax_5</th>\n",
       "      <th>replete_extracellular_s9313ax_10</th>\n",
       "      <th>replete_filter_s9301ax_10</th>\n",
       "      <th>replete_filter_s9301ax_50</th>\n",
       "      <th>replete_filter_s0801ax_10</th>\n",
       "      <th>replete_filter_s9313ax_5</th>\n",
       "      <th>replete_filter_s9313ax_10</th>\n",
       "    </tr>\n",
       "    <tr>\n",
       "      <th>KEGG</th>\n",
       "      <th></th>\n",
       "      <th></th>\n",
       "      <th></th>\n",
       "      <th></th>\n",
       "      <th></th>\n",
       "      <th></th>\n",
       "      <th></th>\n",
       "      <th></th>\n",
       "      <th></th>\n",
       "      <th></th>\n",
       "      <th></th>\n",
       "      <th></th>\n",
       "    </tr>\n",
       "  </thead>\n",
       "  <tbody>\n",
       "    <tr>\n",
       "      <th>C00196</th>\n",
       "      <td>0.000000</td>\n",
       "      <td>0.0</td>\n",
       "      <td>0.000000</td>\n",
       "      <td>0.000000</td>\n",
       "      <td>0.000000</td>\n",
       "      <td>0.000000</td>\n",
       "      <td>0.000000</td>\n",
       "      <td>0.000000</td>\n",
       "      <td>0.000000</td>\n",
       "      <td>0.000000</td>\n",
       "      <td>0.00000</td>\n",
       "      <td>0.000000</td>\n",
       "    </tr>\n",
       "    <tr>\n",
       "      <th>C19675</th>\n",
       "      <td>59.673373</td>\n",
       "      <td>0.0</td>\n",
       "      <td>541.630502</td>\n",
       "      <td>0.000000</td>\n",
       "      <td>399.057861</td>\n",
       "      <td>0.000000</td>\n",
       "      <td>0.000000</td>\n",
       "      <td>0.000000</td>\n",
       "      <td>0.000000</td>\n",
       "      <td>0.000000</td>\n",
       "      <td>0.00000</td>\n",
       "      <td>0.000000</td>\n",
       "    </tr>\n",
       "    <tr>\n",
       "      <th>C08276</th>\n",
       "      <td>0.000000</td>\n",
       "      <td>0.0</td>\n",
       "      <td>0.000000</td>\n",
       "      <td>0.000000</td>\n",
       "      <td>0.000000</td>\n",
       "      <td>0.000000</td>\n",
       "      <td>0.000000</td>\n",
       "      <td>0.000000</td>\n",
       "      <td>0.000000</td>\n",
       "      <td>0.000000</td>\n",
       "      <td>0.00000</td>\n",
       "      <td>0.000000</td>\n",
       "    </tr>\n",
       "    <tr>\n",
       "      <th>C00141</th>\n",
       "      <td>8169.547758</td>\n",
       "      <td>0.0</td>\n",
       "      <td>16449.808476</td>\n",
       "      <td>24651.926818</td>\n",
       "      <td>223.180717</td>\n",
       "      <td>100228.888379</td>\n",
       "      <td>116396.989909</td>\n",
       "      <td>0.000000</td>\n",
       "      <td>0.000000</td>\n",
       "      <td>0.000000</td>\n",
       "      <td>0.00000</td>\n",
       "      <td>0.000000</td>\n",
       "    </tr>\n",
       "    <tr>\n",
       "      <th>C00671</th>\n",
       "      <td>0.000000</td>\n",
       "      <td>0.0</td>\n",
       "      <td>5910.269185</td>\n",
       "      <td>13236.046283</td>\n",
       "      <td>0.000000</td>\n",
       "      <td>20150.069568</td>\n",
       "      <td>26468.359973</td>\n",
       "      <td>316.366725</td>\n",
       "      <td>303.627647</td>\n",
       "      <td>272.686725</td>\n",
       "      <td>19.57057</td>\n",
       "      <td>395.492424</td>\n",
       "    </tr>\n",
       "  </tbody>\n",
       "</table>\n",
       "</div>"
      ],
      "text/plain": [
       "        Plimited_extracellular_s9301ax_50  Plimited_filter_s9301ax_50  \\\n",
       "KEGG                                                                    \n",
       "C00196                           0.000000                         0.0   \n",
       "C19675                          59.673373                         0.0   \n",
       "C08276                           0.000000                         0.0   \n",
       "C00141                        8169.547758                         0.0   \n",
       "C00671                           0.000000                         0.0   \n",
       "\n",
       "        replete_extracellular_s9301ax_10  replete_extracellular_s9301ax_50  \\\n",
       "KEGG                                                                         \n",
       "C00196                          0.000000                          0.000000   \n",
       "C19675                        541.630502                          0.000000   \n",
       "C08276                          0.000000                          0.000000   \n",
       "C00141                      16449.808476                      24651.926818   \n",
       "C00671                       5910.269185                      13236.046283   \n",
       "\n",
       "        replete_extracellular_s0801ax_10  replete_extracellular_s9313ax_5  \\\n",
       "KEGG                                                                        \n",
       "C00196                          0.000000                         0.000000   \n",
       "C19675                        399.057861                         0.000000   \n",
       "C08276                          0.000000                         0.000000   \n",
       "C00141                        223.180717                    100228.888379   \n",
       "C00671                          0.000000                     20150.069568   \n",
       "\n",
       "        replete_extracellular_s9313ax_10  replete_filter_s9301ax_10  \\\n",
       "KEGG                                                                  \n",
       "C00196                          0.000000                   0.000000   \n",
       "C19675                          0.000000                   0.000000   \n",
       "C08276                          0.000000                   0.000000   \n",
       "C00141                     116396.989909                   0.000000   \n",
       "C00671                      26468.359973                 316.366725   \n",
       "\n",
       "        replete_filter_s9301ax_50  replete_filter_s0801ax_10  \\\n",
       "KEGG                                                           \n",
       "C00196                   0.000000                   0.000000   \n",
       "C19675                   0.000000                   0.000000   \n",
       "C08276                   0.000000                   0.000000   \n",
       "C00141                   0.000000                   0.000000   \n",
       "C00671                 303.627647                 272.686725   \n",
       "\n",
       "        replete_filter_s9313ax_5  replete_filter_s9313ax_10  \n",
       "KEGG                                                         \n",
       "C00196                   0.00000                   0.000000  \n",
       "C19675                   0.00000                   0.000000  \n",
       "C08276                   0.00000                   0.000000  \n",
       "C00141                   0.00000                   0.000000  \n",
       "C00671                  19.57057                 395.492424  "
      ]
     },
     "execution_count": 8,
     "metadata": {},
     "output_type": "execute_result"
    }
   ],
   "source": [
    "mtabData.head()"
   ]
  },
  {
   "cell_type": "code",
   "execution_count": 9,
   "metadata": {
    "collapsed": true
   },
   "outputs": [],
   "source": [
    "#Picking code out of the NB project"
   ]
  },
  {
   "cell_type": "code",
   "execution_count": 10,
   "metadata": {
    "collapsed": false
   },
   "outputs": [
    {
     "data": {
      "text/plain": [
       "513"
      ]
     },
     "execution_count": 10,
     "metadata": {},
     "output_type": "execute_result"
    }
   ],
   "source": [
    "allPathways = kegg_list(\"pathway\").read()\n",
    "len(allPathways.split('\\n'))\n",
    "#number here is the # of pathways at KEGG, up to 486 by 4/13/2016; and 513 one year later on 4/17/2017"
   ]
  },
  {
   "cell_type": "code",
   "execution_count": 11,
   "metadata": {
    "collapsed": true
   },
   "outputs": [],
   "source": [
    "trimPath = []\n",
    "current_section = None\n",
    "for line in allPathways.rstrip().split(\"\\n\"):\n",
    "    tp = line[8:13]\n",
    "    trimPath.append('ko' + tp)\n",
    "    \n",
    "#have some cases where KEGG will send back a pathway, but the pathway itself is not searchable...seems to \n",
    "#be a KEGG bug, 'ko00351' was first, then realized there are many of these,\n",
    "#did this list manually since I thought it would be short...\n",
    "toDelete = ('ko00351', 'ko01010','ko01060',  'ko01061', 'ko01062', 'ko01063', \n",
    "            'ko01064', 'ko01065', 'ko01066', 'ko01070', 'ko07011', 'ko07012', \n",
    "            'ko07013', 'ko07014', 'ko07015', 'ko07016', 'ko07017', 'ko07018', \n",
    "            'ko07019', 'ko07020', 'ko07021', 'ko07023', 'ko07024', 'ko07025', \n",
    "            'ko07026', 'ko07027', 'ko07028', 'ko07029', 'ko07030', 'ko07031', \n",
    "            'ko07032', 'ko07033', 'ko07034', 'ko07035', 'ko07036', 'ko07037', \n",
    "            'ko07038', 'ko07039', 'ko07040', 'ko07041', 'ko07042', 'ko07043', \n",
    "            'ko07044', 'ko07045', 'ko07046', 'ko07047', 'ko07048', 'ko07049', \n",
    "            'ko07050', 'ko07051', 'ko07052', 'ko07053', 'ko07054', 'ko07055', \n",
    "            'ko07056', 'ko07057', 'ko07110', 'ko07112', 'ko07114', 'ko07117', \n",
    "            'ko07211', 'ko07212', 'ko07213', 'ko07214', 'ko07215', 'ko07216', \n",
    "            'ko07217', 'ko07218', 'ko07219', 'ko07220', 'ko07221', 'ko07222', \n",
    "            'ko07223', 'ko07224', 'ko07225', 'ko07226', 'ko07227', 'ko07228', \n",
    "            'ko07229', 'ko07230', 'ko07231', 'ko07232', 'ko07233', 'ko07234', \n",
    "            'ko07235', 'ko04933')\n",
    "\n",
    "#probably a way to do this without the for loop, but this will work\n",
    "for item in toDelete:\n",
    "    trimPath.remove(item)"
   ]
  },
  {
   "cell_type": "code",
   "execution_count": 12,
   "metadata": {
    "collapsed": false
   },
   "outputs": [],
   "source": [
    "#setup some functions"
   ]
  },
  {
   "cell_type": "code",
   "execution_count": 13,
   "metadata": {
    "collapsed": true
   },
   "outputs": [],
   "source": [
    "#set up a function to get the list of compounds for a given pathway (must be defined as ko00140 NOT map00140)\n",
    "def getCfrom_ko(ko_id):\n",
    "    pathway_file = kegg_get(ko_id).read()  # query and read the pathway\n",
    "    compound_list = []\n",
    "\n",
    "    current_section = None\n",
    "    for line in pathway_file.rstrip().split(\"\\n\"):\n",
    "        section = line[:12].strip()  # section names are within 12 columns\n",
    "        if not section == \"\":\n",
    "            current_section = section\n",
    "        if current_section == \"COMPOUND\":\n",
    "            compound_identifiers = line[12:].split(\"; \")\n",
    "            t = compound_identifiers[0]\n",
    "            compound_id = t[0:6]\n",
    "\n",
    "            if not compound_id in compound_list:\n",
    "                compound_list.append(compound_id)\n",
    "    return compound_list"
   ]
  },
  {
   "cell_type": "code",
   "execution_count": 14,
   "metadata": {
    "collapsed": true
   },
   "outputs": [],
   "source": [
    "#set up a function to get the list of K orthologues for a given pathway (must be defined as ko00140 NOT map00140)\n",
    "#for this project: can use the three digit code for the different Prochlorococcus strains\n",
    "def getKfrom_ko(ko_id):\n",
    "    pathway_file = kegg_get(ko_id).read()  # query and read the pathway\n",
    "    K_list = []\n",
    "\n",
    "    current_section = None\n",
    "    for line in pathway_file.rstrip().split(\"\\n\"):\n",
    "        section = line[:12].strip()  # section names are within 12 columns\n",
    "        if not section == \"\":\n",
    "            current_section = section\n",
    "        if current_section == \"ORTHOLOGY\":\n",
    "            K_identifiers = line[12:].split(\"; \")\n",
    "            t = K_identifiers[0]\n",
    "            K_id = t[0:6]\n",
    "\n",
    "            if not K_id in K_list:\n",
    "                K_list.append(K_id)\n",
    "    return K_list"
   ]
  },
  {
   "cell_type": "code",
   "execution_count": 15,
   "metadata": {
    "collapsed": false
   },
   "outputs": [],
   "source": [
    "# A bit of code that will help us display the PDF output\n",
    "def PDF(filename):\n",
    "    return HTML('<iframe src=%s width=700 height=350></iframe>' % filename)"
   ]
  },
  {
   "cell_type": "code",
   "execution_count": 16,
   "metadata": {
    "collapsed": false
   },
   "outputs": [],
   "source": [
    "## A bit of helper code to shorten long text\n",
    "#def head(text, lines=10):\n",
    "#    \"\"\" Print the first lines lines of the passed text.\n",
    "#    \"\"\"\n",
    "#    print '\\n'.join(text.split('\\n')[:lines] + ['[...]'])"
   ]
  },
  {
   "cell_type": "code",
   "execution_count": null,
   "metadata": {
    "collapsed": true
   },
   "outputs": [],
   "source": []
  },
  {
   "cell_type": "code",
   "execution_count": 17,
   "metadata": {
    "collapsed": false
   },
   "outputs": [],
   "source": [
    "out = getKfrom_ko('pmg00230')"
   ]
  },
  {
   "cell_type": "code",
   "execution_count": 18,
   "metadata": {
    "collapsed": false
   },
   "outputs": [],
   "source": [
    "item = 'pmg00230'"
   ]
  },
  {
   "cell_type": "code",
   "execution_count": 19,
   "metadata": {
    "collapsed": true
   },
   "outputs": [],
   "source": [
    "useColors = pal.colorbrewer.qualitative.Set1_4.hex_colors"
   ]
  },
  {
   "cell_type": "code",
   "execution_count": 20,
   "metadata": {
    "collapsed": false
   },
   "outputs": [],
   "source": [
    "pathway = KGML_parser.read(kegg_get(item, \"kgml\"))"
   ]
  },
  {
   "cell_type": "code",
   "execution_count": 21,
   "metadata": {
    "collapsed": false
   },
   "outputs": [
    {
     "data": {
      "text/plain": [
       "<Bio.KEGG.KGML.KGML_pathway.Pathway at 0x9a521d0>"
      ]
     },
     "execution_count": 21,
     "metadata": {},
     "output_type": "execute_result"
    }
   ],
   "source": [
    "pathway"
   ]
  },
  {
   "cell_type": "code",
   "execution_count": 22,
   "metadata": {
    "collapsed": false
   },
   "outputs": [
    {
     "data": {
      "text/html": [
       "<iframe src=mapWithColors_pmg00230.pdf width=700 height=350></iframe>"
      ],
      "text/plain": [
       "<IPython.core.display.HTML object>"
      ]
     },
     "execution_count": 22,
     "metadata": {},
     "output_type": "execute_result"
    }
   ],
   "source": [
    "canvas = KGMLCanvas(pathway, import_imagemap=True)\n",
    "pdfName = 'mapWithColors_' + str(item) + '.pdf'\n",
    "#canvas.draw(directoryPDF + '/' + pdfName)\n",
    "canvas.draw(pdfName)\n",
    "PDF(pdfName)"
   ]
  },
  {
   "cell_type": "code",
   "execution_count": 25,
   "metadata": {
    "collapsed": false
   },
   "outputs": [
    {
     "data": {
      "text/plain": [
       "<module 'fxn_plotPathway' from 'C:\\\\Users\\\\KLongnecker\\\\Documents\\\\GitHub\\\\Pro_mtabs\\\\fxn_plotPathway.py'>"
      ]
     },
     "execution_count": 25,
     "metadata": {},
     "output_type": "execute_result"
    }
   ],
   "source": [
    "import fxn_plotPathway\n",
    "##if I make a change, have to reload the function:\n",
    "# from imp import reload\n",
    "# reload(fxn_plotPathway)"
   ]
  },
  {
   "cell_type": "code",
   "execution_count": null,
   "metadata": {
    "collapsed": true
   },
   "outputs": [],
   "source": []
  },
  {
   "cell_type": "code",
   "execution_count": 26,
   "metadata": {
    "collapsed": false
   },
   "outputs": [
    {
     "data": {
      "text/plain": [
       "'pmg00230'"
      ]
     },
     "execution_count": 26,
     "metadata": {},
     "output_type": "execute_result"
    }
   ],
   "source": [
    "item"
   ]
  },
  {
   "cell_type": "code",
   "execution_count": 27,
   "metadata": {
    "collapsed": true
   },
   "outputs": [],
   "source": [
    "#need the KEGG numbers from mtabData (the index)"
   ]
  },
  {
   "cell_type": "code",
   "execution_count": 28,
   "metadata": {
    "collapsed": false
   },
   "outputs": [
    {
     "data": {
      "text/plain": [
       "Index(['C00196', 'C19675', 'C08276', 'C00141', 'C00671', 'C00568', 'C00156',\n",
       "       'C00233', 'C00170', '0', 'C00352', 'C04022', 'C00334', 'C01279',\n",
       "       'C00004', 'C00134', '0', 'C00147', 'C00212', 'C00020', 'C00026',\n",
       "       'C00062', 'C00049', 'C00719', 'C00120', 'C07481', 'C01674', '0',\n",
       "       'C00114', 'C03557', 'C00158', 'C00327', 'C08230', 'C00380', 'C01909',\n",
       "       'C00111', 'C06231', 'C00504', 'C06454', 'C00122', 'C00092', 'C00025',\n",
       "       'C00064', 'C01705', 'C00242', 'C00387', '0', 'C00954', 'C00294',\n",
       "       'C00130', 'C00407', 'C00097', 'C00051', 'C00328', 'C00123', '0',\n",
       "       'C00149', 'C00073', 'C06470', 'C00140', 'C00624', 'C02713', 'C00077',\n",
       "       'C00295', 'C00864', 'C00079', 'C00074', 'C05786', 'C00148', 'C00314',\n",
       "       'C00255', '0', 'C00019', 'C00019', 'C00213', 'C00065', 'C00093',\n",
       "       'C05122', '0', 'C00042', 'C10833', 'C00245', 'C00378', 'C01081',\n",
       "       'C00188', 'C00214', 'C00398', 'C00078', 'C00106', 'C00105', 'C00183',\n",
       "       'C00385', 'C01762'],\n",
       "      dtype='object', name='KEGG')"
      ]
     },
     "execution_count": 28,
     "metadata": {},
     "output_type": "execute_result"
    }
   ],
   "source": [
    "mtabData.index"
   ]
  },
  {
   "cell_type": "code",
   "execution_count": 29,
   "metadata": {
    "collapsed": true
   },
   "outputs": [],
   "source": [
    "#need to delete the zeros for now..."
   ]
  },
  {
   "cell_type": "code",
   "execution_count": 30,
   "metadata": {
    "collapsed": true
   },
   "outputs": [],
   "source": [
    "mtabPruned = mtabData.drop(['0'])"
   ]
  },
  {
   "cell_type": "code",
   "execution_count": 31,
   "metadata": {
    "collapsed": false
   },
   "outputs": [
    {
     "data": {
      "text/plain": [
       "Index(['C00196', 'C19675', 'C08276', 'C00141', 'C00671', 'C00568', 'C00156',\n",
       "       'C00233', 'C00170', 'C00352', 'C04022', 'C00334', 'C01279', 'C00004',\n",
       "       'C00134', 'C00147', 'C00212', 'C00020', 'C00026', 'C00062', 'C00049',\n",
       "       'C00719', 'C00120', 'C07481', 'C01674', 'C00114', 'C03557', 'C00158',\n",
       "       'C00327', 'C08230', 'C00380', 'C01909', 'C00111', 'C06231', 'C00504',\n",
       "       'C06454', 'C00122', 'C00092', 'C00025', 'C00064', 'C01705', 'C00242',\n",
       "       'C00387', 'C00954', 'C00294', 'C00130', 'C00407', 'C00097', 'C00051',\n",
       "       'C00328', 'C00123', 'C00149', 'C00073', 'C06470', 'C00140', 'C00624',\n",
       "       'C02713', 'C00077', 'C00295', 'C00864', 'C00079', 'C00074', 'C05786',\n",
       "       'C00148', 'C00314', 'C00255', 'C00019', 'C00019', 'C00213', 'C00065',\n",
       "       'C00093', 'C05122', 'C00042', 'C10833', 'C00245', 'C00378', 'C01081',\n",
       "       'C00188', 'C00214', 'C00398', 'C00078', 'C00106', 'C00105', 'C00183',\n",
       "       'C00385', 'C01762'],\n",
       "      dtype='object', name='KEGG')"
      ]
     },
     "execution_count": 31,
     "metadata": {},
     "output_type": "execute_result"
    }
   ],
   "source": [
    "mtabPruned.index"
   ]
  },
  {
   "cell_type": "code",
   "execution_count": 32,
   "metadata": {
    "collapsed": true
   },
   "outputs": [],
   "source": [
    "justKEGG = mtabPruned.index"
   ]
  },
  {
   "cell_type": "code",
   "execution_count": 64,
   "metadata": {
    "collapsed": false
   },
   "outputs": [
    {
     "data": {
      "text/plain": [
       "<module 'fxn_plotPathway' from 'C:\\\\Users\\\\KLongnecker\\\\Documents\\\\GitHub\\\\Pro_mtabs\\\\fxn_plotPathway.py'>"
      ]
     },
     "execution_count": 64,
     "metadata": {},
     "output_type": "execute_result"
    }
   ],
   "source": [
    "# from imp import reload\n",
    "# reload(fxn_plotPathway)"
   ]
  },
  {
   "cell_type": "code",
   "execution_count": 66,
   "metadata": {
    "collapsed": false
   },
   "outputs": [],
   "source": [
    "folder = 'pathway_plots'\n",
    "usePathway = item\n",
    "useCO = mtabPruned.index\n",
    "gc_regular = fxn_plotPathway.gatherDetails(usePathway,folder,useCO,justKEGG)"
   ]
  },
  {
   "cell_type": "code",
   "execution_count": null,
   "metadata": {
    "collapsed": true
   },
   "outputs": [],
   "source": [
    "#...next up...figure out what I want to do about the colors...save that for tomorrow"
   ]
  },
  {
   "cell_type": "code",
   "execution_count": null,
   "metadata": {
    "collapsed": true
   },
   "outputs": [],
   "source": []
  },
  {
   "cell_type": "code",
   "execution_count": null,
   "metadata": {
    "collapsed": true
   },
   "outputs": [],
   "source": []
  },
  {
   "cell_type": "code",
   "execution_count": null,
   "metadata": {
    "collapsed": true
   },
   "outputs": [],
   "source": []
  },
  {
   "cell_type": "code",
   "execution_count": null,
   "metadata": {
    "collapsed": true
   },
   "outputs": [],
   "source": []
  },
  {
   "cell_type": "code",
   "execution_count": null,
   "metadata": {
    "collapsed": true
   },
   "outputs": [],
   "source": []
  }
 ],
 "metadata": {
  "anaconda-cloud": {},
  "kernelspec": {
   "display_name": "Python 3",
   "language": "python",
   "name": "python3"
  },
  "language_info": {
   "codemirror_mode": {
    "name": "ipython",
    "version": 3
   },
   "file_extension": ".py",
   "mimetype": "text/x-python",
   "name": "python",
   "nbconvert_exporter": "python",
   "pygments_lexer": "ipython3",
   "version": "3.6.0"
  }
 },
 "nbformat": 4,
 "nbformat_minor": 1
}
