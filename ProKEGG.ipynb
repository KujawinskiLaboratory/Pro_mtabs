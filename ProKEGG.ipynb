{
 "cells": [
  {
   "cell_type": "markdown",
   "metadata": {},
   "source": [
    "#Chisholm / Prochlorococcus project\n",
    "##Use Python and its various libraries to link the KEGG compound information with pathways\n",
    "###KLongnecker, 4/17/2017"
   ]
  },
  {
   "cell_type": "code",
   "execution_count": 8,
   "metadata": {
    "collapsed": false
   },
   "outputs": [],
   "source": [
    "import pandas as pd\n",
    "import numpy as np\n",
    "import re\n",
    "import os\n",
    "import glob\n",
    "\n",
    "import palettable as pal\n",
    "import matplotlib.pyplot as plt\n",
    "import matplotlib as mpl \n",
    "mpl.rcParams['pdf.fonttype'] = 42\n",
    "\n",
    "from Bio import SeqIO\n",
    "from Bio.KEGG.REST import *\n",
    "from Bio.KEGG.KGML import KGML_parser\n",
    "from Bio.Graphics.KGML_vis import KGMLCanvas\n",
    "from IPython.display import Image, HTML\n",
    "\n",
    "#used this to step into the function and debug it, also need line with Tracer()() \n",
    "from IPython.core.debugger import Tracer \n",
    "#os._exit(1) #this should get me out of the debugging...\n",
    "\n",
    "%matplotlib inline"
   ]
  },
  {
   "cell_type": "code",
   "execution_count": 9,
   "metadata": {
    "collapsed": true
   },
   "outputs": [],
   "source": [
    "mtabFile = 'ChisholmPro_KEGGexport.2017.04.17.csv' #first column is KEGG C number"
   ]
  },
  {
   "cell_type": "code",
   "execution_count": 10,
   "metadata": {
    "collapsed": false
   },
   "outputs": [],
   "source": [
    "mtabData=pd.read_csv(mtabFile, index_col='KEGG')"
   ]
  },
  {
   "cell_type": "code",
   "execution_count": 11,
   "metadata": {
    "collapsed": false
   },
   "outputs": [
    {
     "data": {
      "text/html": [
       "<div>\n",
       "<table border=\"1\" class=\"dataframe\">\n",
       "  <thead>\n",
       "    <tr style=\"text-align: right;\">\n",
       "      <th></th>\n",
       "      <th>Plimited_extracellular_s9301ax_50</th>\n",
       "      <th>Plimited_filter_s9301ax_50</th>\n",
       "      <th>replete_extracellular_s9301ax_10</th>\n",
       "      <th>replete_extracellular_s9301ax_50</th>\n",
       "      <th>replete_extracellular_s0801ax_10</th>\n",
       "      <th>replete_extracellular_s9313ax_5</th>\n",
       "      <th>replete_extracellular_s9313ax_10</th>\n",
       "      <th>replete_filter_s9301ax_10</th>\n",
       "      <th>replete_filter_s9301ax_50</th>\n",
       "      <th>replete_filter_s0801ax_10</th>\n",
       "      <th>replete_filter_s9313ax_5</th>\n",
       "      <th>replete_filter_s9313ax_10</th>\n",
       "    </tr>\n",
       "    <tr>\n",
       "      <th>KEGG</th>\n",
       "      <th></th>\n",
       "      <th></th>\n",
       "      <th></th>\n",
       "      <th></th>\n",
       "      <th></th>\n",
       "      <th></th>\n",
       "      <th></th>\n",
       "      <th></th>\n",
       "      <th></th>\n",
       "      <th></th>\n",
       "      <th></th>\n",
       "      <th></th>\n",
       "    </tr>\n",
       "  </thead>\n",
       "  <tbody>\n",
       "    <tr>\n",
       "      <th>C00196</th>\n",
       "      <td>0.000000</td>\n",
       "      <td>0.0</td>\n",
       "      <td>0.000000</td>\n",
       "      <td>0.000000</td>\n",
       "      <td>0.000000</td>\n",
       "      <td>0.000000</td>\n",
       "      <td>0.000000</td>\n",
       "      <td>0.000000</td>\n",
       "      <td>0.000000</td>\n",
       "      <td>0.000000</td>\n",
       "      <td>0.00000</td>\n",
       "      <td>0.000000</td>\n",
       "    </tr>\n",
       "    <tr>\n",
       "      <th>C19675</th>\n",
       "      <td>59.673373</td>\n",
       "      <td>0.0</td>\n",
       "      <td>541.630502</td>\n",
       "      <td>0.000000</td>\n",
       "      <td>399.057861</td>\n",
       "      <td>0.000000</td>\n",
       "      <td>0.000000</td>\n",
       "      <td>0.000000</td>\n",
       "      <td>0.000000</td>\n",
       "      <td>0.000000</td>\n",
       "      <td>0.00000</td>\n",
       "      <td>0.000000</td>\n",
       "    </tr>\n",
       "    <tr>\n",
       "      <th>C08276</th>\n",
       "      <td>0.000000</td>\n",
       "      <td>0.0</td>\n",
       "      <td>0.000000</td>\n",
       "      <td>0.000000</td>\n",
       "      <td>0.000000</td>\n",
       "      <td>0.000000</td>\n",
       "      <td>0.000000</td>\n",
       "      <td>0.000000</td>\n",
       "      <td>0.000000</td>\n",
       "      <td>0.000000</td>\n",
       "      <td>0.00000</td>\n",
       "      <td>0.000000</td>\n",
       "    </tr>\n",
       "    <tr>\n",
       "      <th>C00141</th>\n",
       "      <td>8169.547758</td>\n",
       "      <td>0.0</td>\n",
       "      <td>16449.808476</td>\n",
       "      <td>24651.926818</td>\n",
       "      <td>223.180717</td>\n",
       "      <td>100228.888379</td>\n",
       "      <td>116396.989909</td>\n",
       "      <td>0.000000</td>\n",
       "      <td>0.000000</td>\n",
       "      <td>0.000000</td>\n",
       "      <td>0.00000</td>\n",
       "      <td>0.000000</td>\n",
       "    </tr>\n",
       "    <tr>\n",
       "      <th>C00671</th>\n",
       "      <td>0.000000</td>\n",
       "      <td>0.0</td>\n",
       "      <td>5910.269185</td>\n",
       "      <td>13236.046283</td>\n",
       "      <td>0.000000</td>\n",
       "      <td>20150.069568</td>\n",
       "      <td>26468.359973</td>\n",
       "      <td>316.366725</td>\n",
       "      <td>303.627647</td>\n",
       "      <td>272.686725</td>\n",
       "      <td>19.57057</td>\n",
       "      <td>395.492424</td>\n",
       "    </tr>\n",
       "  </tbody>\n",
       "</table>\n",
       "</div>"
      ],
      "text/plain": [
       "        Plimited_extracellular_s9301ax_50  Plimited_filter_s9301ax_50  \\\n",
       "KEGG                                                                    \n",
       "C00196                           0.000000                         0.0   \n",
       "C19675                          59.673373                         0.0   \n",
       "C08276                           0.000000                         0.0   \n",
       "C00141                        8169.547758                         0.0   \n",
       "C00671                           0.000000                         0.0   \n",
       "\n",
       "        replete_extracellular_s9301ax_10  replete_extracellular_s9301ax_50  \\\n",
       "KEGG                                                                         \n",
       "C00196                          0.000000                          0.000000   \n",
       "C19675                        541.630502                          0.000000   \n",
       "C08276                          0.000000                          0.000000   \n",
       "C00141                      16449.808476                      24651.926818   \n",
       "C00671                       5910.269185                      13236.046283   \n",
       "\n",
       "        replete_extracellular_s0801ax_10  replete_extracellular_s9313ax_5  \\\n",
       "KEGG                                                                        \n",
       "C00196                          0.000000                         0.000000   \n",
       "C19675                        399.057861                         0.000000   \n",
       "C08276                          0.000000                         0.000000   \n",
       "C00141                        223.180717                    100228.888379   \n",
       "C00671                          0.000000                     20150.069568   \n",
       "\n",
       "        replete_extracellular_s9313ax_10  replete_filter_s9301ax_10  \\\n",
       "KEGG                                                                  \n",
       "C00196                          0.000000                   0.000000   \n",
       "C19675                          0.000000                   0.000000   \n",
       "C08276                          0.000000                   0.000000   \n",
       "C00141                     116396.989909                   0.000000   \n",
       "C00671                      26468.359973                 316.366725   \n",
       "\n",
       "        replete_filter_s9301ax_50  replete_filter_s0801ax_10  \\\n",
       "KEGG                                                           \n",
       "C00196                   0.000000                   0.000000   \n",
       "C19675                   0.000000                   0.000000   \n",
       "C08276                   0.000000                   0.000000   \n",
       "C00141                   0.000000                   0.000000   \n",
       "C00671                 303.627647                 272.686725   \n",
       "\n",
       "        replete_filter_s9313ax_5  replete_filter_s9313ax_10  \n",
       "KEGG                                                         \n",
       "C00196                   0.00000                   0.000000  \n",
       "C19675                   0.00000                   0.000000  \n",
       "C08276                   0.00000                   0.000000  \n",
       "C00141                   0.00000                   0.000000  \n",
       "C00671                  19.57057                 395.492424  "
      ]
     },
     "execution_count": 11,
     "metadata": {},
     "output_type": "execute_result"
    }
   ],
   "source": [
    "mtabData.head()"
   ]
  },
  {
   "cell_type": "code",
   "execution_count": 12,
   "metadata": {
    "collapsed": true
   },
   "outputs": [],
   "source": [
    "#Picking code out of the NB project"
   ]
  },
  {
   "cell_type": "code",
   "execution_count": 13,
   "metadata": {
    "collapsed": false
   },
   "outputs": [
    {
     "data": {
      "text/plain": [
       "513"
      ]
     },
     "execution_count": 13,
     "metadata": {},
     "output_type": "execute_result"
    }
   ],
   "source": [
    "allPathways = kegg_list(\"pathway\").read()\n",
    "len(allPathways.split('\\n'))\n",
    "#number here is the # of pathways at KEGG, up to 486 by 4/13/2016; and 513 one year later on 4/17/2017"
   ]
  },
  {
   "cell_type": "code",
   "execution_count": 14,
   "metadata": {
    "collapsed": true
   },
   "outputs": [],
   "source": [
    "trimPath = []\n",
    "current_section = None\n",
    "for line in allPathways.rstrip().split(\"\\n\"):\n",
    "    tp = line[8:13]\n",
    "    trimPath.append('ko' + tp)\n",
    "    \n",
    "#have some cases where KEGG will send back a pathway, but the pathway itself is not searchable...seems to \n",
    "#be a KEGG bug, 'ko00351' was first, then realized there are many of these,\n",
    "#did this list manually since I thought it would be short...\n",
    "toDelete = ('ko00351', 'ko01010','ko01060',  'ko01061', 'ko01062', 'ko01063', \n",
    "            'ko01064', 'ko01065', 'ko01066', 'ko01070', 'ko07011', 'ko07012', \n",
    "            'ko07013', 'ko07014', 'ko07015', 'ko07016', 'ko07017', 'ko07018', \n",
    "            'ko07019', 'ko07020', 'ko07021', 'ko07023', 'ko07024', 'ko07025', \n",
    "            'ko07026', 'ko07027', 'ko07028', 'ko07029', 'ko07030', 'ko07031', \n",
    "            'ko07032', 'ko07033', 'ko07034', 'ko07035', 'ko07036', 'ko07037', \n",
    "            'ko07038', 'ko07039', 'ko07040', 'ko07041', 'ko07042', 'ko07043', \n",
    "            'ko07044', 'ko07045', 'ko07046', 'ko07047', 'ko07048', 'ko07049', \n",
    "            'ko07050', 'ko07051', 'ko07052', 'ko07053', 'ko07054', 'ko07055', \n",
    "            'ko07056', 'ko07057', 'ko07110', 'ko07112', 'ko07114', 'ko07117', \n",
    "            'ko07211', 'ko07212', 'ko07213', 'ko07214', 'ko07215', 'ko07216', \n",
    "            'ko07217', 'ko07218', 'ko07219', 'ko07220', 'ko07221', 'ko07222', \n",
    "            'ko07223', 'ko07224', 'ko07225', 'ko07226', 'ko07227', 'ko07228', \n",
    "            'ko07229', 'ko07230', 'ko07231', 'ko07232', 'ko07233', 'ko07234', \n",
    "            'ko07235', 'ko04933')\n",
    "\n",
    "#probably a way to do this without the for loop, but this will work\n",
    "for item in toDelete:\n",
    "    trimPath.remove(item)"
   ]
  },
  {
   "cell_type": "code",
   "execution_count": 15,
   "metadata": {
    "collapsed": false
   },
   "outputs": [],
   "source": [
    "#setup some functions"
   ]
  },
  {
   "cell_type": "code",
   "execution_count": 16,
   "metadata": {
    "collapsed": true
   },
   "outputs": [],
   "source": [
    "#set up a function to get the list of compounds for a given pathway (must be defined as ko00140 NOT map00140)\n",
    "def getCfrom_ko(ko_id):\n",
    "    pathway_file = kegg_get(ko_id).read()  # query and read the pathway\n",
    "    compound_list = []\n",
    "\n",
    "    current_section = None\n",
    "    for line in pathway_file.rstrip().split(\"\\n\"):\n",
    "        section = line[:12].strip()  # section names are within 12 columns\n",
    "        if not section == \"\":\n",
    "            current_section = section\n",
    "        if current_section == \"COMPOUND\":\n",
    "            compound_identifiers = line[12:].split(\"; \")\n",
    "            t = compound_identifiers[0]\n",
    "            compound_id = t[0:6]\n",
    "\n",
    "            if not compound_id in compound_list:\n",
    "                compound_list.append(compound_id)\n",
    "    return compound_list"
   ]
  },
  {
   "cell_type": "code",
   "execution_count": 17,
   "metadata": {
    "collapsed": true
   },
   "outputs": [],
   "source": [
    "#set up a function to get the list of K orthologues for a given pathway (must be defined as ko00140 NOT map00140)\n",
    "#for this project: can use the three digit code for the different Prochlorococcus strains\n",
    "def getKfrom_ko(ko_id):\n",
    "    pathway_file = kegg_get(ko_id).read()  # query and read the pathway\n",
    "    K_list = []\n",
    "\n",
    "    current_section = None\n",
    "    for line in pathway_file.rstrip().split(\"\\n\"):\n",
    "        section = line[:12].strip()  # section names are within 12 columns\n",
    "        if not section == \"\":\n",
    "            current_section = section\n",
    "        if current_section == \"ORTHOLOGY\":\n",
    "            K_identifiers = line[12:].split(\"; \")\n",
    "            t = K_identifiers[0]\n",
    "            K_id = t[0:6]\n",
    "\n",
    "            if not K_id in K_list:\n",
    "                K_list.append(K_id)\n",
    "    return K_list"
   ]
  },
  {
   "cell_type": "code",
   "execution_count": 18,
   "metadata": {
    "collapsed": false
   },
   "outputs": [],
   "source": [
    "# A bit of code that will help us display the PDF output\n",
    "def PDF(filename):\n",
    "    return HTML('<iframe src=%s width=700 height=350></iframe>' % filename)"
   ]
  },
  {
   "cell_type": "code",
   "execution_count": 19,
   "metadata": {
    "collapsed": false
   },
   "outputs": [],
   "source": [
    "## A bit of helper code to shorten long text\n",
    "#def head(text, lines=10):\n",
    "#    \"\"\" Print the first lines lines of the passed text.\n",
    "#    \"\"\"\n",
    "#    print '\\n'.join(text.split('\\n')[:lines] + ['[...]'])"
   ]
  },
  {
   "cell_type": "code",
   "execution_count": null,
   "metadata": {
    "collapsed": true
   },
   "outputs": [],
   "source": []
  },
  {
   "cell_type": "code",
   "execution_count": 20,
   "metadata": {
    "collapsed": false
   },
   "outputs": [],
   "source": [
    "out = getKfrom_ko('pmg00230')"
   ]
  },
  {
   "cell_type": "code",
   "execution_count": 21,
   "metadata": {
    "collapsed": false
   },
   "outputs": [],
   "source": [
    "item = 'pmg00230'"
   ]
  },
  {
   "cell_type": "code",
   "execution_count": 22,
   "metadata": {
    "collapsed": true
   },
   "outputs": [],
   "source": [
    "useColors = pal.colorbrewer.qualitative.Set1_4.hex_colors"
   ]
  },
  {
   "cell_type": "code",
   "execution_count": 23,
   "metadata": {
    "collapsed": false
   },
   "outputs": [],
   "source": [
    "pathway = KGML_parser.read(kegg_get(item, \"kgml\"))"
   ]
  },
  {
   "cell_type": "code",
   "execution_count": 24,
   "metadata": {
    "collapsed": false
   },
   "outputs": [
    {
     "data": {
      "text/plain": [
       "<Bio.KEGG.KGML.KGML_pathway.Pathway at 0xaf6dd68>"
      ]
     },
     "execution_count": 24,
     "metadata": {},
     "output_type": "execute_result"
    }
   ],
   "source": [
    "pathway"
   ]
  },
  {
   "cell_type": "code",
   "execution_count": 25,
   "metadata": {
    "collapsed": false
   },
   "outputs": [
    {
     "data": {
      "text/html": [
       "<iframe src=mapWithColors_pmg00230.pdf width=700 height=350></iframe>"
      ],
      "text/plain": [
       "<IPython.core.display.HTML object>"
      ]
     },
     "execution_count": 25,
     "metadata": {},
     "output_type": "execute_result"
    }
   ],
   "source": [
    "canvas = KGMLCanvas(pathway, import_imagemap=True)\n",
    "pdfName = 'mapWithColors_' + str(item) + '.pdf'\n",
    "#canvas.draw(directoryPDF + '/' + pdfName)\n",
    "canvas.draw(pdfName)\n",
    "PDF(pdfName)"
   ]
  },
  {
   "cell_type": "code",
   "execution_count": 43,
   "metadata": {
    "collapsed": false
   },
   "outputs": [
    {
     "data": {
      "text/plain": [
       "<module 'fxn_plotPathway' from 'C:\\\\Users\\\\krista\\\\Documents\\\\GitHub\\\\Chisholm_Pro\\\\fxn_plotPathway.py'>"
      ]
     },
     "execution_count": 43,
     "metadata": {},
     "output_type": "execute_result"
    }
   ],
   "source": [
    "# import fxn_plotPathway\n",
    "##if I make a change, have to reload the function:\n",
    "from imp import reload\n",
    "reload(fxn_plotPathway)"
   ]
  },
  {
   "cell_type": "code",
   "execution_count": null,
   "metadata": {
    "collapsed": true
   },
   "outputs": [],
   "source": []
  },
  {
   "cell_type": "code",
   "execution_count": 27,
   "metadata": {
    "collapsed": false
   },
   "outputs": [
    {
     "data": {
      "text/plain": [
       "'pmg00230'"
      ]
     },
     "execution_count": 27,
     "metadata": {},
     "output_type": "execute_result"
    }
   ],
   "source": [
    "item"
   ]
  },
  {
   "cell_type": "code",
   "execution_count": 72,
   "metadata": {
    "collapsed": true
   },
   "outputs": [],
   "source": [
    "#need the KEGG numbers from mtabData (the index)"
   ]
  },
  {
   "cell_type": "code",
   "execution_count": 29,
   "metadata": {
    "collapsed": false
   },
   "outputs": [
    {
     "data": {
      "text/plain": [
       "Index(['C00196', 'C19675', 'C08276', 'C00141', 'C00671', 'C00568', 'C00156',\n",
       "       'C00233', 'C00170', '0', 'C00352', 'C04022', 'C00334', 'C01279',\n",
       "       'C00004', 'C00134', '0', 'C00147', 'C00212', 'C00020', 'C00026',\n",
       "       'C00062', 'C00049', 'C00719', 'C00120', 'C07481', 'C01674', '0',\n",
       "       'C00114', 'C03557', 'C00158', 'C00327', 'C08230', 'C00380', 'C01909',\n",
       "       'C00111', 'C06231', 'C00504', 'C06454', 'C00122', 'C00092', 'C00025',\n",
       "       'C00064', 'C01705', 'C00242', 'C00387', '0', 'C00954', 'C00294',\n",
       "       'C00130', 'C00407', 'C00097', 'C00051', 'C00328', 'C00123', '0',\n",
       "       'C00149', 'C00073', 'C06470', 'C00140', 'C00624', 'C02713', 'C00077',\n",
       "       'C00295', 'C00864', 'C00079', 'C00074', 'C05786', 'C00148', 'C00314',\n",
       "       'C00255', '0', 'C00019', 'C00019', 'C00213', 'C00065', 'C00093',\n",
       "       'C05122', '0', 'C00042', 'C10833', 'C00245', 'C00378', 'C01081',\n",
       "       'C00188', 'C00214', 'C00398', 'C00078', 'C00106', 'C00105', 'C00183',\n",
       "       'C00385', 'C01762'],\n",
       "      dtype='object', name='KEGG')"
      ]
     },
     "execution_count": 29,
     "metadata": {},
     "output_type": "execute_result"
    }
   ],
   "source": [
    "mtabData.index"
   ]
  },
  {
   "cell_type": "code",
   "execution_count": 30,
   "metadata": {
    "collapsed": true
   },
   "outputs": [],
   "source": [
    "#need to delete the zeros for now..."
   ]
  },
  {
   "cell_type": "code",
   "execution_count": 31,
   "metadata": {
    "collapsed": true
   },
   "outputs": [],
   "source": [
    "mtabPruned = mtabData.drop(['0'])"
   ]
  },
  {
   "cell_type": "code",
   "execution_count": 32,
   "metadata": {
    "collapsed": false
   },
   "outputs": [
    {
     "data": {
      "text/plain": [
       "Index(['C00196', 'C19675', 'C08276', 'C00141', 'C00671', 'C00568', 'C00156',\n",
       "       'C00233', 'C00170', 'C00352', 'C04022', 'C00334', 'C01279', 'C00004',\n",
       "       'C00134', 'C00147', 'C00212', 'C00020', 'C00026', 'C00062', 'C00049',\n",
       "       'C00719', 'C00120', 'C07481', 'C01674', 'C00114', 'C03557', 'C00158',\n",
       "       'C00327', 'C08230', 'C00380', 'C01909', 'C00111', 'C06231', 'C00504',\n",
       "       'C06454', 'C00122', 'C00092', 'C00025', 'C00064', 'C01705', 'C00242',\n",
       "       'C00387', 'C00954', 'C00294', 'C00130', 'C00407', 'C00097', 'C00051',\n",
       "       'C00328', 'C00123', 'C00149', 'C00073', 'C06470', 'C00140', 'C00624',\n",
       "       'C02713', 'C00077', 'C00295', 'C00864', 'C00079', 'C00074', 'C05786',\n",
       "       'C00148', 'C00314', 'C00255', 'C00019', 'C00019', 'C00213', 'C00065',\n",
       "       'C00093', 'C05122', 'C00042', 'C10833', 'C00245', 'C00378', 'C01081',\n",
       "       'C00188', 'C00214', 'C00398', 'C00078', 'C00106', 'C00105', 'C00183',\n",
       "       'C00385', 'C01762'],\n",
       "      dtype='object', name='KEGG')"
      ]
     },
     "execution_count": 32,
     "metadata": {},
     "output_type": "execute_result"
    }
   ],
   "source": [
    "mtabPruned.index"
   ]
  },
  {
   "cell_type": "code",
   "execution_count": 33,
   "metadata": {
    "collapsed": true
   },
   "outputs": [],
   "source": [
    "justKEGG = mtabPruned.index"
   ]
  },
  {
   "cell_type": "code",
   "execution_count": null,
   "metadata": {
    "collapsed": true
   },
   "outputs": [],
   "source": []
  },
  {
   "cell_type": "code",
   "execution_count": 44,
   "metadata": {
    "collapsed": false
   },
   "outputs": [
    {
     "ename": "AttributeError",
     "evalue": "'str' object has no attribute 'image'",
     "output_type": "error",
     "traceback": [
      "\u001b[0;31m---------------------------------------------------------------------------\u001b[0m",
      "\u001b[0;31mAttributeError\u001b[0m                            Traceback (most recent call last)",
      "\u001b[0;32m<ipython-input-44-85198f720b99>\u001b[0m in \u001b[0;36m<module>\u001b[0;34m()\u001b[0m\n\u001b[1;32m      3\u001b[0m     \u001b[0musePathway\u001b[0m \u001b[1;33m=\u001b[0m \u001b[0mitem\u001b[0m\u001b[1;33m\u001b[0m\u001b[0m\n\u001b[1;32m      4\u001b[0m     \u001b[0museCO\u001b[0m \u001b[1;33m=\u001b[0m \u001b[0mmtabPruned\u001b[0m\u001b[1;33m.\u001b[0m\u001b[0mindex\u001b[0m\u001b[1;33m\u001b[0m\u001b[0m\n\u001b[0;32m----> 5\u001b[0;31m     \u001b[0mgc_regular\u001b[0m \u001b[1;33m=\u001b[0m \u001b[0mfxn_plotPathway\u001b[0m\u001b[1;33m.\u001b[0m\u001b[0mgatherDetails\u001b[0m\u001b[1;33m(\u001b[0m\u001b[0musePathway\u001b[0m\u001b[1;33m,\u001b[0m\u001b[0mfolder\u001b[0m\u001b[1;33m,\u001b[0m\u001b[0museCO\u001b[0m\u001b[1;33m,\u001b[0m\u001b[0mjustKEGG\u001b[0m\u001b[1;33m)\u001b[0m\u001b[1;33m\u001b[0m\u001b[0m\n\u001b[0m",
      "\u001b[0;32mC:\\Users\\krista\\Documents\\GitHub\\Chisholm_Pro\\fxn_plotPathway.py\u001b[0m in \u001b[0;36mgatherDetails\u001b[0;34m(usePathway, folderName, CO_fromTSQ, CO_values)\u001b[0m\n\u001b[1;32m     61\u001b[0m     \u001b[0mcanvas\u001b[0m \u001b[1;33m=\u001b[0m \u001b[0mKGMLCanvas\u001b[0m\u001b[1;33m(\u001b[0m\u001b[0musePathway\u001b[0m\u001b[1;33m,\u001b[0m \u001b[0mimport_imagemap\u001b[0m\u001b[1;33m=\u001b[0m\u001b[1;32mTrue\u001b[0m\u001b[1;33m)\u001b[0m\u001b[1;33m\u001b[0m\u001b[0m\n\u001b[1;32m     62\u001b[0m     \u001b[0mpdfName\u001b[0m \u001b[1;33m=\u001b[0m \u001b[1;34m'mapWithColors_'\u001b[0m \u001b[1;33m+\u001b[0m \u001b[0mstr\u001b[0m\u001b[1;33m(\u001b[0m\u001b[0musePathway\u001b[0m\u001b[1;33m)\u001b[0m \u001b[1;33m+\u001b[0m \u001b[1;34m'.pdf'\u001b[0m\u001b[1;33m\u001b[0m\u001b[0m\n\u001b[0;32m---> 63\u001b[0;31m     \u001b[0mcanvas\u001b[0m\u001b[1;33m.\u001b[0m\u001b[0mdraw\u001b[0m\u001b[1;33m(\u001b[0m\u001b[0mfolderName\u001b[0m \u001b[1;33m+\u001b[0m \u001b[1;34m'/'\u001b[0m \u001b[1;33m+\u001b[0m \u001b[0mpdfName\u001b[0m\u001b[1;33m)\u001b[0m\u001b[1;33m\u001b[0m\u001b[0m\n\u001b[0m\u001b[1;32m     64\u001b[0m     \u001b[0mpdfName\u001b[0m \u001b[1;33m=\u001b[0m \u001b[1;32mNone\u001b[0m \u001b[1;31m#empty it in case that is where I am having issues\u001b[0m\u001b[1;33m\u001b[0m\u001b[0m\n\u001b[1;32m     65\u001b[0m \u001b[1;33m\u001b[0m\u001b[0m\n",
      "\u001b[0;32mC:\\Program Files\\Anaconda3\\lib\\site-packages\\Bio\\Graphics\\KGML_vis.py\u001b[0m in \u001b[0;36mdraw\u001b[0;34m(self, filename)\u001b[0m\n\u001b[1;32m    114\u001b[0m             \u001b[1;31m# We're drawing directly on the image, so we set the canvas to the\u001b[0m\u001b[1;33m\u001b[0m\u001b[1;33m\u001b[0m\u001b[0m\n\u001b[1;32m    115\u001b[0m             \u001b[1;31m# same size as the image\u001b[0m\u001b[1;33m\u001b[0m\u001b[1;33m\u001b[0m\u001b[0m\n\u001b[0;32m--> 116\u001b[0;31m             \u001b[1;32mif\u001b[0m \u001b[0mos\u001b[0m\u001b[1;33m.\u001b[0m\u001b[0mpath\u001b[0m\u001b[1;33m.\u001b[0m\u001b[0misfile\u001b[0m\u001b[1;33m(\u001b[0m\u001b[0mself\u001b[0m\u001b[1;33m.\u001b[0m\u001b[0mpathway\u001b[0m\u001b[1;33m.\u001b[0m\u001b[0mimage\u001b[0m\u001b[1;33m)\u001b[0m\u001b[1;33m:\u001b[0m\u001b[1;33m\u001b[0m\u001b[0m\n\u001b[0m\u001b[1;32m    117\u001b[0m                 \u001b[0mimfilename\u001b[0m \u001b[1;33m=\u001b[0m \u001b[0mself\u001b[0m\u001b[1;33m.\u001b[0m\u001b[0mpathway\u001b[0m\u001b[1;33m.\u001b[0m\u001b[0mimage\u001b[0m\u001b[1;33m\u001b[0m\u001b[0m\n\u001b[1;32m    118\u001b[0m             \u001b[1;32melse\u001b[0m\u001b[1;33m:\u001b[0m\u001b[1;33m\u001b[0m\u001b[0m\n",
      "\u001b[0;31mAttributeError\u001b[0m: 'str' object has no attribute 'image'"
     ]
    }
   ],
   "source": [
    "if True: \n",
    "    folder = 'pathway_plots'\n",
    "    usePathway = item\n",
    "    useCO = mtabPruned.index\n",
    "    gc_regular = fxn_plotPathway.gatherDetails(usePathway,folder,useCO,justKEGG)"
   ]
  },
  {
   "cell_type": "code",
   "execution_count": 7,
   "metadata": {
    "collapsed": false
   },
   "outputs": [
    {
     "ename": "NameError",
     "evalue": "name 'item' is not defined",
     "output_type": "error",
     "traceback": [
      "\u001b[0;31m---------------------------------------------------------------------------\u001b[0m",
      "\u001b[0;31mNameError\u001b[0m                                 Traceback (most recent call last)",
      "\u001b[0;32m<ipython-input-7-de0121a27337>\u001b[0m in \u001b[0;36m<module>\u001b[0;34m()\u001b[0m\n\u001b[0;32m----> 1\u001b[0;31m \u001b[0mitem\u001b[0m\u001b[1;33m\u001b[0m\u001b[0m\n\u001b[0m",
      "\u001b[0;31mNameError\u001b[0m: name 'item' is not defined"
     ]
    }
   ],
   "source": [
    "item"
   ]
  },
  {
   "cell_type": "code",
   "execution_count": null,
   "metadata": {
    "collapsed": true
   },
   "outputs": [],
   "source": []
  },
  {
   "cell_type": "code",
   "execution_count": null,
   "metadata": {
    "collapsed": true
   },
   "outputs": [],
   "source": []
  },
  {
   "cell_type": "code",
   "execution_count": 70,
   "metadata": {
    "collapsed": true
   },
   "outputs": [],
   "source": [
    "#only one pathway at a time\n",
    "usePathway = item\n",
    "genes = getKfrom_ko(item)\n",
    "compounds = getCfrom_ko(item)"
   ]
  },
  {
   "cell_type": "code",
   "execution_count": null,
   "metadata": {
    "collapsed": true
   },
   "outputs": [],
   "source": []
  },
  {
   "cell_type": "code",
   "execution_count": 87,
   "metadata": {
    "collapsed": false
   },
   "outputs": [],
   "source": [
    "#have to track genes and compounds differently for the biopython plotting later on \n",
    "setG = set(genes)\n",
    "setC = set(compounds)\n",
    "setT = set(justKEGG)\n",
    "#figure out which compounds are in the TSQ data...\n",
    "intCompounds = setC.intersection(setT)"
   ]
  },
  {
   "cell_type": "code",
   "execution_count": 88,
   "metadata": {
    "collapsed": false
   },
   "outputs": [
    {
     "data": {
      "text/plain": [
       "{'C00020',\n",
       " 'C00064',\n",
       " 'C00130',\n",
       " 'C00147',\n",
       " 'C00212',\n",
       " 'C00242',\n",
       " 'C00294',\n",
       " 'C00385',\n",
       " 'C00387',\n",
       " 'C01762'}"
      ]
     },
     "execution_count": 88,
     "metadata": {},
     "output_type": "execute_result"
    }
   ],
   "source": [
    "intCompounds"
   ]
  },
  {
   "cell_type": "code",
   "execution_count": 90,
   "metadata": {
    "collapsed": false
   },
   "outputs": [
    {
     "data": {
      "text/html": [
       "<div>\n",
       "<table border=\"1\" class=\"dataframe\">\n",
       "  <thead>\n",
       "    <tr style=\"text-align: right;\">\n",
       "      <th></th>\n",
       "      <th>Plimited_extracellular_s9301ax_50</th>\n",
       "      <th>Plimited_filter_s9301ax_50</th>\n",
       "      <th>replete_extracellular_s9301ax_10</th>\n",
       "      <th>replete_extracellular_s9301ax_50</th>\n",
       "      <th>replete_extracellular_s0801ax_10</th>\n",
       "      <th>replete_extracellular_s9313ax_5</th>\n",
       "      <th>replete_extracellular_s9313ax_10</th>\n",
       "      <th>replete_filter_s9301ax_10</th>\n",
       "      <th>replete_filter_s9301ax_50</th>\n",
       "      <th>replete_filter_s0801ax_10</th>\n",
       "      <th>replete_filter_s9313ax_5</th>\n",
       "      <th>replete_filter_s9313ax_10</th>\n",
       "    </tr>\n",
       "    <tr>\n",
       "      <th>KEGG</th>\n",
       "      <th></th>\n",
       "      <th></th>\n",
       "      <th></th>\n",
       "      <th></th>\n",
       "      <th></th>\n",
       "      <th></th>\n",
       "      <th></th>\n",
       "      <th></th>\n",
       "      <th></th>\n",
       "      <th></th>\n",
       "      <th></th>\n",
       "      <th></th>\n",
       "    </tr>\n",
       "  </thead>\n",
       "  <tbody>\n",
       "    <tr>\n",
       "      <th>C00196</th>\n",
       "      <td>0.000000</td>\n",
       "      <td>0.0</td>\n",
       "      <td>0.000000</td>\n",
       "      <td>0.000000</td>\n",
       "      <td>0.000000</td>\n",
       "      <td>0.000000</td>\n",
       "      <td>0.000000</td>\n",
       "      <td>0.000000</td>\n",
       "      <td>0.000000</td>\n",
       "      <td>0.000000</td>\n",
       "      <td>0.00000</td>\n",
       "      <td>0.000000</td>\n",
       "    </tr>\n",
       "    <tr>\n",
       "      <th>C19675</th>\n",
       "      <td>59.673373</td>\n",
       "      <td>0.0</td>\n",
       "      <td>541.630502</td>\n",
       "      <td>0.000000</td>\n",
       "      <td>399.057861</td>\n",
       "      <td>0.000000</td>\n",
       "      <td>0.000000</td>\n",
       "      <td>0.000000</td>\n",
       "      <td>0.000000</td>\n",
       "      <td>0.000000</td>\n",
       "      <td>0.00000</td>\n",
       "      <td>0.000000</td>\n",
       "    </tr>\n",
       "    <tr>\n",
       "      <th>C08276</th>\n",
       "      <td>0.000000</td>\n",
       "      <td>0.0</td>\n",
       "      <td>0.000000</td>\n",
       "      <td>0.000000</td>\n",
       "      <td>0.000000</td>\n",
       "      <td>0.000000</td>\n",
       "      <td>0.000000</td>\n",
       "      <td>0.000000</td>\n",
       "      <td>0.000000</td>\n",
       "      <td>0.000000</td>\n",
       "      <td>0.00000</td>\n",
       "      <td>0.000000</td>\n",
       "    </tr>\n",
       "    <tr>\n",
       "      <th>C00141</th>\n",
       "      <td>8169.547758</td>\n",
       "      <td>0.0</td>\n",
       "      <td>16449.808476</td>\n",
       "      <td>24651.926818</td>\n",
       "      <td>223.180717</td>\n",
       "      <td>100228.888379</td>\n",
       "      <td>116396.989909</td>\n",
       "      <td>0.000000</td>\n",
       "      <td>0.000000</td>\n",
       "      <td>0.000000</td>\n",
       "      <td>0.00000</td>\n",
       "      <td>0.000000</td>\n",
       "    </tr>\n",
       "    <tr>\n",
       "      <th>C00671</th>\n",
       "      <td>0.000000</td>\n",
       "      <td>0.0</td>\n",
       "      <td>5910.269185</td>\n",
       "      <td>13236.046283</td>\n",
       "      <td>0.000000</td>\n",
       "      <td>20150.069568</td>\n",
       "      <td>26468.359973</td>\n",
       "      <td>316.366725</td>\n",
       "      <td>303.627647</td>\n",
       "      <td>272.686725</td>\n",
       "      <td>19.57057</td>\n",
       "      <td>395.492424</td>\n",
       "    </tr>\n",
       "  </tbody>\n",
       "</table>\n",
       "</div>"
      ],
      "text/plain": [
       "        Plimited_extracellular_s9301ax_50  Plimited_filter_s9301ax_50  \\\n",
       "KEGG                                                                    \n",
       "C00196                           0.000000                         0.0   \n",
       "C19675                          59.673373                         0.0   \n",
       "C08276                           0.000000                         0.0   \n",
       "C00141                        8169.547758                         0.0   \n",
       "C00671                           0.000000                         0.0   \n",
       "\n",
       "        replete_extracellular_s9301ax_10  replete_extracellular_s9301ax_50  \\\n",
       "KEGG                                                                         \n",
       "C00196                          0.000000                          0.000000   \n",
       "C19675                        541.630502                          0.000000   \n",
       "C08276                          0.000000                          0.000000   \n",
       "C00141                      16449.808476                      24651.926818   \n",
       "C00671                       5910.269185                      13236.046283   \n",
       "\n",
       "        replete_extracellular_s0801ax_10  replete_extracellular_s9313ax_5  \\\n",
       "KEGG                                                                        \n",
       "C00196                          0.000000                         0.000000   \n",
       "C19675                        399.057861                         0.000000   \n",
       "C08276                          0.000000                         0.000000   \n",
       "C00141                        223.180717                    100228.888379   \n",
       "C00671                          0.000000                     20150.069568   \n",
       "\n",
       "        replete_extracellular_s9313ax_10  replete_filter_s9301ax_10  \\\n",
       "KEGG                                                                  \n",
       "C00196                          0.000000                   0.000000   \n",
       "C19675                          0.000000                   0.000000   \n",
       "C08276                          0.000000                   0.000000   \n",
       "C00141                     116396.989909                   0.000000   \n",
       "C00671                      26468.359973                 316.366725   \n",
       "\n",
       "        replete_filter_s9301ax_50  replete_filter_s0801ax_10  \\\n",
       "KEGG                                                           \n",
       "C00196                   0.000000                   0.000000   \n",
       "C19675                   0.000000                   0.000000   \n",
       "C08276                   0.000000                   0.000000   \n",
       "C00141                   0.000000                   0.000000   \n",
       "C00671                 303.627647                 272.686725   \n",
       "\n",
       "        replete_filter_s9313ax_5  replete_filter_s9313ax_10  \n",
       "KEGG                                                         \n",
       "C00196                   0.00000                   0.000000  \n",
       "C19675                   0.00000                   0.000000  \n",
       "C08276                   0.00000                   0.000000  \n",
       "C00141                   0.00000                   0.000000  \n",
       "C00671                  19.57057                 395.492424  "
      ]
     },
     "execution_count": 90,
     "metadata": {},
     "output_type": "execute_result"
    }
   ],
   "source": [
    "mtabPruned.head()\n"
   ]
  },
  {
   "cell_type": "code",
   "execution_count": 92,
   "metadata": {
    "collapsed": false
   },
   "outputs": [],
   "source": [
    "CO_values = mtabPruned.loc[:,'Plimited_extracellular_s9301ax_50']"
   ]
  },
  {
   "cell_type": "code",
   "execution_count": 93,
   "metadata": {
    "collapsed": false
   },
   "outputs": [
    {
     "data": {
      "text/plain": [
       "KEGG\n",
       "C00196       0.000000\n",
       "C19675      59.673373\n",
       "C08276       0.000000\n",
       "C00141    8169.547758\n",
       "C00671       0.000000\n",
       "Name: Plimited_extracellular_s9301ax_50, dtype: float64"
      ]
     },
     "execution_count": 93,
     "metadata": {},
     "output_type": "execute_result"
    }
   ],
   "source": [
    "CO_values.head()"
   ]
  },
  {
   "cell_type": "code",
   "execution_count": 94,
   "metadata": {
    "collapsed": true
   },
   "outputs": [],
   "source": [
    "pathway = KGML_parser.read(kegg_get(usePathway, \"kgml\"))"
   ]
  },
  {
   "cell_type": "code",
   "execution_count": null,
   "metadata": {
    "collapsed": false
   },
   "outputs": [
    {
     "name": "stdout",
     "output_type": "stream",
     "text": [
      "> \u001b[0;32m<ipython-input-99-deb057f9476f>\u001b[0m(3)\u001b[0;36m<module>\u001b[0;34m()\u001b[0m\n",
      "\u001b[0;32m      1 \u001b[0;31m\u001b[1;32mfor\u001b[0m \u001b[0melement\u001b[0m \u001b[1;32min\u001b[0m \u001b[0mpathway\u001b[0m\u001b[1;33m.\u001b[0m\u001b[0morthologs\u001b[0m\u001b[1;33m:\u001b[0m\u001b[1;33m\u001b[0m\u001b[0m\n",
      "\u001b[0m\u001b[0;32m      2 \u001b[0;31m    \u001b[0mTracer\u001b[0m\u001b[1;33m(\u001b[0m\u001b[1;33m)\u001b[0m\u001b[1;33m(\u001b[0m\u001b[1;33m)\u001b[0m\u001b[1;33m\u001b[0m\u001b[0m\n",
      "\u001b[0m\u001b[0;32m----> 3 \u001b[0;31m    \u001b[0mprint\u001b[0m\u001b[1;33m(\u001b[0m\u001b[0melement\u001b[0m\u001b[1;33m.\u001b[0m\u001b[0mname\u001b[0m\u001b[1;33m)\u001b[0m\u001b[1;33m\u001b[0m\u001b[0m\n",
      "\u001b[0m\n",
      "ipdb> element.name\n",
      "'ko:K00106'\n",
      "ipdb> element.graphics\n",
      "[<Bio.KEGG.KGML.KGML_pathway.Graphics object at 0x000000000B075E10>]\n",
      "ipdb> element.graphics[0]\n",
      "<Bio.KEGG.KGML.KGML_pathway.Graphics object at 0x000000000B075E10>\n",
      "ipdb> tg = elemenent.name[3:9]\n",
      "*** NameError: name 'elemenent' is not defined\n",
      "ipdb> tg = element.name[3:9]\n",
      "ipdb> tg\n",
      "'K00106'\n",
      "ipdb> tg in intGenes\n",
      "*** NameError: name 'intGenes' is not defined\n",
      "ipdb> tg in setG\n",
      "False\n",
      "ipdb> graphic.bgcolor = useColors[3]\n",
      "*** NameError: name 'graphic' is not defined\n",
      "ipdb> quit\n",
      "ko:K00106\n",
      "> \u001b[0;32m<ipython-input-99-deb057f9476f>\u001b[0m(2)\u001b[0;36m<module>\u001b[0;34m()\u001b[0m\n",
      "\u001b[0;32m      1 \u001b[0;31m\u001b[1;32mfor\u001b[0m \u001b[0melement\u001b[0m \u001b[1;32min\u001b[0m \u001b[0mpathway\u001b[0m\u001b[1;33m.\u001b[0m\u001b[0morthologs\u001b[0m\u001b[1;33m:\u001b[0m\u001b[1;33m\u001b[0m\u001b[0m\n",
      "\u001b[0m\u001b[0;32m----> 2 \u001b[0;31m    \u001b[0mTracer\u001b[0m\u001b[1;33m(\u001b[0m\u001b[1;33m)\u001b[0m\u001b[1;33m(\u001b[0m\u001b[1;33m)\u001b[0m\u001b[1;33m\u001b[0m\u001b[0m\n",
      "\u001b[0m\u001b[0;32m      3 \u001b[0;31m    \u001b[0mprint\u001b[0m\u001b[1;33m(\u001b[0m\u001b[0melement\u001b[0m\u001b[1;33m.\u001b[0m\u001b[0mname\u001b[0m\u001b[1;33m)\u001b[0m\u001b[1;33m\u001b[0m\u001b[0m\n",
      "\u001b[0m\n",
      "ipdb> ecit \n",
      "*** NameError: name 'ecit' is not defined\n",
      "ipdb> quit\n",
      "ko:K14977\n",
      "> \u001b[0;32m<ipython-input-99-deb057f9476f>\u001b[0m(3)\u001b[0;36m<module>\u001b[0;34m()\u001b[0m\n",
      "\u001b[0;32m      1 \u001b[0;31m\u001b[1;32mfor\u001b[0m \u001b[0melement\u001b[0m \u001b[1;32min\u001b[0m \u001b[0mpathway\u001b[0m\u001b[1;33m.\u001b[0m\u001b[0morthologs\u001b[0m\u001b[1;33m:\u001b[0m\u001b[1;33m\u001b[0m\u001b[0m\n",
      "\u001b[0m\u001b[0;32m      2 \u001b[0;31m    \u001b[0mTracer\u001b[0m\u001b[1;33m(\u001b[0m\u001b[1;33m)\u001b[0m\u001b[1;33m(\u001b[0m\u001b[1;33m)\u001b[0m\u001b[1;33m\u001b[0m\u001b[0m\n",
      "\u001b[0m\u001b[0;32m----> 3 \u001b[0;31m    \u001b[0mprint\u001b[0m\u001b[1;33m(\u001b[0m\u001b[0melement\u001b[0m\u001b[1;33m.\u001b[0m\u001b[0mname\u001b[0m\u001b[1;33m)\u001b[0m\u001b[1;33m\u001b[0m\u001b[0m\n",
      "\u001b[0m\n",
      "ipdb> ecit\n",
      "*** NameError: name 'ecit' is not defined\n",
      "ipdb> exit\n",
      "ko:K02083\n",
      "> \u001b[0;32m<ipython-input-99-deb057f9476f>\u001b[0m(2)\u001b[0;36m<module>\u001b[0;34m()\u001b[0m\n",
      "\u001b[0;32m      1 \u001b[0;31m\u001b[1;32mfor\u001b[0m \u001b[0melement\u001b[0m \u001b[1;32min\u001b[0m \u001b[0mpathway\u001b[0m\u001b[1;33m.\u001b[0m\u001b[0morthologs\u001b[0m\u001b[1;33m:\u001b[0m\u001b[1;33m\u001b[0m\u001b[0m\n",
      "\u001b[0m\u001b[0;32m----> 2 \u001b[0;31m    \u001b[0mTracer\u001b[0m\u001b[1;33m(\u001b[0m\u001b[1;33m)\u001b[0m\u001b[1;33m(\u001b[0m\u001b[1;33m)\u001b[0m\u001b[1;33m\u001b[0m\u001b[0m\n",
      "\u001b[0m\u001b[0;32m      3 \u001b[0;31m    \u001b[0mprint\u001b[0m\u001b[1;33m(\u001b[0m\u001b[0melement\u001b[0m\u001b[1;33m.\u001b[0m\u001b[0mname\u001b[0m\u001b[1;33m)\u001b[0m\u001b[1;33m\u001b[0m\u001b[0m\n",
      "\u001b[0m\n",
      "ipdb> exit\n",
      "ko:K01587 ko:K11808\n",
      "> \u001b[0;32m<ipython-input-99-deb057f9476f>\u001b[0m(3)\u001b[0;36m<module>\u001b[0;34m()\u001b[0m\n",
      "\u001b[0;32m      1 \u001b[0;31m\u001b[1;32mfor\u001b[0m \u001b[0melement\u001b[0m \u001b[1;32min\u001b[0m \u001b[0mpathway\u001b[0m\u001b[1;33m.\u001b[0m\u001b[0morthologs\u001b[0m\u001b[1;33m:\u001b[0m\u001b[1;33m\u001b[0m\u001b[0m\n",
      "\u001b[0m\u001b[0;32m      2 \u001b[0;31m    \u001b[0mTracer\u001b[0m\u001b[1;33m(\u001b[0m\u001b[1;33m)\u001b[0m\u001b[1;33m(\u001b[0m\u001b[1;33m)\u001b[0m\u001b[1;33m\u001b[0m\u001b[0m\n",
      "\u001b[0m\u001b[0;32m----> 3 \u001b[0;31m    \u001b[0mprint\u001b[0m\u001b[1;33m(\u001b[0m\u001b[0melement\u001b[0m\u001b[1;33m.\u001b[0m\u001b[0mname\u001b[0m\u001b[1;33m)\u001b[0m\u001b[1;33m\u001b[0m\u001b[0m\n",
      "\u001b[0m\n",
      "ipdb> exit\n",
      "ko:K11176\n",
      "> \u001b[0;32m<ipython-input-99-deb057f9476f>\u001b[0m(2)\u001b[0;36m<module>\u001b[0;34m()\u001b[0m\n",
      "\u001b[0;32m      1 \u001b[0;31m\u001b[1;32mfor\u001b[0m \u001b[0melement\u001b[0m \u001b[1;32min\u001b[0m \u001b[0mpathway\u001b[0m\u001b[1;33m.\u001b[0m\u001b[0morthologs\u001b[0m\u001b[1;33m:\u001b[0m\u001b[1;33m\u001b[0m\u001b[0m\n",
      "\u001b[0m\u001b[0;32m----> 2 \u001b[0;31m    \u001b[0mTracer\u001b[0m\u001b[1;33m(\u001b[0m\u001b[1;33m)\u001b[0m\u001b[1;33m(\u001b[0m\u001b[1;33m)\u001b[0m\u001b[1;33m\u001b[0m\u001b[0m\n",
      "\u001b[0m\u001b[0;32m      3 \u001b[0;31m    \u001b[0mprint\u001b[0m\u001b[1;33m(\u001b[0m\u001b[0melement\u001b[0m\u001b[1;33m.\u001b[0m\u001b[0mname\u001b[0m\u001b[1;33m)\u001b[0m\u001b[1;33m\u001b[0m\u001b[0m\n",
      "\u001b[0m\n",
      "ipdb> exit\n",
      "ko:K01120 ko:K13755 ko:K18283 ko:K19021 ko:K13296 ko:K18438 ko:K13298\n",
      "> \u001b[0;32m<ipython-input-99-deb057f9476f>\u001b[0m(3)\u001b[0;36m<module>\u001b[0;34m()\u001b[0m\n",
      "\u001b[0;32m      1 \u001b[0;31m\u001b[1;32mfor\u001b[0m \u001b[0melement\u001b[0m \u001b[1;32min\u001b[0m \u001b[0mpathway\u001b[0m\u001b[1;33m.\u001b[0m\u001b[0morthologs\u001b[0m\u001b[1;33m:\u001b[0m\u001b[1;33m\u001b[0m\u001b[0m\n",
      "\u001b[0m\u001b[0;32m      2 \u001b[0;31m    \u001b[0mTracer\u001b[0m\u001b[1;33m(\u001b[0m\u001b[1;33m)\u001b[0m\u001b[1;33m(\u001b[0m\u001b[1;33m)\u001b[0m\u001b[1;33m\u001b[0m\u001b[0m\n",
      "\u001b[0m\u001b[0;32m----> 3 \u001b[0;31m    \u001b[0mprint\u001b[0m\u001b[1;33m(\u001b[0m\u001b[0melement\u001b[0m\u001b[1;33m.\u001b[0m\u001b[0mname\u001b[0m\u001b[1;33m)\u001b[0m\u001b[1;33m\u001b[0m\u001b[0m\n",
      "\u001b[0m\n",
      "ipdb> quit\n",
      "ko:K01768 ko:K05851 ko:K05873 ko:K08041 ko:K08042 ko:K08043 ko:K08044 ko:K08045 ko:K08046 ko:K08047 ko:K08048 ko:K08049 ko:K11029 ko:K11265\n",
      "> \u001b[0;32m<ipython-input-99-deb057f9476f>\u001b[0m(2)\u001b[0;36m<module>\u001b[0;34m()\u001b[0m\n",
      "\u001b[0;32m      1 \u001b[0;31m\u001b[1;32mfor\u001b[0m \u001b[0melement\u001b[0m \u001b[1;32min\u001b[0m \u001b[0mpathway\u001b[0m\u001b[1;33m.\u001b[0m\u001b[0morthologs\u001b[0m\u001b[1;33m:\u001b[0m\u001b[1;33m\u001b[0m\u001b[0m\n",
      "\u001b[0m\u001b[0;32m----> 2 \u001b[0;31m    \u001b[0mTracer\u001b[0m\u001b[1;33m(\u001b[0m\u001b[1;33m)\u001b[0m\u001b[1;33m(\u001b[0m\u001b[1;33m)\u001b[0m\u001b[1;33m\u001b[0m\u001b[0m\n",
      "\u001b[0m\u001b[0;32m      3 \u001b[0;31m    \u001b[0mprint\u001b[0m\u001b[1;33m(\u001b[0m\u001b[0melement\u001b[0m\u001b[1;33m.\u001b[0m\u001b[0mname\u001b[0m\u001b[1;33m)\u001b[0m\u001b[1;33m\u001b[0m\u001b[0m\n",
      "\u001b[0m\n",
      "ipdb> quit\n",
      "ko:K00527\n",
      "> \u001b[0;32m<ipython-input-99-deb057f9476f>\u001b[0m(3)\u001b[0;36m<module>\u001b[0;34m()\u001b[0m\n",
      "\u001b[0;32m      1 \u001b[0;31m\u001b[1;32mfor\u001b[0m \u001b[0melement\u001b[0m \u001b[1;32min\u001b[0m \u001b[0mpathway\u001b[0m\u001b[1;33m.\u001b[0m\u001b[0morthologs\u001b[0m\u001b[1;33m:\u001b[0m\u001b[1;33m\u001b[0m\u001b[0m\n",
      "\u001b[0m\u001b[0;32m      2 \u001b[0;31m    \u001b[0mTracer\u001b[0m\u001b[1;33m(\u001b[0m\u001b[1;33m)\u001b[0m\u001b[1;33m(\u001b[0m\u001b[1;33m)\u001b[0m\u001b[1;33m\u001b[0m\u001b[0m\n",
      "\u001b[0m\u001b[0;32m----> 3 \u001b[0;31m    \u001b[0mprint\u001b[0m\u001b[1;33m(\u001b[0m\u001b[0melement\u001b[0m\u001b[1;33m.\u001b[0m\u001b[0mname\u001b[0m\u001b[1;33m)\u001b[0m\u001b[1;33m\u001b[0m\u001b[0m\n",
      "\u001b[0m\n",
      "ipdb> sys.exit()\n",
      "*** NameError: name 'sys' is not defined\n",
      "ipdb> exit()\n",
      "ko:K01510 ko:K14641 ko:K14642\n",
      "> \u001b[0;32m<ipython-input-99-deb057f9476f>\u001b[0m(2)\u001b[0;36m<module>\u001b[0;34m()\u001b[0m\n",
      "\u001b[0;32m      1 \u001b[0;31m\u001b[1;32mfor\u001b[0m \u001b[0melement\u001b[0m \u001b[1;32min\u001b[0m \u001b[0mpathway\u001b[0m\u001b[1;33m.\u001b[0m\u001b[0morthologs\u001b[0m\u001b[1;33m:\u001b[0m\u001b[1;33m\u001b[0m\u001b[0m\n",
      "\u001b[0m\u001b[0;32m----> 2 \u001b[0;31m    \u001b[0mTracer\u001b[0m\u001b[1;33m(\u001b[0m\u001b[1;33m)\u001b[0m\u001b[1;33m(\u001b[0m\u001b[1;33m)\u001b[0m\u001b[1;33m\u001b[0m\u001b[0m\n",
      "\u001b[0m\u001b[0;32m      3 \u001b[0;31m    \u001b[0mprint\u001b[0m\u001b[1;33m(\u001b[0m\u001b[0melement\u001b[0m\u001b[1;33m.\u001b[0m\u001b[0mname\u001b[0m\u001b[1;33m)\u001b[0m\u001b[1;33m\u001b[0m\u001b[0m\n",
      "\u001b[0m\n",
      "ipdb> exit(0\n",
      "ko:K01509\n",
      "> \u001b[0;32m<ipython-input-99-deb057f9476f>\u001b[0m(3)\u001b[0;36m<module>\u001b[0;34m()\u001b[0m\n",
      "\u001b[0;32m      1 \u001b[0;31m\u001b[1;32mfor\u001b[0m \u001b[0melement\u001b[0m \u001b[1;32min\u001b[0m \u001b[0mpathway\u001b[0m\u001b[1;33m.\u001b[0m\u001b[0morthologs\u001b[0m\u001b[1;33m:\u001b[0m\u001b[1;33m\u001b[0m\u001b[0m\n",
      "\u001b[0m\u001b[0;32m      2 \u001b[0;31m    \u001b[0mTracer\u001b[0m\u001b[1;33m(\u001b[0m\u001b[1;33m)\u001b[0m\u001b[1;33m(\u001b[0m\u001b[1;33m)\u001b[0m\u001b[1;33m\u001b[0m\u001b[0m\n",
      "\u001b[0m\u001b[0;32m----> 3 \u001b[0;31m    \u001b[0mprint\u001b[0m\u001b[1;33m(\u001b[0m\u001b[0melement\u001b[0m\u001b[1;33m.\u001b[0m\u001b[0mname\u001b[0m\u001b[1;33m)\u001b[0m\u001b[1;33m\u001b[0m\u001b[0m\n",
      "\u001b[0m\n",
      "ipdb> os._exit(1)\n"
     ]
    }
   ],
   "source": [
    "for element in pathway.orthologs:\n",
    "    Tracer()()\n",
    "    print(element.name)"
   ]
  },
  {
   "cell_type": "code",
   "execution_count": null,
   "metadata": {
    "collapsed": true
   },
   "outputs": [],
   "source": []
  },
  {
   "cell_type": "code",
   "execution_count": null,
   "metadata": {
    "collapsed": true
   },
   "outputs": [],
   "source": []
  },
  {
   "cell_type": "code",
   "execution_count": null,
   "metadata": {
    "collapsed": true
   },
   "outputs": [],
   "source": []
  },
  {
   "cell_type": "code",
   "execution_count": null,
   "metadata": {
    "collapsed": true
   },
   "outputs": [],
   "source": []
  },
  {
   "cell_type": "code",
   "execution_count": 55,
   "metadata": {
    "collapsed": false,
    "scrolled": true
   },
   "outputs": [
    {
     "data": {
      "image/png": "[encoded data removed]",
      "text/plain": [
       "<IPython.core.display.Image object>"
      ]
     },
     "execution_count": 55,
     "metadata": {},
     "output_type": "execute_result"
    }
   ],
   "source": [
    "Image(kegg_get('pmg00230','image').read())"
   ]
  },
  {
   "cell_type": "code",
   "execution_count": null,
   "metadata": {
    "collapsed": true
   },
   "outputs": [],
   "source": []
  },
  {
   "cell_type": "code",
   "execution_count": 53,
   "metadata": {
    "collapsed": false
   },
   "outputs": [
    {
     "data": {
      "text/plain": [
       "'path:pmg00010\\tGlycolysis / Gluconeogenesis - Prochlorococcus marinus MIT 9301\\npath:pmg00020\\tCitrate cycle (TCA cycle) - Prochlorococcus marinus MIT 9301\\npath:pmg00030\\tPentose phosphate pathway - Prochlorococcus marinus MIT 9301\\npath:pmg00040\\tPentose and glucuronate interconversions - Prochlorococcus marinus MIT 9301\\npath:pmg00051\\tFructose and mannose metabolism - Prochlorococcus marinus MIT 9301\\npath:pmg00052\\tGalactose metabolism - Prochlorococcus marinus MIT 9301\\npath:pmg00053\\tAscorbate and aldarate metabolism - Prochlorococcus marinus MIT 9301\\npath:pmg00061\\tFatty acid biosynthesis - Prochlorococcus marinus MIT 9301\\npath:pmg00130\\tUbiquinone and other terpenoid-quinone biosynthesis - Prochlorococcus marinus MIT 9301\\npath:pmg00190\\tOxidative phosphorylation - Prochlorococcus marinus MIT 9301\\npath:pmg00195\\tPhotosynthesis - Prochlorococcus marinus MIT 9301\\npath:pmg00196\\tPhotosynthesis - antenna proteins - Prochlorococcus marinus MIT 9301\\npath:pmg00220\\tArginine biosynthesis - Prochlorococcus marinus MIT 9301\\npath:pmg00230\\tPurine metabolism - Prochlorococcus marinus MIT 9301\\npath:pmg00240\\tPyrimidine metabolism - Prochlorococcus marinus MIT 9301\\npath:pmg00250\\tAlanine, aspartate and glutamate metabolism - Prochlorococcus marinus MIT 9301\\npath:pmg00260\\tGlycine, serine and threonine metabolism - Prochlorococcus marinus MIT 9301\\npath:pmg00261\\tMonobactam biosynthesis - Prochlorococcus marinus MIT 9301\\npath:pmg00270\\tCysteine and methionine metabolism - Prochlorococcus marinus MIT 9301\\npath:pmg00280\\tValine, leucine and isoleucine degradation - Prochlorococcus marinus MIT 9301\\npath:pmg00290\\tValine, leucine and isoleucine biosynthesis - Prochlorococcus marinus MIT 9301\\npath:pmg00300\\tLysine biosynthesis - Prochlorococcus marinus MIT 9301\\npath:pmg00330\\tArginine and proline metabolism - Prochlorococcus marinus MIT 9301\\npath:pmg00332\\tCarbapenem biosynthesis - Prochlorococcus marinus MIT 9301\\npath:pmg00340\\tHistidine metabolism - Prochlorococcus marinus MIT 9301\\npath:pmg00350\\tTyrosine metabolism - Prochlorococcus marinus MIT 9301\\npath:pmg00360\\tPhenylalanine metabolism - Prochlorococcus marinus MIT 9301\\npath:pmg00361\\tChlorocyclohexane and chlorobenzene degradation - Prochlorococcus marinus MIT 9301\\npath:pmg00364\\tFluorobenzoate degradation - Prochlorococcus marinus MIT 9301\\npath:pmg00400\\tPhenylalanine, tyrosine and tryptophan biosynthesis - Prochlorococcus marinus MIT 9301\\npath:pmg00401\\tNovobiocin biosynthesis - Prochlorococcus marinus MIT 9301\\npath:pmg00410\\tbeta-Alanine metabolism - Prochlorococcus marinus MIT 9301\\npath:pmg00450\\tSelenocompound metabolism - Prochlorococcus marinus MIT 9301\\npath:pmg00460\\tCyanoamino acid metabolism - Prochlorococcus marinus MIT 9301\\npath:pmg00471\\tD-Glutamine and D-glutamate metabolism - Prochlorococcus marinus MIT 9301\\npath:pmg00472\\tD-Arginine and D-ornithine metabolism - Prochlorococcus marinus MIT 9301\\npath:pmg00473\\tD-Alanine metabolism - Prochlorococcus marinus MIT 9301\\npath:pmg00480\\tGlutathione metabolism - Prochlorococcus marinus MIT 9301\\npath:pmg00500\\tStarch and sucrose metabolism - Prochlorococcus marinus MIT 9301\\npath:pmg00520\\tAmino sugar and nucleotide sugar metabolism - Prochlorococcus marinus MIT 9301\\npath:pmg00521\\tStreptomycin biosynthesis - Prochlorococcus marinus MIT 9301\\npath:pmg00540\\tLipopolysaccharide biosynthesis - Prochlorococcus marinus MIT 9301\\npath:pmg00550\\tPeptidoglycan biosynthesis - Prochlorococcus marinus MIT 9301\\npath:pmg00561\\tGlycerolipid metabolism - Prochlorococcus marinus MIT 9301\\npath:pmg00562\\tInositol phosphate metabolism - Prochlorococcus marinus MIT 9301\\npath:pmg00564\\tGlycerophospholipid metabolism - Prochlorococcus marinus MIT 9301\\npath:pmg00590\\tArachidonic acid metabolism - Prochlorococcus marinus MIT 9301\\npath:pmg00620\\tPyruvate metabolism - Prochlorococcus marinus MIT 9301\\npath:pmg00623\\tToluene degradation - Prochlorococcus marinus MIT 9301\\npath:pmg00627\\tAminobenzoate degradation - Prochlorococcus marinus MIT 9301\\npath:pmg00630\\tGlyoxylate and dicarboxylate metabolism - Prochlorococcus marinus MIT 9301\\npath:pmg00640\\tPropanoate metabolism - Prochlorococcus marinus MIT 9301\\npath:pmg00643\\tStyrene degradation - Prochlorococcus marinus MIT 9301\\npath:pmg00650\\tButanoate metabolism - Prochlorococcus marinus MIT 9301\\npath:pmg00660\\tC5-Branched dibasic acid metabolism - Prochlorococcus marinus MIT 9301\\npath:pmg00670\\tOne carbon pool by folate - Prochlorococcus marinus MIT 9301\\npath:pmg00680\\tMethane metabolism - Prochlorococcus marinus MIT 9301\\npath:pmg00710\\tCarbon fixation in photosynthetic organisms - Prochlorococcus marinus MIT 9301\\npath:pmg00730\\tThiamine metabolism - Prochlorococcus marinus MIT 9301\\npath:pmg00740\\tRiboflavin metabolism - Prochlorococcus marinus MIT 9301\\npath:pmg00750\\tVitamin B6 metabolism - Prochlorococcus marinus MIT 9301\\npath:pmg00760\\tNicotinate and nicotinamide metabolism - Prochlorococcus marinus MIT 9301\\npath:pmg00770\\tPantothenate and CoA biosynthesis - Prochlorococcus marinus MIT 9301\\npath:pmg00780\\tBiotin metabolism - Prochlorococcus marinus MIT 9301\\npath:pmg00785\\tLipoic acid metabolism - Prochlorococcus marinus MIT 9301\\npath:pmg00790\\tFolate biosynthesis - Prochlorococcus marinus MIT 9301\\npath:pmg00860\\tPorphyrin and chlorophyll metabolism - Prochlorococcus marinus MIT 9301\\npath:pmg00900\\tTerpenoid backbone biosynthesis - Prochlorococcus marinus MIT 9301\\npath:pmg00906\\tCarotenoid biosynthesis - Prochlorococcus marinus MIT 9301\\npath:pmg00910\\tNitrogen metabolism - Prochlorococcus marinus MIT 9301\\npath:pmg00920\\tSulfur metabolism - Prochlorococcus marinus MIT 9301\\npath:pmg00970\\tAminoacyl-tRNA biosynthesis - Prochlorococcus marinus MIT 9301\\npath:pmg01040\\tBiosynthesis of unsaturated fatty acids - Prochlorococcus marinus MIT 9301\\npath:pmg01100\\tMetabolic pathways - Prochlorococcus marinus MIT 9301\\npath:pmg01110\\tBiosynthesis of secondary metabolites - Prochlorococcus marinus MIT 9301\\npath:pmg01120\\tMicrobial metabolism in diverse environments - Prochlorococcus marinus MIT 9301\\npath:pmg01130\\tBiosynthesis of antibiotics - Prochlorococcus marinus MIT 9301\\npath:pmg01200\\tCarbon metabolism - Prochlorococcus marinus MIT 9301\\npath:pmg01210\\t2-Oxocarboxylic acid metabolism - Prochlorococcus marinus MIT 9301\\npath:pmg01212\\tFatty acid metabolism - Prochlorococcus marinus MIT 9301\\npath:pmg01230\\tBiosynthesis of amino acids - Prochlorococcus marinus MIT 9301\\npath:pmg01501\\tbeta-Lactam resistance - Prochlorococcus marinus MIT 9301\\npath:pmg01502\\tVancomycin resistance - Prochlorococcus marinus MIT 9301\\npath:pmg01503\\tCationic antimicrobial peptide (CAMP) resistance - Prochlorococcus marinus MIT 9301\\npath:pmg02010\\tABC transporters - Prochlorococcus marinus MIT 9301\\npath:pmg02020\\tTwo-component system - Prochlorococcus marinus MIT 9301\\npath:pmg02024\\tQuorum sensing - Prochlorococcus marinus MIT 9301\\npath:pmg03010\\tRibosome - Prochlorococcus marinus MIT 9301\\npath:pmg03018\\tRNA degradation - Prochlorococcus marinus MIT 9301\\npath:pmg03020\\tRNA polymerase - Prochlorococcus marinus MIT 9301\\npath:pmg03030\\tDNA replication - Prochlorococcus marinus MIT 9301\\npath:pmg03060\\tProtein export - Prochlorococcus marinus MIT 9301\\npath:pmg03070\\tBacterial secretion system - Prochlorococcus marinus MIT 9301\\npath:pmg03410\\tBase excision repair - Prochlorococcus marinus MIT 9301\\npath:pmg03420\\tNucleotide excision repair - Prochlorococcus marinus MIT 9301\\npath:pmg03430\\tMismatch repair - Prochlorococcus marinus MIT 9301\\npath:pmg03440\\tHomologous recombination - Prochlorococcus marinus MIT 9301\\npath:pmg04122\\tSulfur relay system - Prochlorococcus marinus MIT 9301\\n'"
      ]
     },
     "execution_count": 53,
     "metadata": {},
     "output_type": "execute_result"
    }
   ],
   "source": [
    "kegg_list('pathway','pmg').read()"
   ]
  },
  {
   "cell_type": "code",
   "execution_count": null,
   "metadata": {
    "collapsed": true
   },
   "outputs": [],
   "source": []
  },
  {
   "cell_type": "code",
   "execution_count": null,
   "metadata": {
    "collapsed": true
   },
   "outputs": [],
   "source": []
  },
  {
   "cell_type": "code",
   "execution_count": null,
   "metadata": {
    "collapsed": true
   },
   "outputs": [],
   "source": []
  },
  {
   "cell_type": "code",
   "execution_count": null,
   "metadata": {
    "collapsed": true
   },
   "outputs": [],
   "source": []
  },
  {
   "cell_type": "code",
   "execution_count": null,
   "metadata": {
    "collapsed": true
   },
   "outputs": [],
   "source": []
  },
  {
   "cell_type": "code",
   "execution_count": 33,
   "metadata": {
    "collapsed": false
   },
   "outputs": [
    {
     "data": {
      "text/plain": [
       "['C00002',\n",
       " 'C00008',\n",
       " 'C00011',\n",
       " 'C00014',\n",
       " 'C00020',\n",
       " 'C00035',\n",
       " 'C00037',\n",
       " 'C00039',\n",
       " 'C00044',\n",
       " 'C00046',\n",
       " 'C00048',\n",
       " 'C00053',\n",
       " 'C00054',\n",
       " 'C00059',\n",
       " 'C00064',\n",
       " 'C00081',\n",
       " 'C00086',\n",
       " 'C00104',\n",
       " 'C00117',\n",
       " 'C00119',\n",
       " 'C00130',\n",
       " 'C00131',\n",
       " 'C00144',\n",
       " 'C00147',\n",
       " 'C00169',\n",
       " 'C00206',\n",
       " 'C00212',\n",
       " 'C00224',\n",
       " 'C00242',\n",
       " 'C00262',\n",
       " 'C00286',\n",
       " 'C00294',\n",
       " 'C00301',\n",
       " 'C00330',\n",
       " 'C00360',\n",
       " 'C00361',\n",
       " 'C00362',\n",
       " 'C00366',\n",
       " 'C00385',\n",
       " 'C00387',\n",
       " 'C00499',\n",
       " 'C00559',\n",
       " 'C00575',\n",
       " 'C00603',\n",
       " 'C00620',\n",
       " 'C00655',\n",
       " 'C00700',\n",
       " 'C00802',\n",
       " 'C00942',\n",
       " 'C01228',\n",
       " 'C01260',\n",
       " 'C01261',\n",
       " 'C01344',\n",
       " 'C01345',\n",
       " 'C01367',\n",
       " 'C01762',\n",
       " 'C02091',\n",
       " 'C02348',\n",
       " 'C02350',\n",
       " 'C02353',\n",
       " 'C02718',\n",
       " 'C03090',\n",
       " 'C03373',\n",
       " 'C03483',\n",
       " 'C03614',\n",
       " 'C03794',\n",
       " 'C03838',\n",
       " 'C04051',\n",
       " 'C04376',\n",
       " 'C04392',\n",
       " 'C04494',\n",
       " 'C04640',\n",
       " 'C04677',\n",
       " 'C04734',\n",
       " 'C04751',\n",
       " 'C04823',\n",
       " 'C05239',\n",
       " 'C05512',\n",
       " 'C05513',\n",
       " 'C05515',\n",
       " 'C05516',\n",
       " 'C05993',\n",
       " 'C06193',\n",
       " 'C06194',\n",
       " 'C06195',\n",
       " 'C06196',\n",
       " 'C06197',\n",
       " 'C06433',\n",
       " 'C06435',\n",
       " 'C11821',\n",
       " 'C12248',\n",
       " 'C15667']"
      ]
     },
     "execution_count": 33,
     "metadata": {},
     "output_type": "execute_result"
    }
   ],
   "source": [
    "getCfrom_ko('pmg00230')"
   ]
  },
  {
   "cell_type": "code",
   "execution_count": null,
   "metadata": {
    "collapsed": true
   },
   "outputs": [],
   "source": []
  },
  {
   "cell_type": "code",
   "execution_count": null,
   "metadata": {
    "collapsed": true
   },
   "outputs": [],
   "source": []
  },
  {
   "cell_type": "code",
   "execution_count": null,
   "metadata": {
    "collapsed": true
   },
   "outputs": [],
   "source": []
  },
  {
   "cell_type": "code",
   "execution_count": null,
   "metadata": {
    "collapsed": true
   },
   "outputs": [],
   "source": []
  },
  {
   "cell_type": "code",
   "execution_count": null,
   "metadata": {
    "collapsed": true
   },
   "outputs": [],
   "source": []
  }
 ],
 "metadata": {
  "anaconda-cloud": {},
  "kernelspec": {
   "display_name": "Python [conda root]",
   "language": "python",
   "name": "conda-root-py"
  },
  "language_info": {
   "codemirror_mode": {
    "name": "ipython",
    "version": 3
   },
   "file_extension": ".py",
   "mimetype": "text/x-python",
   "name": "python",
   "nbconvert_exporter": "python",
   "pygments_lexer": "ipython3",
   "version": "3.5.2"
  }
 },
 "nbformat": 4,
 "nbformat_minor": 1
}
